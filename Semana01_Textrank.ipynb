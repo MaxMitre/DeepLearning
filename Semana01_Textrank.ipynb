{
  "cells": [
    {
      "cell_type": "markdown",
      "source": [
        "[![Open In Colab](https://colab.research.google.com/assets/colab-badge.svg)](https://colab.research.google.com/github/MaxMitre/DeepLearning/blob/main/Semana01_Textrank.ipynb)"
      ],
      "metadata": {
        "id": "ezodhPcGsyuh"
      }
    },
    {
      "cell_type": "markdown",
      "metadata": {
        "id": "ccYq5VAqlz-T"
      },
      "source": [
        "## Implementación de TextRank para la obtención de resúmenes"
      ]
    },
    {
      "cell_type": "markdown",
      "metadata": {
        "id": "QkXRhT3nlsuC"
      },
      "source": [
        "En este Notebook se implementará TextRank para obtener un resumen con las oraciones clave de todo un texto."
      ]
    },
    {
      "cell_type": "markdown",
      "metadata": {
        "id": "CDdVl3jFU6pW"
      },
      "source": [
        "# Dependencias"
      ]
    },
    {
      "cell_type": "code",
      "execution_count": null,
      "metadata": {
        "id": "m5panRZIU04F"
      },
      "outputs": [],
      "source": [
        "%%capture\n",
        "!pip install wikipedia git+https://github.com/neuml/txtai#egg=txtai[pipeline]"
      ]
    },
    {
      "cell_type": "code",
      "execution_count": null,
      "metadata": {
        "id": "Lgm_83kCa_LO"
      },
      "outputs": [],
      "source": [
        "# PUEDE ser necesario utilizar una versión anterior de pillow\n",
        "#!pip install Pillow==9.0.0"
      ]
    },
    {
      "cell_type": "code",
      "execution_count": null,
      "metadata": {
        "id": "S_urJE6MrUmm"
      },
      "outputs": [],
      "source": [
        "import re\n",
        "\n",
        "import pandas as pd\n",
        "import numpy as np\n",
        "import scipy.linalg as splinalg\n",
        "\n",
        "import nltk\n",
        "from nltk.tokenize import sent_tokenize, word_tokenize\n",
        "from nltk.corpus import stopwords\n",
        "from nltk.stem import PorterStemmer, WordNetLemmatizer\n",
        "\n",
        "import wikipedia\n",
        "\n",
        "from txtai.pipeline import Translation"
      ]
    },
    {
      "cell_type": "code",
      "execution_count": null,
      "metadata": {
        "id": "UxckIS4y1EMR",
        "colab": {
          "base_uri": "https://localhost:8080/"
        },
        "outputId": "a6b2adb7-d7f3-4c97-ae22-95587c61eeeb"
      },
      "outputs": [
        {
          "output_type": "stream",
          "name": "stderr",
          "text": [
            "[nltk_data] Downloading package punkt to /root/nltk_data...\n",
            "[nltk_data]   Unzipping tokenizers/punkt.zip.\n",
            "[nltk_data] Downloading package stopwords to /root/nltk_data...\n",
            "[nltk_data]   Unzipping corpora/stopwords.zip.\n"
          ]
        },
        {
          "output_type": "execute_result",
          "data": {
            "text/plain": [
              "True"
            ]
          },
          "metadata": {},
          "execution_count": 5
        }
      ],
      "source": [
        "nltk.download(\"punkt\")\n",
        "nltk.download('stopwords')"
      ]
    },
    {
      "cell_type": "code",
      "execution_count": null,
      "metadata": {
        "id": "Ov9GnghY7iv1",
        "colab": {
          "base_uri": "https://localhost:8080/"
        },
        "outputId": "2e2c899a-cb63-43b4-deda-ebd9c734a704"
      },
      "outputs": [
        {
          "output_type": "stream",
          "name": "stdout",
          "text": [
            "['i', 'me', 'my', 'myself', 'we', 'our', 'ours', 'ourselves', 'you', \"you're\"]\n"
          ]
        },
        {
          "output_type": "stream",
          "name": "stderr",
          "text": [
            "/usr/local/lib/python3.10/dist-packages/huggingface_hub/utils/_token.py:89: UserWarning: \n",
            "The secret `HF_TOKEN` does not exist in your Colab secrets.\n",
            "To authenticate with the Hugging Face Hub, create a token in your settings tab (https://huggingface.co/settings/tokens), set it as secret in your Google Colab and restart your session.\n",
            "You will be able to reuse this secret in all of your notebooks.\n",
            "Please note that authentication is recommended but still optional to access public models or datasets.\n",
            "  warnings.warn(\n"
          ]
        }
      ],
      "source": [
        "# Radicalizador\n",
        "stemmer = PorterStemmer()\n",
        "\n",
        "# Lematizador (solo para mostrarles como funciona)\n",
        "lemma = WordNetLemmatizer()\n",
        "\n",
        "# Palabras de paro\n",
        "cached_stopwords = stopwords.words('english')\n",
        "print(cached_stopwords[:10])\n",
        "\n",
        "# Traductor\n",
        "translate = Translation()"
      ]
    },
    {
      "cell_type": "code",
      "execution_count": null,
      "metadata": {
        "id": "_ywfCztxZ8fd",
        "colab": {
          "base_uri": "https://localhost:8080/",
          "height": 326,
          "referenced_widgets": [
            "50c62c1a279d4976a7b362e476b5177d",
            "e36ad2d18d9f4f9498b443ba237af9b4",
            "7611135fabc546639d2a009bd3b96b92",
            "e2947403ec29426e8b6d983953d63efb",
            "513c20d5a5494bfdbd02bf81b447c72d",
            "3965cade2e7c4e2e90a7da34d4bab236",
            "d3c59950cda34594b501795073bf1d8e",
            "e8f76204151f4c3bbd8ee36e57b776d9",
            "19c73f57284d4699b3d5063ccf8220ee",
            "c971c266341c4d64ba66fbd2a4960388",
            "6a5ca5b63ef64c8f9f3942a7388b87fa",
            "2504bb618f61452b82768797d3d5df64",
            "859664c6fd9a4ef4a246df7b1c5c93a1",
            "f26a24217f5e46c9979a97019e727e4b",
            "e2faf4f92c004e57a2d423f7a394fa64",
            "d24129f4b5014cb7a1489c82ddcbad08",
            "56524cd70d7c4d5d8a9577464dbeff92",
            "31585bf4f2654b06b02730870ac2564f",
            "00c92f37710e47aeb40e8cf1a0bf069f",
            "60c957b9225c4db79eb8d6ee6a1faa9d",
            "b046f4b4ca04450981824c1288afe8a6",
            "54e3876cea904b879f0c53307af7c79c",
            "283bc75caa344643a1f071be54334b36",
            "542315587cf7453dba0fe19e2b5f2dd5",
            "b6b4419b030945e3b1c2a74a187911fc",
            "c72621c3434b44c096bd61fe1ef77e16",
            "257d0102515b4cd28af9162987dab7b6",
            "5918b06854ff4476be5439e1dfff57ef",
            "7d5fb8939b844c10a5db086384a297bc",
            "8166ae1cf2f345a7b8e71464e0738fb2",
            "44e45279206f446793f26c37fbfe9e96",
            "bfb4b8d21b2f4b338f5dc04c31172ad2",
            "464debebf8624b3e92776e4b19f418af",
            "b186694139bc42f79cbae5f445a63ca6",
            "8b9c70b8eff94d5b963072fbbbc5faab",
            "a632342b7c2645b4994636e5b698f3cb",
            "5bca9c8372734222b92e8d03068d4bf5",
            "3aa649daae0b4dfbbccef40713993992",
            "7663b7f0142c4bc191c70e64ca2adb28",
            "28834533f8f145a4b57ffc2fb290dd1d",
            "928e1be2534e428aafa76d623bce4b3a",
            "37f9c4d3e95849c392aae4b54dfdd935",
            "d7007676c348427b95c2614537b7f2ed",
            "fd20ab2a51f4412480a1d60708adb8e7",
            "845fef182d8c4ba6b5fe287f77f33355",
            "47d9c661db6a4e50bc59931ad675f6c6",
            "19698b2df6d14266952feb15567c8093",
            "c2c1886b24f847bab3f68d83c61010d2",
            "99434bec0c074307afc9091fd9adcde0",
            "b9e69b472eae43ae9b9303a329fe45b3",
            "cd5d45bc635a4dffbbb9058af93cddbd",
            "00f02a34634e481ea461dc27e094107c",
            "a1f2d266317c49fcac8233c27c637886",
            "f7fbfa5d636842cd970bf994381a57c3",
            "3ae0efa8eee545f48456b16b33c313e3",
            "0822c7f1dba54ef9bc3207fec89e173a",
            "2c3abf124ec2428b8097d31841a93916",
            "18f6d95bcf0746108bc80314cf65a60d",
            "8893e5afe4a54d0f8a3795c8c6a25376",
            "1e31263314714652a0b287a60524d2b3",
            "654b3a71b88f415a80764096aaf04da6",
            "cd5afdf620e14c2b976821f655c1c926",
            "a66a01a0d41d4cc9a86b0bead04010c0",
            "345118b3479c4c6f8b4f81845c5d700a",
            "a6824175345c4cdea7498318e4fe41e1",
            "c6f88d637c8240f7bf5a2a86bebd54bc",
            "4b7b356d078044d4bb916d1138b3d9a4",
            "04923835946e4f9ba3a1c9a937186c53",
            "1163d8e770594f2096ea6f266584d995",
            "3fcbbc0a794e4c01884138691323552b",
            "abc1a78aeea04392b04f0f129d582103",
            "80416eaca3a347e38520406051f2e399",
            "9597754cc0f94d819cd7663dc619ace7",
            "b6ed266dcbab4f11afe7204fabb1812d",
            "4ee70260f05b4de586c09b506394c1e2",
            "3f5e59e65ee842aab19844537305eb9c",
            "5bd9eaef1ec04b27bb81256a5c1288da",
            "d2a9499ef8e8483ebbbd26cc0f79029d",
            "f25a07bde2da4503bc378524f07cc19c",
            "89843a7d4e0f4bc895d3b7a7b1c63d1f",
            "5fc3560c69104a94bc158fc1a7ee6cc3",
            "482c1da196ce4550aa10ff812e62807c",
            "5041da49ee4d4569afc3ed28dd986cd8",
            "43b49cb51dc54ed19aeec457c2c9bd15",
            "7668ee6fe0734e3ea3caefeba2da0477",
            "59a4980dd1a74e3c9f9579a6c3e7e232",
            "4f2a13d1738341c293eb8cb9fcdec855",
            "d193f66239ad485d9c75a13a4f68de05"
          ]
        },
        "outputId": "3d824a8c-c128-4df4-e13e-a324e304817d"
      },
      "outputs": [
        {
          "output_type": "display_data",
          "data": {
            "text/plain": [
              "(…)m/fasttext/supervised-models/lid.176.ftz:   0%|          | 0.00/938k [00:00<?, ?B/s]"
            ],
            "application/vnd.jupyter.widget-view+json": {
              "version_major": 2,
              "version_minor": 0,
              "model_id": "50c62c1a279d4976a7b362e476b5177d"
            }
          },
          "metadata": {}
        },
        {
          "output_type": "display_data",
          "data": {
            "text/plain": [
              "config.json:   0%|          | 0.00/1.47k [00:00<?, ?B/s]"
            ],
            "application/vnd.jupyter.widget-view+json": {
              "version_major": 2,
              "version_minor": 0,
              "model_id": "2504bb618f61452b82768797d3d5df64"
            }
          },
          "metadata": {}
        },
        {
          "output_type": "display_data",
          "data": {
            "text/plain": [
              "pytorch_model.bin:   0%|          | 0.00/312M [00:00<?, ?B/s]"
            ],
            "application/vnd.jupyter.widget-view+json": {
              "version_major": 2,
              "version_minor": 0,
              "model_id": "283bc75caa344643a1f071be54334b36"
            }
          },
          "metadata": {}
        },
        {
          "output_type": "display_data",
          "data": {
            "text/plain": [
              "generation_config.json:   0%|          | 0.00/293 [00:00<?, ?B/s]"
            ],
            "application/vnd.jupyter.widget-view+json": {
              "version_major": 2,
              "version_minor": 0,
              "model_id": "b186694139bc42f79cbae5f445a63ca6"
            }
          },
          "metadata": {}
        },
        {
          "output_type": "display_data",
          "data": {
            "text/plain": [
              "tokenizer_config.json:   0%|          | 0.00/44.0 [00:00<?, ?B/s]"
            ],
            "application/vnd.jupyter.widget-view+json": {
              "version_major": 2,
              "version_minor": 0,
              "model_id": "845fef182d8c4ba6b5fe287f77f33355"
            }
          },
          "metadata": {}
        },
        {
          "output_type": "display_data",
          "data": {
            "text/plain": [
              "source.spm:   0%|          | 0.00/802k [00:00<?, ?B/s]"
            ],
            "application/vnd.jupyter.widget-view+json": {
              "version_major": 2,
              "version_minor": 0,
              "model_id": "0822c7f1dba54ef9bc3207fec89e173a"
            }
          },
          "metadata": {}
        },
        {
          "output_type": "display_data",
          "data": {
            "text/plain": [
              "target.spm:   0%|          | 0.00/826k [00:00<?, ?B/s]"
            ],
            "application/vnd.jupyter.widget-view+json": {
              "version_major": 2,
              "version_minor": 0,
              "model_id": "4b7b356d078044d4bb916d1138b3d9a4"
            }
          },
          "metadata": {}
        },
        {
          "output_type": "display_data",
          "data": {
            "text/plain": [
              "vocab.json:   0%|          | 0.00/1.59M [00:00<?, ?B/s]"
            ],
            "application/vnd.jupyter.widget-view+json": {
              "version_major": 2,
              "version_minor": 0,
              "model_id": "d2a9499ef8e8483ebbbd26cc0f79029d"
            }
          },
          "metadata": {}
        },
        {
          "output_type": "stream",
          "name": "stderr",
          "text": [
            "/usr/local/lib/python3.10/dist-packages/transformers/models/marian/tokenization_marian.py:175: UserWarning: Recommended: pip install sacremoses.\n",
            "  warnings.warn(\"Recommended: pip install sacremoses.\")\n"
          ]
        },
        {
          "output_type": "execute_result",
          "data": {
            "text/plain": [
              "'Tengo'"
            ],
            "application/vnd.google.colaboratory.intrinsic+json": {
              "type": "string"
            }
          },
          "metadata": {},
          "execution_count": 7
        }
      ],
      "source": [
        "translate('i have', 'es')"
      ]
    },
    {
      "cell_type": "markdown",
      "metadata": {
        "id": "JwDvQ9CVdAlP"
      },
      "source": [
        "Ejemplo de Radicalizar vs Stemmizar"
      ]
    },
    {
      "cell_type": "code",
      "execution_count": null,
      "metadata": {
        "id": "xFdxC88GeOO0",
        "colab": {
          "base_uri": "https://localhost:8080/"
        },
        "outputId": "37c5c935-96f5-4d38-a448-ff442c9ee9b3"
      },
      "outputs": [
        {
          "output_type": "stream",
          "name": "stderr",
          "text": [
            "[nltk_data] Downloading package wordnet to /root/nltk_data...\n",
            "[nltk_data] Downloading package omw-1.4 to /root/nltk_data...\n"
          ]
        },
        {
          "output_type": "execute_result",
          "data": {
            "text/plain": [
              "True"
            ]
          },
          "metadata": {},
          "execution_count": 8
        }
      ],
      "source": [
        "nltk.download('wordnet')\n",
        "nltk.download('omw-1.4')"
      ]
    },
    {
      "cell_type": "code",
      "execution_count": null,
      "metadata": {
        "id": "iUXCJCTQdAE8",
        "colab": {
          "base_uri": "https://localhost:8080/"
        },
        "outputId": "3e8ba28f-7bc2-4640-c8fd-747512e97cc1"
      },
      "outputs": [
        {
          "output_type": "stream",
          "name": "stdout",
          "text": [
            "i have two feet, but some people only got one foot.\n",
            "-----------\n",
            "i have two feet, but some people only got one foot.\n",
            "foot\n",
            "foot\n",
            "---------------\n",
            "constitut\n"
          ]
        }
      ],
      "source": [
        "muestra = 'i have two feet, but some people only got one foot.'\n",
        "print(stemmer.stem(muestra))\n",
        "print('-----------')\n",
        "print(lemma.lemmatize(muestra))\n",
        "\n",
        "print(lemma.lemmatize('foot'))\n",
        "print(lemma.lemmatize('feet'))\n",
        "print('---------------')\n",
        "print(stemmer.stem('constitutional'))"
      ]
    },
    {
      "cell_type": "markdown",
      "metadata": {
        "id": "WyYn_meLU_SE"
      },
      "source": [
        "# Datos"
      ]
    },
    {
      "cell_type": "markdown",
      "metadata": {
        "id": "rxh6OST4lp95"
      },
      "source": [
        "Los datos que ocuparemos serán el texto de páginas de Wikipedia. Descargaremos el texto ocupando el módulo [```wikipedia```](https://pypi.org/project/wikipedia/) que es un \"wrapper\" del API de Wikipedia. A este texto lo dividiremos en oraciones, procesaremos cada oración, radicalizaremos cada palabra, y aplicaremos TextRank para obtener las oraciones más importantes de todo el documento."
      ]
    },
    {
      "cell_type": "markdown",
      "metadata": {
        "id": "qpg8u735nGUj"
      },
      "source": [
        "## Lectura de los datos"
      ]
    },
    {
      "cell_type": "markdown",
      "metadata": {
        "id": "ADUkdhJmnQK0"
      },
      "source": [
        "Descargamos un artículos de Wikipedia."
      ]
    },
    {
      "cell_type": "code",
      "execution_count": null,
      "metadata": {
        "id": "JXH8g08gSHAO",
        "colab": {
          "base_uri": "https://localhost:8080/"
        },
        "outputId": "26c3f8b8-15d4-4c51-9c43-38c48a1307a2"
      },
      "outputs": [
        {
          "output_type": "stream",
          "name": "stdout",
          "text": [
            "The Mexican oil expropriation (Spanish: expropiación petrolera) was the nationalization of all petroleum reserves, facilities, and foreign oil companies in Mexico on March 18, 1938.  In accordance with Article 27 of the Constitution of 1917, President Lázaro Cárdenas declared that all mineral and oil reserves found within Mexico belong to \"the nation\", i.e., the federal government. The Mexican government established a state-owned petroleum company, Petróleos Mexicanos, or PEMEX.  For a short period, this measure caused an international boycott of Mexican products in the following years, especially by the United States, the United Kingdom, and the Netherlands, but with the outbreak of World War II and the alliance between Mexico and the Allies, the disputes with private companies over compensation were resolved. The anniversary, March 18, is now a Mexican civic holiday.\n",
            "\n",
            "On August 16, 1935, the Petroleum Workers Union of Mexico (Sindicato de Trabajadores Petroleros de la República Mexicana) was formed and one of the first actions was the writing of a lengthy draft contract transmitted to the petroleum companies demanding a 40-hour working week, a full salary paid in the event of sickness, and the payment of 65 million pesos towards benefits and wages. The foreign oil companies refused to sign the agreement, and counter offered with a payment of 14 million pesos toward wages and benefits.\n",
            "On November 3, 1937, the union demanded that the companies sign the collective agreement and on May 17, the union summoned a strike in case their demands were not met. On May 28 the strike became effective throughout the country.\n",
            "The petroleum workers' struggle was well regarded by the President and the population despite problems caused by the petroleum shortage. Due to these problems, the union accepted a lift of the strike on June 9, after the president urged them to present their case before the General Arbitration and Conciliation Board (Junta General de Conciliación y Arbitraje). In July, as instructed by the arbitration board, a commission of financial experts was formed that investigated the petroleum companies' finances, concluding that their profits easily permitted them to cover the demands of the workers. The report stated that just one company (El Aguila) had received annual profits of over 55 million pesos. The arbitration board concluded that the oil companies should pay 26 million pesos for wages and benefits to the workers. \n",
            "The companies, however, insisted the demands would cripple production and bankrupt them, and refused to pay. The president once again intervened to mediate between the parties, and met with oil company representatives at the National Palace on September 2. In this meeting, one of the El Aguila representatives took issue with the description of it being a foreign company, and stated that El Aguila was a Mexican company. In response, Jesus Silva Herzog (present in the meeting) responded with a financial newspaper from London that cited a report from the Royal Dutch Shell of 1928: \"Our Mexican subsidiary, Oil Company El Aguila, has obtained good returns during the last fiscal cycle.\" It was also explained that El Aguila de Mexico would set the price of an oil barrel at 1.96 when sold to The Eagle Shipping company. This price was below the market value of US$3.19 per barrel. This way profits would be hidden to the Mexican treasury, and taxes were saved.\n",
            "\n",
            "But, on December 8, the companies hired other unemployed workers and had not responded to the arbitration board. On December 18, 1937, the board gave a verdict in favor of the union by means of a \"laudo\" (binding judgment in arbitration) which demanded that the companies fulfil the requirements of the petitions and pay 26 million pesos in lost salaries. The petroleum companies initiated a lawsuit on January 2, 1938 before the Mexican Supreme Court to protect their property from the labor union and arbitration board, which denied the request.\n",
            "Consequently, the foreign companies rebelled against the imposed contract, and the maximum Judicial Authority responded by rendering a decision on March 1, giving the companies until March 7 to pay the 26 million pesos penalty.\n",
            "In 1935, all companies in the business of extraction, processing, and exporting of oil in Mexico were foreign companies with foreign capital. These companies attempted to block the creation of labor unions and used legal and illegal tactics to do so. However, the creation of individual unions within each company was made possible, but work conditions differed from one another.\n",
            "On December 27, 1935, the Sindicato Único de Trabajadores Petroleros was created, despite the legal opposition in the states of Tamaulipas and Veracruz. On January 29, 1936, this union joined the Comité de Defensa Proletaria (\"Committee of Proletarian Defense\") which would become in February the Confederation of Mexican Workers (CTM). On July 20, the union celebrated its first convention, in which it was proposed a project of general contracts for each oil company and it was decided on a strike to push towards an agreement.\n",
            "Lázaro Cárdenas intervened between the union and the oil companies in order to force an agreement on the contract. The strike was delayed for six months, but the companies never agreed to the contract and on May 28, the strike took place. The entire country was paralyzed for 12 days, with consumers unable to buy gasoline. Cárdenas convinced the union to end the strike until a decision by the companies could be made. However, the companies declared themselves unable to meet the demands because of financial problems. Cárdenas ordered an investigation and on August 3, and the findings were that the Mexican oil industry produced higher returns than the U.S. oil industry.\n",
            "\n",
            "After the publication of the findings, the oil companies threatened to leave Mexico and take all of their capital with them. The government entity in charge of the conflict between these companies and the union, the Junta Federal de Conciliación y Arbitraje (Federal Conciliation and Arbitration Board), was not able to make a decision quickly and the union declared a 24-hour strike in protest on December 8.\n",
            "On December 18, the Arbitration Board declared in favor of the union. The oil companies had to pay 26 million pesos of wages lost because of the strike, but they appealed to the Supreme Court. The Supreme Court then rejected the appeal and ordered them to raise salaries and improve working conditions for the union members. The oil companies protested this decision and President Cárdenas mediated a compromise; the union would accept 26 million pesos. Cárdenas offered to end the strike if the oil companies paid the sum. According to witnesses of this meeting, representatives of the oil companies asked the President \"Who can guarantee that the strike will be over\", to which the President replied \"I, the President of the Republic.\" After the businessmen asked with sarcasm \"You?\" President Cárdenas ended the meeting saying \"Sirs, we are finished!\". Cárdenas moved to expropriate the oil industry and create a national oil company, PEMEX.\n",
            "\n",
            "On March 18, 1938 President Cárdenas embarked on the expropriation of all oil resources and facilities by the state, nationalizing the U.S. and Anglo-Dutch (Mexican Eagle Petroleum Company) operating companies. Two hours before informing his cabinet of his decision, he made the announcement on the radio to the rest of the country. Five days later, a crowd of 200,000 (according to the press) rallied in the zócalo in support of Cárdenas's action. On April 12, 1938, a crowd of thousands of all classes gathered in front of the Palacio de Bellas Artes to make donations to pay the debt to foreign companies. Donations varied from chickens to jewelry. (see photo).\n",
            "On June 7, 1938, President Cárdenas issued a decree creating Petróleos Mexicanos (PEMEX), with exclusive rights over exploration, extraction, refining, and commercialization of oil in Mexico. On June 20, PEMEX started operations.\n",
            "\n",
            "In retaliation, the oil companies initiated a public relations campaign against Mexico, urging people to stop buying Mexican goods and lobbying to embargo U.S. technology to Mexico. Many foreign governments closed their markets to Mexican oil, hoping that PEMEX would drown in its own oil. However, the U.S. government of Franklin Delano Roosevelt had issued the Good Neighbor Policy, aiming to recalibrate U.S.-Latin American relations; the U.S. government did not intervene to aid U.S. oil companies affected by the Mexican  expropriation. Mexican finances suffered due to the boycott, the Mexican peso was devalued, and an immediate 20% increase in prices was suffered by the Mexican population. In a trip to New York to negotiate with oil companies,  Mexican treasury minister, Suarez, serendipitously met an American intermediate, William Rhodes Davis from Davis Oil Company, who had a refinery in Europe, and asked for a collaboration. Davis mediated between Mexico and Germany to a barter agreement where Mexico would give crude oil to Davis, who then would provide refined oil products to Germany in exchange for machinery to Mexico. By 1940, Mexico had an agreement with the American Sinclair Oil Corporation to sell crude oil to the U.S, and the full-scale war in Europe guaranteed that Mexican oil would have international customers. PEMEX developed into one of the largest oil companies in the world and helped Mexico become the world's seventh-largest oil exporter.\n",
            "\n",
            "Saturnino Cedillo, a cacique from San Luis Potosí and former Secretary of Agriculture, showed the strongest opposition to Cárdenas's measures. Cedillo had in the past supported Cárdenas in a conflict with ex-President Plutarco Elías Calles, but disagreed with his plan of reforms. On May 15 of the same year, the state congress of San Luis Potosí issued a decree where it refused to recognize Cárdenas as President and declared that the expropiación petrolera did not benefit the economy of Mexico. Cárdenas did not consider this a serious threat and minimized efforts to suppress the rebellion, instead choosing persuasion. The US government did not support the rebellion because it was more concerned that fascist and communist movements from Europe would spread to Mexico.\n",
            "The key to the success of the measures taken by Cárdenas was not just to control the opposition, but to develop and train qualified domestic personnel who could keep afloat an industry that had been maintained thus far by foreign management. The government relied on the Sindicato de Trabajadores Petroleros de la República Mexicana (STPRM, or the Union of Oil Workers of the Mexican Republic) to resolve disagreements over the management of oil resources, and deal with threats of strikes and sabotage. In spite of technical challenges, the local workers who replaced the foreign technicians succeeded in making the new nationalized oil industry work. Josephus Daniels, U.S. ambassador to Mexico, explained to President Franklin D. Roosevelt and Secretary of State Cordell Hull that Cárdenas' reforms could not be undone, since his position as president and the position of PEMEX were secure. PEMEX was and remains a source of collective national pride, and is an international symbol of Mexico.\n",
            "Critics of the expropriation argue that since PEMEX took control of the nation's petroleum, it has suffered from corruption in administrations since that of Cárdenas, and point to its political use by PRI (Partido Revolucionario Institucional) and the PAN (Partido Accion Nacional). In addition, the casus belli of the expropriation was a wage hike of 26 million pesos. In fact, in the short run following nationalization, not only was the promised wage hike postponed indefinitely, wages were actually cut. A tug of war continues between capitalist strategists who favor privatization and popular support for PEMEX as a nationalization success and the backbone of Mexico's economic independence from manipulation by foreign owners and investors. In 2013 a series of privatization measures were undertaken by the President Peña Nieto; in 2019 attempts to walk back such measures and regain Mexican national control over PEMEX were begun by the populist left government of López Obrador.\n",
            "\n",
            "Nationalization of oil supplies\n",
            "Economic nationalism\n",
            "Petroleum industry in Mexico\n",
            "\n",
            "Brown, Jonathan C. Oil and Revolution in Mexico. Berkeley: University of California Press 1993.\n",
            "Brown, Jonathan C. and Alan Knight, eds.  The Mexican Petroleum Industry in the Twentieth Century. Austin: University of Texas Press 1992.\n",
            "Gordon, Wendell. The Expropriation of Foreign-Owned Property in Mexico (1941)\n",
            "Hall, Linda B. Oil, Banks, and Politics: the United States and Postrevolutionary Mexico, 1917-1924. Austin: University of Texas Press 1995.\n",
            "Jayne, Catherine E. Oil, war, and Anglo-American relations: American and British reactions to Mexico's expropriation of foreign oil properties, 1937-1941 (Praeger, 2001)\n",
            "Maurer, Noel. \"The empire struck back: sanctions and compensation in the Mexican oil expropriation of 1938.\" Journal of Economic History 71.03 (2011): 590–615. online\n",
            "Meyer, Lorenzo. Mexico and the United States in the oil controversy, 1917–1942 (University of Texas Press, 2014)\n",
            "Rippy, Merrill. Oil and the Mexican Revolution. Leiden: Brill 1972.\n",
            "Wirth, John D., ed. Latin American Oil Companies and the Politics of Energy. Lincoln: University of Nebraska Press 1985.\n"
          ]
        }
      ],
      "source": [
        "wiki = wikipedia.page('Expropiación del petróleo en México')\n",
        "book = wiki.content\n",
        "print(book)"
      ]
    },
    {
      "cell_type": "markdown",
      "metadata": {
        "id": "V9o2M4-23kIo"
      },
      "source": [
        "## Procesamiento"
      ]
    },
    {
      "cell_type": "markdown",
      "metadata": {
        "id": "cQTst86Zm5Ew"
      },
      "source": [
        "Dividimos el texto en oraciones."
      ]
    },
    {
      "cell_type": "code",
      "execution_count": null,
      "metadata": {
        "id": "UudewwgC0npT",
        "colab": {
          "base_uri": "https://localhost:8080/"
        },
        "outputId": "7644be19-1927-4d29-a7f5-7cbaed0fc46f"
      },
      "outputs": [
        {
          "output_type": "stream",
          "name": "stdout",
          "text": [
            "# oraciones: 98\n",
            "The Mexican oil expropriation (Spanish: expropiación petrolera) was the nationalization of all petroleum reserves, facilities, and foreign oil companies in Mexico on March 18, 1938.\n",
            "\n",
            "...Fin de la oración...\n",
            "\n",
            "In accordance with Article 27 of the Constitution of 1917, President Lázaro Cárdenas declared that all mineral and oil reserves found within Mexico belong to \"the nation\", i.e., the federal government.\n",
            "\n",
            "...Fin de la oración...\n",
            "\n",
            "The Mexican government established a state-owned petroleum company, Petróleos Mexicanos, or PEMEX.\n",
            "\n",
            "...Fin de la oración...\n",
            "\n"
          ]
        }
      ],
      "source": [
        "sentences = [x for x in sent_tokenize(book)]\n",
        "print(f\"# oraciones: {len(sentences)}\")\n",
        "for sentence in sentences[:3]:\n",
        "    print(sentence)\n",
        "    print()\n",
        "    print(\"...Fin de la oración...\")\n",
        "    print()\n"
      ]
    },
    {
      "cell_type": "code",
      "execution_count": null,
      "metadata": {
        "id": "IhjOZlBJ6CoE",
        "colab": {
          "base_uri": "https://localhost:8080/"
        },
        "outputId": "97e284c8-da18-4cb7-cfea-3c3c0d3e59dc"
      },
      "outputs": [
        {
          "output_type": "stream",
          "name": "stdout",
          "text": [
            "['Hola', 'Hola', 'Hola', 'Hola', 'Hola', 'Hola', 'Hola', 'Hola', 'Hola']\n",
            "['Hola', 'Hola', 'Hola', 'Hola', 'Hola', 'Hola', 'Hola', 'Hola', 'Hola']\n"
          ]
        }
      ],
      "source": [
        "# Ejemplo lista por comprension\n",
        "lista = []\n",
        "for i in range(9):\n",
        "  lista.append('Hola')\n",
        "\n",
        "# Otro modo de crearla\n",
        "otra_lista = ['Hola' for i in range(9)]\n",
        "\n",
        "print(lista)\n",
        "print(otra_lista)"
      ]
    },
    {
      "cell_type": "markdown",
      "metadata": {
        "id": "VX8wBpNYnUV1"
      },
      "source": [
        "convertimos a minúsculas, eliminamos stopwords, eliminamos signos de puntuación y radicalizamos."
      ]
    },
    {
      "cell_type": "code",
      "execution_count": null,
      "metadata": {
        "id": "HhJPqlaB5fh6",
        "colab": {
          "base_uri": "https://localhost:8080/"
        },
        "outputId": "00b72585-4e1a-4aab-ead3-3e0bd8eb155b"
      },
      "outputs": [
        {
          "output_type": "execute_result",
          "data": {
            "text/plain": [
              "['the',\n",
              " 'mexican',\n",
              " 'oil',\n",
              " 'expropri',\n",
              " 'spanish',\n",
              " 'expropiacin',\n",
              " 'petrolera',\n",
              " 'nation',\n",
              " 'petroleum',\n",
              " 'reserv',\n",
              " 'facil',\n",
              " 'foreign',\n",
              " 'oil',\n",
              " 'compani',\n",
              " 'mexico',\n",
              " 'march',\n",
              " '']"
            ]
          },
          "metadata": {},
          "execution_count": 59
        }
      ],
      "source": [
        "sent_low = [[stemmer.stem(re.sub('[^a-z]', \"\", word.lower())) for word in word_tokenize(sentence) if word not in cached_stopwords and len(word) > 2] for sentence in sentences]\n",
        "sent_low[0]"
      ]
    },
    {
      "cell_type": "code",
      "source": [
        "sentences[0]"
      ],
      "metadata": {
        "colab": {
          "base_uri": "https://localhost:8080/",
          "height": 53
        },
        "id": "78xnI4Zm1clD",
        "outputId": "59ac5090-effa-4923-d467-a848b669c6fb"
      },
      "execution_count": null,
      "outputs": [
        {
          "output_type": "execute_result",
          "data": {
            "text/plain": [
              "'The Mexican oil expropriation (Spanish: expropiación petrolera) was the nationalization of all petroleum reserves, facilities, and foreign oil companies in Mexico on March 18, 1938.'"
            ],
            "application/vnd.google.colaboratory.intrinsic+json": {
              "type": "string"
            }
          },
          "metadata": {},
          "execution_count": 60
        }
      ]
    },
    {
      "cell_type": "markdown",
      "metadata": {
        "id": "NuWhLrCHngIg"
      },
      "source": [
        "# TextRank"
      ]
    },
    {
      "cell_type": "markdown",
      "metadata": {
        "id": "7FqpDqoADzub"
      },
      "source": [
        "Construimos la matriz de adyacencias/similitud A entre las oraciones, tomando el número de palabras que están en ambas como la similitud entre las dos oraciones."
      ]
    },
    {
      "cell_type": "code",
      "execution_count": null,
      "metadata": {
        "id": "YXSfMRfWdiJM"
      },
      "outputs": [],
      "source": [
        "from tqdm import tqdm"
      ]
    },
    {
      "cell_type": "code",
      "execution_count": null,
      "metadata": {
        "id": "9-8lePsd8th-",
        "colab": {
          "base_uri": "https://localhost:8080/"
        },
        "outputId": "79f4b30e-6d5e-4f4f-b630-73705b1c135f"
      },
      "outputs": [
        {
          "output_type": "stream",
          "name": "stderr",
          "text": [
            "100%|██████████| 98/98 [00:00<00:00, 4287.18it/s]\n"
          ]
        }
      ],
      "source": [
        "A = np.zeros((len(sent_low), len(sent_low)))\n",
        "\n",
        "for i in tqdm(range(len(sentences))):\n",
        "    for j in range(i+1, len(sentences)):\n",
        "        # La simillitud entre oraciones va a ser el número de palabras que tienen en común\n",
        "        A[i][j] = A[j][i] = len([x for x in sent_low[i] if x in sent_low[j]])"
      ]
    },
    {
      "cell_type": "markdown",
      "metadata": {
        "id": "p9s5rI9roNPv"
      },
      "source": [
        "Así es como se ve un fragmento de la matriz A."
      ]
    },
    {
      "cell_type": "code",
      "execution_count": null,
      "metadata": {
        "id": "uvFYbKI48tdr",
        "colab": {
          "base_uri": "https://localhost:8080/"
        },
        "outputId": "8a79e637-0464-45ec-eb6f-897a470ba97f"
      },
      "outputs": [
        {
          "output_type": "execute_result",
          "data": {
            "text/plain": [
              "array([[0., 6., 4., 3., 3.],\n",
              "       [6., 0., 1., 1., 0.],\n",
              "       [4., 1., 0., 2., 2.],\n",
              "       [3., 1., 2., 0., 1.],\n",
              "       [3., 0., 2., 1., 0.]])"
            ]
          },
          "metadata": {},
          "execution_count": 62
        }
      ],
      "source": [
        "A[:5, :5]"
      ]
    },
    {
      "cell_type": "markdown",
      "metadata": {
        "id": "OoJlPw_ToUdh"
      },
      "source": [
        "Normalizamos las columnas de A"
      ]
    },
    {
      "cell_type": "code",
      "execution_count": null,
      "metadata": {
        "id": "8oNFWIjZ8tbP",
        "colab": {
          "base_uri": "https://localhost:8080/"
        },
        "outputId": "148c4ffe-de85-41ac-b041-6daedb919818"
      },
      "outputs": [
        {
          "output_type": "execute_result",
          "data": {
            "text/plain": [
              "array([[0.        , 0.04285714, 0.03636364, 0.02654867, 0.06521739],\n",
              "       [0.02459016, 0.        , 0.00909091, 0.00884956, 0.        ],\n",
              "       [0.01639344, 0.00714286, 0.        , 0.01769912, 0.04347826],\n",
              "       [0.01229508, 0.00714286, 0.01818182, 0.        , 0.02173913],\n",
              "       [0.01229508, 0.        , 0.01818182, 0.00884956, 0.        ]])"
            ]
          },
          "metadata": {},
          "execution_count": 63
        }
      ],
      "source": [
        "# Comparamos las oraciones unas con otras, pero no consigo mismas\n",
        "suma = np.sum(A, axis=0)\n",
        "A_norm = np.divide(A, suma, where=suma!=0)\n",
        "A_norm[:5, :5]"
      ]
    },
    {
      "cell_type": "markdown",
      "metadata": {
        "id": "YIdFEIv2KlDT"
      },
      "source": [
        "Se crea el vector de TextRank con unos y se itera hasta que converja. Es decir, hasta que obtengamos $\\Pi$ tal que $$\\Pi = A~\\Pi$$"
      ]
    },
    {
      "cell_type": "code",
      "execution_count": null,
      "metadata": {
        "id": "wSg8un2uxyz3"
      },
      "outputs": [],
      "source": [
        "# Impresiones mas bonitas, evita notación científica en ciertos casos\n",
        "np.set_printoptions(suppress=True)"
      ]
    },
    {
      "cell_type": "code",
      "execution_count": null,
      "metadata": {
        "id": "LUfmpayQKaCA",
        "colab": {
          "base_uri": "https://localhost:8080/"
        },
        "outputId": "50403a59-8dbf-4da9-c9a0-ebe435fda00f"
      },
      "outputs": [
        {
          "output_type": "stream",
          "name": "stdout",
          "text": [
            "0 285.4323576419214\n",
            "1 227.4509568555338\n",
            "2 47.41709379201733\n",
            "3 15.416423336711173\n",
            "4 5.888480216245359\n",
            "5 2.5588083336710135\n",
            "6 1.1297041229190943\n",
            "7 0.5074491550313454\n",
            "8 0.23040109731306604\n",
            "9 0.1050876636219274\n",
            "10 0.048070350882148435\n",
            "11 0.02205581074946307\n",
            "12 0.010140935212571603\n",
            "13 0.0046690453713090635\n",
            "14 0.0021527478715337098\n",
            "15 0.0009936402194557908\n",
            "16 0.0004589309760281088\n"
          ]
        }
      ],
      "source": [
        "# Tolerancia para la diferencia al comparar\n",
        "tol = 1e-5\n",
        "\n",
        "PI_ = np.ones(A_norm.shape[1])\n",
        "\n",
        "i = 0\n",
        "while True:\n",
        "    pi_ = A_norm.dot(PI_)\n",
        "    print(i, abs(PI_- pi_).sum())\n",
        "    if np.allclose(PI_, pi_, tol):\n",
        "        break\n",
        "    i += 1\n",
        "    PI_ = pi_.copy()"
      ]
    },
    {
      "cell_type": "code",
      "execution_count": null,
      "metadata": {
        "id": "RkuwDTPN_rmj",
        "colab": {
          "base_uri": "https://localhost:8080/"
        },
        "outputId": "fcbbe5fe-f4aa-40b8-b3e2-301176a520d3"
      },
      "outputs": [
        {
          "output_type": "execute_result",
          "data": {
            "text/plain": [
              "array([10.74212943,  6.16350725,  4.84277311,  4.97483873,  2.02515954,\n",
              "        8.23271691,  6.29561121,  5.63523381,  0.66038183,  2.68553963,\n",
              "        2.905675  ,  3.78617928,  4.22642796,  6.51574394,  3.83020055,\n",
              "        5.54717589,  5.54717903,  6.20754607,  7.17609545,  1.45282182,\n",
              "        1.45282903,  2.94969943,  5.94341335,  7.08806246,  4.79875899,\n",
              "        7.26414581,  2.77359573,  3.21385086,  2.28930146,  3.61005968,\n",
              "        5.19498398,  5.4591289 ,  3.91825471,  1.18868351,  4.2264306 ,\n",
              "        2.81762124,  5.1949624 ,  4.53459212,  6.11952592,  1.80504255,\n",
              "        6.3396418 ,  2.28931851,  7.83649489,  4.8427748 ,  5.45912559,\n",
              "        0.1320756 ,  1.58490519,  6.60376875,  9.46540005,  0.44025528,\n",
              "        2.55344572,  4.0062886 ,  0.04402514,  0.        ,  6.07545473,\n",
              "        0.5723253 ,  6.51572004,  4.79873425,  6.47169843,  2.28930806,\n",
              "        5.81132137,  5.28300537,  7.44023091,  6.03144321,  1.18867628,\n",
              "        1.0125763 ,  3.69810856,  0.83647655,  3.03773261,  2.99370966,\n",
              "        6.69183099,  3.74213588,  3.87420421,  2.1131998 ,  2.94968053,\n",
              "        1.3647836 ,  0.83647742,  3.03772588,  5.01884878,  4.88677953,\n",
              "        1.67294115,  0.08804981,  2.72956202,  1.8050145 ,  0.        ,\n",
              "        3.78615307,  4.93080027,  1.8050145 ,  6.07545055,  5.76728492,\n",
              "        1.67294282,  0.        ,  5.59116564,  3.08175672,  1.45281966,\n",
              "        0.        ,  4.22641745,  1.84903957])"
            ]
          },
          "metadata": {},
          "execution_count": 65
        }
      ],
      "source": [
        "PI_"
      ]
    },
    {
      "cell_type": "markdown",
      "metadata": {
        "id": "QnTTffzbv2G0"
      },
      "source": [
        "Alternativamente, podemos obtener los eigenvectores izquierdos de nuestra matriz A_norm. Los valores de PageRank corresponden al vector de probabilidades del estado estacionario de la matriz A que a su vez es el eigenvector izquierdo con eigenvalor asociado 1.\n",
        "\n",
        "$$\\Pi = \\Pi A^T$$"
      ]
    },
    {
      "cell_type": "code",
      "execution_count": null,
      "metadata": {
        "id": "2fjuQ_v_vE-O"
      },
      "outputs": [],
      "source": [
        "vals, vecs = splinalg.eig(A_norm.T, left=True, right=False)"
      ]
    },
    {
      "cell_type": "code",
      "execution_count": null,
      "metadata": {
        "id": "quf7Tyn7-yK_",
        "colab": {
          "base_uri": "https://localhost:8080/"
        },
        "outputId": "37839979-3b28-483d-ff27-383e3017bbda"
      },
      "outputs": [
        {
          "output_type": "execute_result",
          "data": {
            "text/plain": [
              "(98, 98)"
            ]
          },
          "metadata": {},
          "execution_count": 67
        }
      ],
      "source": [
        "vecs.shape"
      ]
    },
    {
      "cell_type": "code",
      "source": [
        "vals[90]"
      ],
      "metadata": {
        "id": "heaNyC6Lncpw",
        "colab": {
          "base_uri": "https://localhost:8080/"
        },
        "outputId": "e557398a-8c57-4036-daff-8d3c6bc25406"
      },
      "execution_count": null,
      "outputs": [
        {
          "output_type": "execute_result",
          "data": {
            "text/plain": [
              "(-0.051063422755659824+0j)"
            ]
          },
          "metadata": {},
          "execution_count": 70
        }
      ]
    },
    {
      "cell_type": "code",
      "execution_count": null,
      "metadata": {
        "id": "Qn60EkbGzARy",
        "colab": {
          "base_uri": "https://localhost:8080/"
        },
        "outputId": "88410081-9c49-474d-db5c-244816ca34de"
      },
      "outputs": [
        {
          "output_type": "execute_result",
          "data": {
            "text/plain": [
              "array([-0.13815784,  0.01388035,  0.12558162,  0.17358284, -0.04296665,\n",
              "       -0.0778107 , -0.16402883, -0.03467973, -0.01284784, -0.03105319,\n",
              "       -0.07431268,  0.00100917, -0.19222469,  0.09389125,  0.22634928,\n",
              "       -0.17992393, -0.24143928, -0.2160659 , -0.0546644 , -0.00021678,\n",
              "        0.00039349,  0.00457717,  0.06552103,  0.06422254, -0.06553907,\n",
              "        0.18594421,  0.07899857,  0.05843317,  0.00064922,  0.05816777,\n",
              "       -0.30286526, -0.27668629, -0.00344645, -0.05033427,  0.19137139,\n",
              "        0.0360442 ,  0.13224497,  0.29876163,  0.00709155, -0.01101443,\n",
              "        0.13598213, -0.0200829 ,  0.05432253,  0.22840565,  0.06726318,\n",
              "        0.00365755,  0.07722195,  0.10356672, -0.16299198,  0.00354534,\n",
              "       -0.10888121, -0.        ,  0.00152571,  0.        ,  0.12976041,\n",
              "       -0.01019842, -0.0255621 ,  0.0270018 , -0.0670729 , -0.00734195,\n",
              "       -0.0699798 , -0.06787312, -0.10235514,  0.08356393, -0.02008727,\n",
              "       -0.07271497, -0.0451704 ,  0.05321414,  0.01717771,  0.02302364,\n",
              "        0.11426063, -0.08685928, -0.06885493, -0.01035657, -0.04137736,\n",
              "        0.02790948,  0.0339527 , -0.12819446,  0.08975898,  0.        ,\n",
              "        0.00093216,  0.00103929, -0.0067039 ,  0.00943987,  0.        ,\n",
              "        0.09386568,  0.05126402,  0.00943987, -0.02387926,  0.12261808,\n",
              "       -0.0200545 ,  0.        ,  0.01989443,  0.00087505,  0.00861876,\n",
              "       -0.00145645, -0.04440546, -0.01397616])"
            ]
          },
          "metadata": {},
          "execution_count": 71
        }
      ],
      "source": [
        "# Primer columna de matriz de eigenvectores por la izquierda\n",
        "pi_ = vecs[:, 0]\n",
        "pi_"
      ]
    },
    {
      "cell_type": "markdown",
      "metadata": {
        "id": "Y4XCjrheqzkz"
      },
      "source": [
        "Obtenemos los índices de los k valores más grandes en $\\Pi$ y los usamos para obtener las oraciones más relevantes."
      ]
    },
    {
      "cell_type": "code",
      "execution_count": null,
      "metadata": {
        "id": "4nzzWurm0_O2",
        "colab": {
          "base_uri": "https://localhost:8080/"
        },
        "outputId": "564a9122-6d7d-44b0-f955-bbd5a6aa40d7"
      },
      "outputs": [
        {
          "output_type": "execute_result",
          "data": {
            "text/plain": [
              "array([37, 43, 14, 34])"
            ]
          },
          "metadata": {},
          "execution_count": 72
        }
      ],
      "source": [
        "k = 4\n",
        "pi_.argsort()[-k:][::-1]"
      ]
    },
    {
      "cell_type": "code",
      "execution_count": null,
      "metadata": {
        "id": "RryDhNr5OfJ5"
      },
      "outputs": [],
      "source": [
        "summary = [sentences[idx] for idx in pi_.argsort()[-k:][::-1]]"
      ]
    },
    {
      "cell_type": "code",
      "execution_count": null,
      "metadata": {
        "id": "iACleNaJDRHu",
        "colab": {
          "base_uri": "https://localhost:8080/"
        },
        "outputId": "bb3867e3-6ccb-4835-b239-292ed15d98de"
      },
      "outputs": [
        {
          "output_type": "execute_result",
          "data": {
            "text/plain": [
              "['After the publication of the findings, the oil companies threatened to leave Mexico and take all of their capital with them.',\n",
              " 'Cárdenas offered to end the strike if the oil companies paid the sum.',\n",
              " 'The companies, however, insisted the demands would cripple production and bankrupt them, and refused to pay.',\n",
              " 'Cárdenas convinced the union to end the strike until a decision by the companies could be made.']"
            ]
          },
          "metadata": {},
          "execution_count": 74
        }
      ],
      "source": [
        "summary"
      ]
    },
    {
      "cell_type": "markdown",
      "metadata": {
        "id": "DpekkaIIrFbJ"
      },
      "source": [
        "Por último, sólo queda ver qué considero TextRank como las oraciones más importantes."
      ]
    },
    {
      "cell_type": "code",
      "execution_count": null,
      "metadata": {
        "id": "wAqh4QdWOh1r",
        "colab": {
          "base_uri": "https://localhost:8080/"
        },
        "outputId": "4432ed4b-f4ed-407f-aac3-9d174e97e604"
      },
      "outputs": [
        {
          "output_type": "stream",
          "name": "stdout",
          "text": [
            "___________\n",
            "After the publication of the findings, the oil companies threatened to leave Mexico and take all of their capital with them.\n",
            "___________\n",
            "Cárdenas offered to end the strike if the oil companies paid the sum.\n",
            "___________\n",
            "The companies, however, insisted the demands would cripple production and bankrupt them, and refused to pay.\n",
            "___________\n",
            "Cárdenas convinced the union to end the strike until a decision by the companies could be made.\n"
          ]
        }
      ],
      "source": [
        "for bullet in summary:\n",
        "    print('___________')\n",
        "    print(bullet)"
      ]
    },
    {
      "cell_type": "markdown",
      "metadata": {
        "id": "xN21ZGHrrKY4"
      },
      "source": [
        "Podemos traducir la salida."
      ]
    },
    {
      "cell_type": "code",
      "execution_count": null,
      "metadata": {
        "id": "7vpw3FScPo2L",
        "colab": {
          "base_uri": "https://localhost:8080/"
        },
        "outputId": "3cc22008-d1f4-4492-b9a4-ceb0b00b6c5f"
      },
      "outputs": [
        {
          "output_type": "stream",
          "name": "stdout",
          "text": [
            "\n",
            "Después de la publicación de los hallazgos, las compañías petroleras amenazaron con salir de México y llevarse todo su capital con ellas.\n",
            "\n",
            "Cárdenas ofreció poner fin a la huelga si las compañías petroleras pagaban la suma.\n",
            "\n",
            "Las empresas, sin embargo, insistieron en que las demandas paralizarían la producción y la bancarrota, y se negaron a pagar.\n",
            "\n",
            "Cárdenas convenció al sindicato de poner fin a la huelga hasta que las empresas pudieran tomar una decisión.\n"
          ]
        }
      ],
      "source": [
        "# Aprox 34 seg las primeras 10 oraciones\n",
        "for bullet in summary:\n",
        "    print()\n",
        "    print(translate(bullet, \"es\"))"
      ]
    },
    {
      "cell_type": "markdown",
      "metadata": {
        "id": "sroGaAJSrNER"
      },
      "source": [
        "# Función para crear resúmenes"
      ]
    },
    {
      "cell_type": "markdown",
      "metadata": {
        "id": "o8TBd5q7rSmS"
      },
      "source": [
        "Podemos condensar todo lo anterior en una función que reciba texto y nos regrese las oraciones más relevantes de acuerdo a TextRank."
      ]
    },
    {
      "cell_type": "code",
      "execution_count": null,
      "metadata": {
        "id": "ACFufGGmXwCP"
      },
      "outputs": [],
      "source": [
        "def summary(text, k, to_spanish = True, tol = 1e-5, d = .15, eig = False):\n",
        "    print(\"Paso 1. Obteniendo oraciones\")\n",
        "    sentences = [x for x in sent_tokenize(text)]\n",
        "\n",
        "    print(f\"# oraciones: {len(sentences)}\")\n",
        "\n",
        "    print(\"Paso 2. Procesando texto\")\n",
        "    sent_low = [[stemmer.stem(re.sub('[^a-z]', \"\", word.lower())) for word in word_tokenize(sentence) if word not in cached_stopwords and len(word) > 2] for sentence in sentences]\n",
        "\n",
        "    print(\"Paso 3. Creando matriz de similitud\")\n",
        "    A = np.zeros((len(sent_low), len(sent_low)))\n",
        "\n",
        "    for i in range(len(sentences)):\n",
        "        for j in range(i+1, len(sentences)):\n",
        "            # La simillitud entre oraciones va a ser el número de palabras que tienen en común\n",
        "            A[i][j] = A[j][i] = len([x for x in sent_low[i] if x in sent_low[j]])\n",
        "\n",
        "    print(\"Paso 4. Estandariza matriz de similitud\")\n",
        "    suma = np.sum(A, axis=0)\n",
        "    A_norm = np.divide(A, suma, where=suma!=0)\n",
        "\n",
        "    print(\"Paso 5. Ejecutando TextRank\")\n",
        "    if eig:\n",
        "        vals, vecs = splinalg.eig(A_norm.T, left=True, right=False)\n",
        "        pi_f = vecs[:, 0]\n",
        "    else:\n",
        "        PI_f = np.ones(A_norm.shape[1])\n",
        "\n",
        "        while True:\n",
        "            pi_f = A_norm.dot(PI_f)\n",
        "            if np.allclose(PI_f, pi_f, tol):\n",
        "                break\n",
        "            PI_f = pi_f.copy()\n",
        "\n",
        "    print(\"\\tPaso 5. Terminado\")\n",
        "\n",
        "    if not to_spanish:\n",
        "        return [sentences[idx] for idx in pi_.argsort()[-k:][::-1]]\n",
        "\n",
        "    print(\"Paso 6. Traduciendo\")\n",
        "    return [translate(sentences[idx], \"es\") for idx in pi_.argsort()[-k:][::-1]]\n",
        "\n",
        "def print_bullet_points(bullet_points):\n",
        "    for point in bullet_points:\n",
        "        print(f\"- {point}\\n\")\n"
      ]
    },
    {
      "cell_type": "code",
      "execution_count": null,
      "metadata": {
        "id": "ShmZc9RaYuh3",
        "colab": {
          "base_uri": "https://localhost:8080/"
        },
        "outputId": "434c109e-eb0a-4760-9c79-24e0e4b075c6"
      },
      "outputs": [
        {
          "output_type": "stream",
          "name": "stdout",
          "text": [
            "Paso 1. Obteniendo oraciones\n",
            "# oraciones: 329\n",
            "Paso 2. Procesando texto\n",
            "Paso 3. Creando matriz de similitud\n",
            "Paso 4. Estandariza matriz de similitud\n",
            "Paso 5. Ejecutando TextRank\n",
            "\tPaso 5. Terminado\n"
          ]
        }
      ],
      "source": [
        "\n",
        "wiki = wikipedia.page('Automatic summarization')\n",
        "text = wiki.content\n",
        "bullet_points = summary(text, 5, False, tol=1e-1, eig =True)"
      ]
    },
    {
      "cell_type": "code",
      "execution_count": null,
      "metadata": {
        "id": "14--hdHdZNkW",
        "colab": {
          "base_uri": "https://localhost:8080/"
        },
        "outputId": "8a033184-2ffb-4dcc-aa79-05584f16aebc"
      },
      "outputs": [
        {
          "output_type": "stream",
          "name": "stdout",
          "text": [
            "- At a very high level, summarization algorithms try to find subsets of objects (like set of sentences, or a set of images), which cover information of the entire set.\n",
            "\n",
            "- You are given a piece of text, such as a journal article, and you must produce a list of keywords or key[phrase]s that capture the primary topics discussed in the text.\n",
            "\n",
            "- This has been applied mainly for text.\n",
            "\n",
            "- Video summarization is a related domain, where the system automatically creates a trailer of a long video.\n",
            "\n",
            "- Summarization systems are able to create both query relevant text summaries and generic machine-generated summaries depending on what the user needs.\n",
            "\n"
          ]
        }
      ],
      "source": [
        "print_bullet_points(bullet_points)"
      ]
    },
    {
      "cell_type": "code",
      "execution_count": null,
      "metadata": {
        "id": "z6PnPJkMZ_E9",
        "colab": {
          "base_uri": "https://localhost:8080/"
        },
        "outputId": "b17221a5-886e-463c-af77-2c0013373fee"
      },
      "outputs": [
        {
          "output_type": "stream",
          "name": "stdout",
          "text": [
            "--2024-07-18 22:25:38--  https://www.gutenberg.org/files/84/84-0.txt\n",
            "Resolving www.gutenberg.org (www.gutenberg.org)... 152.19.134.47, 2610:28:3090:3000:0:bad:cafe:47\n",
            "Connecting to www.gutenberg.org (www.gutenberg.org)|152.19.134.47|:443... connected.\n",
            "HTTP request sent, awaiting response... 200 OK\n",
            "Length: 448642 (438K) [text/plain]\n",
            "Saving to: ‘book.txt’\n",
            "\n",
            "book.txt            100%[===================>] 438.13K  --.-KB/s    in 0.1s    \n",
            "\n",
            "2024-07-18 22:25:38 (3.06 MB/s) - ‘book.txt’ saved [448642/448642]\n",
            "\n"
          ]
        }
      ],
      "source": [
        "!wget https://www.gutenberg.org/files/84/84-0.txt -O book.txt"
      ]
    },
    {
      "cell_type": "code",
      "execution_count": null,
      "metadata": {
        "id": "meluoUwsaDSK",
        "colab": {
          "base_uri": "https://localhost:8080/"
        },
        "outputId": "86d2567f-e12e-4bb9-edb8-a50da0d13d57"
      },
      "outputs": [
        {
          "output_type": "stream",
          "name": "stdout",
          "text": [
            "The Project Gutenberg eBook of Frankenstein, by Mary Wollstonecraft Shelley\n",
            "\n",
            "This eBook is for the use of anyone anywhere in the United States and\n",
            "most other parts of the world at no cost and with almost no restrictions\n",
            "whatsoever. You may copy it, give it away or re-use it under the terms\n",
            "of the Project Gutenberg License included with this eBook or online at\n",
            "www.gutenberg.org. If you are not located in the United States, you\n",
            "will have to check the laws of the country where you are located before\n",
            "using this eBook.\n",
            "\n",
            "Title: Frankenstein\n",
            "       or, The Modern Prometheus\n",
            "\n",
            "Author: Mary Wollstonecraft Shelley\n",
            "\n",
            "Release Date: October 31, 1993 [eBook #84]\n",
            "[Most recently updated: December 2, 2022]\n",
            "\n",
            "Language: English\n",
            "\n",
            "Character set encoding: UTF-8\n",
            "\n",
            "Produced by: Judith Boss, Christy Phillips, Lynn Hanninen and David Meltzer. HTML version by Al Haines.\n",
            "Further corrections by Menno de Leeuw.\n",
            "\n",
            "*** START OF THE PROJECT GUTENBERG EBOOK FRANKENSTEIN ***\n",
            "\n",
            "\n",
            "\n",
            "\n",
            "Frankenstein;\n",
            "\n",
            "or, the Modern Prometheus\n",
            "\n",
            "by M\n"
          ]
        }
      ],
      "source": [
        "with open(\"book.txt\") as f:\n",
        "    book_raw = f.read()\n",
        "\n",
        "print(book_raw[0:1000])"
      ]
    },
    {
      "cell_type": "code",
      "execution_count": null,
      "metadata": {
        "id": "DymBfakBWb9G"
      },
      "outputs": [],
      "source": [
        "start = book_raw.rfind(\"Chapter 5\\n\")\n",
        "end = book_raw.rfind('Chapter 6\\n')"
      ]
    },
    {
      "cell_type": "code",
      "execution_count": null,
      "metadata": {
        "id": "hGk5g4H6Xo8l"
      },
      "outputs": [],
      "source": [
        "chapter_n = book_raw[start + len(\"Chapter 5\\n\"): end]"
      ]
    },
    {
      "cell_type": "code",
      "execution_count": null,
      "metadata": {
        "id": "-UWfUSwEGagL",
        "colab": {
          "base_uri": "https://localhost:8080/",
          "height": 1000
        },
        "outputId": "4ba6bc37-a33d-4254-9f8a-17710f620fe9"
      },
      "outputs": [
        {
          "output_type": "execute_result",
          "data": {
            "text/plain": [
              "'\\n\\nIt was on a dreary night of November that I beheld the accomplishment\\nof my toils. With an anxiety that almost amounted to agony, I\\ncollected the instruments of life around me, that I might infuse a\\nspark of being into the lifeless thing that lay at my feet. It was\\nalready one in the morning; the rain pattered dismally against the\\npanes, and my candle was nearly burnt out, when, by the glimmer of the\\nhalf-extinguished light, I saw the dull yellow eye of the creature\\nopen; it breathed hard, and a convulsive motion agitated its limbs.\\n\\nHow can I describe my emotions at this catastrophe, or how delineate\\nthe wretch whom with such infinite pains and care I had endeavoured to\\nform? His limbs were in proportion, and I had selected his features as\\nbeautiful. Beautiful! Great God! His yellow skin scarcely covered\\nthe work of muscles and arteries beneath; his hair was of a lustrous\\nblack, and flowing; his teeth of a pearly whiteness; but these\\nluxuriances only formed a more horrid contrast with his watery eyes,\\nthat seemed almost of the same colour as the dun-white sockets in which\\nthey were set, his shrivelled complexion and straight black lips.\\n\\nThe different accidents of life are not so changeable as the feelings\\nof human nature. I had worked hard for nearly two years, for the sole\\npurpose of infusing life into an inanimate body. For this I had\\ndeprived myself of rest and health. I had desired it with an ardour\\nthat far exceeded moderation; but now that I had finished, the beauty\\nof the dream vanished, and breathless horror and disgust filled my\\nheart. Unable to endure the aspect of the being I had created, I\\nrushed out of the room and continued a long time traversing my\\nbed-chamber, unable to compose my mind to sleep. At length lassitude\\nsucceeded to the tumult I had before endured, and I threw myself on the\\nbed in my clothes, endeavouring to seek a few moments of forgetfulness.\\nBut it was in vain; I slept, indeed, but I was disturbed by the wildest\\ndreams. I thought I saw Elizabeth, in the bloom of health, walking in\\nthe streets of Ingolstadt. Delighted and surprised, I embraced her,\\nbut as I imprinted the first kiss on her lips, they became livid with\\nthe hue of death; her features appeared to change, and I thought that I\\nheld the corpse of my dead mother in my arms; a shroud enveloped her\\nform, and I saw the grave-worms crawling in the folds of the flannel.\\nI started from my sleep with horror; a cold dew covered my forehead, my\\nteeth chattered, and every limb became convulsed; when, by the dim and\\nyellow light of the moon, as it forced its way through the window\\nshutters, I beheld the wretch—the miserable monster whom I had\\ncreated. He held up the curtain of the bed; and his eyes, if eyes they\\nmay be called, were fixed on me. His jaws opened, and he muttered some\\ninarticulate sounds, while a grin wrinkled his cheeks. He might have\\nspoken, but I did not hear; one hand was stretched out, seemingly to\\ndetain me, but I escaped and rushed downstairs. I took refuge in the\\ncourtyard belonging to the house which I inhabited, where I remained\\nduring the rest of the night, walking up and down in the greatest\\nagitation, listening attentively, catching and fearing each sound as if\\nit were to announce the approach of the demoniacal corpse to which I\\nhad so miserably given life.\\n\\nOh! No mortal could support the horror of that countenance. A mummy\\nagain endued with animation could not be so hideous as that wretch. I\\nhad gazed on him while unfinished; he was ugly then, but when those\\nmuscles and joints were rendered capable of motion, it became a thing\\nsuch as even Dante could not have conceived.\\n\\nI passed the night wretchedly. Sometimes my pulse beat so quickly and\\nhardly that I felt the palpitation of every artery; at others, I nearly\\nsank to the ground through languor and extreme weakness. Mingled with\\nthis horror, I felt the bitterness of disappointment; dreams that had\\nbeen my food and pleasant rest for so long a space were now become a\\nhell to me; and the change was so rapid, the overthrow so complete!\\n\\nMorning, dismal and wet, at length dawned and discovered to my\\nsleepless and aching eyes the church of Ingolstadt, its white steeple\\nand clock, which indicated the sixth hour. The porter opened the gates\\nof the court, which had that night been my asylum, and I issued into\\nthe streets, pacing them with quick steps, as if I sought to avoid the\\nwretch whom I feared every turning of the street would present to my\\nview. I did not dare return to the apartment which I inhabited, but\\nfelt impelled to hurry on, although drenched by the rain which poured\\nfrom a black and comfortless sky.\\n\\nI continued walking in this manner for some time, endeavouring by\\nbodily exercise to ease the load that weighed upon my mind. I\\ntraversed the streets without any clear conception of where I was or\\nwhat I was doing. My heart palpitated in the sickness of fear, and I\\nhurried on with irregular steps, not daring to look about me:\\n \\n Like one who, on a lonely road,\\n Doth walk in fear and dread,\\n And, having once turned round, walks on,\\n And turns no more his head;\\n Because he knows a frightful fiend\\n Doth close behind him tread.\\n \\n [Coleridge’s “Ancient Mariner.”]\\n\\n\\n\\nContinuing thus, I came at length opposite to the inn at which the various\\ndiligences and carriages usually stopped. Here I paused, I knew not why;\\nbut I remained some minutes with my eyes fixed on a coach that was coming\\ntowards me from the other end of the street. As it drew nearer I observed\\nthat it was the Swiss diligence; it stopped just where I was standing, and\\non the door being opened, I perceived Henry Clerval, who, on seeing me,\\ninstantly sprung out. “My dear Frankenstein,” exclaimed he,\\n“how glad I am to see you! How fortunate that you should be here at\\nthe very moment of my alighting!”\\n\\nNothing could equal my delight on seeing Clerval; his presence brought back\\nto my thoughts my father, Elizabeth, and all those scenes of home so dear\\nto my recollection. I grasped his hand, and in a moment forgot my horror\\nand misfortune; I felt suddenly, and for the first time during many months,\\ncalm and serene joy. I welcomed my friend, therefore, in the most cordial\\nmanner, and we walked towards my college. Clerval continued talking for\\nsome time about our mutual friends and his own good fortune in being\\npermitted to come to Ingolstadt. “You may easily believe,” said\\nhe, “how great was the difficulty to persuade my father that all\\nnecessary knowledge was not comprised in the noble art of book-keeping;\\nand, indeed, I believe I left him incredulous to the last, for his constant\\nanswer to my unwearied entreaties was the same as that of the Dutch\\nschoolmaster in The Vicar of Wakefield: ‘I have ten thousand florins\\na year without Greek, I eat heartily without Greek.’ But his\\naffection for me at length overcame his dislike of learning, and he has\\npermitted me to undertake a voyage of discovery to the land of\\nknowledge.”\\n\\n“It gives me the greatest delight to see you; but tell me how you left\\nmy father, brothers, and Elizabeth.”\\n\\n“Very well, and very happy, only a little uneasy that they hear from\\nyou so seldom. By the by, I mean to lecture you a little upon their\\naccount myself. But, my dear Frankenstein,” continued he, stopping\\nshort and gazing full in my face, “I did not before remark how very ill\\nyou appear; so thin and pale; you look as if you had been watching for\\nseveral nights.”\\n\\n“You have guessed right; I have lately been so deeply engaged in one\\noccupation that I have not allowed myself sufficient rest, as you see;\\nbut I hope, I sincerely hope, that all these employments are now at an\\nend and that I am at length free.”\\n\\nI trembled excessively; I could not endure to think of, and far less to\\nallude to, the occurrences of the preceding night. I walked with a\\nquick pace, and we soon arrived at my college. I then reflected, and\\nthe thought made me shiver, that the creature whom I had left in my\\napartment might still be there, alive and walking about. I dreaded to\\nbehold this monster, but I feared still more that Henry should see him.\\nEntreating him, therefore, to remain a few minutes at the bottom of the\\nstairs, I darted up towards my own room. My hand was already on the\\nlock of the door before I recollected myself. I then paused, and a\\ncold shivering came over me. I threw the door forcibly open, as\\nchildren are accustomed to do when they expect a spectre to stand in\\nwaiting for them on the other side; but nothing appeared. I stepped\\nfearfully in: the apartment was empty, and my bedroom was also freed\\nfrom its hideous guest. I could hardly believe that so great a good\\nfortune could have befallen me, but when I became assured that my enemy\\nhad indeed fled, I clapped my hands for joy and ran down to Clerval.\\n\\nWe ascended into my room, and the servant presently brought breakfast;\\nbut I was unable to contain myself. It was not joy only that possessed\\nme; I felt my flesh tingle with excess of sensitiveness, and my pulse\\nbeat rapidly. I was unable to remain for a single instant in the same\\nplace; I jumped over the chairs, clapped my hands, and laughed aloud.\\nClerval at first attributed my unusual spirits to joy on his arrival,\\nbut when he observed me more attentively, he saw a wildness in my eyes\\nfor which he could not account, and my loud, unrestrained, heartless\\nlaughter frightened and astonished him.\\n\\n“My dear Victor,” cried he, “what, for God’s sake,\\nis the matter? Do not laugh in that manner. How ill you are! What is the\\ncause of all this?”\\n\\n“Do not ask me,” cried I, putting my hands before my eyes, for I\\nthought I saw the dreaded spectre glide into the room; “_he_ can\\ntell. Oh, save me! Save me!” I imagined that the monster seized me;\\nI struggled furiously and fell down in a fit.\\n\\nPoor Clerval! What must have been his feelings? A meeting, which he\\nanticipated with such joy, so strangely turned to bitterness. But I\\nwas not the witness of his grief, for I was lifeless and did not\\nrecover my senses for a long, long time.\\n\\nThis was the commencement of a nervous fever which confined me for\\nseveral months. During all that time Henry was my only nurse. I\\nafterwards learned that, knowing my father’s advanced age and unfitness\\nfor so long a journey, and how wretched my sickness would make\\nElizabeth, he spared them this grief by concealing the extent of my\\ndisorder. He knew that I could not have a more kind and attentive\\nnurse than himself; and, firm in the hope he felt of my recovery, he\\ndid not doubt that, instead of doing harm, he performed the kindest\\naction that he could towards them.\\n\\nBut I was in reality very ill, and surely nothing but the unbounded and\\nunremitting attentions of my friend could have restored me to life.\\nThe form of the monster on whom I had bestowed existence was for ever\\nbefore my eyes, and I raved incessantly concerning him. Doubtless my\\nwords surprised Henry; he at first believed them to be the wanderings\\nof my disturbed imagination, but the pertinacity with which I\\ncontinually recurred to the same subject persuaded him that my disorder\\nindeed owed its origin to some uncommon and terrible event.\\n\\nBy very slow degrees, and with frequent relapses that alarmed and\\ngrieved my friend, I recovered. I remember the first time I became\\ncapable of observing outward objects with any kind of pleasure, I\\nperceived that the fallen leaves had disappeared and that the young\\nbuds were shooting forth from the trees that shaded my window. It was\\na divine spring, and the season contributed greatly to my\\nconvalescence. I felt also sentiments of joy and affection revive in\\nmy bosom; my gloom disappeared, and in a short time I became as\\ncheerful as before I was attacked by the fatal passion.\\n\\n“Dearest Clerval,” exclaimed I, “how kind, how very good\\nyou are to me. This whole winter, instead of being spent in study, as you\\npromised yourself, has been consumed in my sick room. How shall I ever\\nrepay you? I feel the greatest remorse for the disappointment of which I\\nhave been the occasion, but you will forgive me.”\\n\\n“You will repay me entirely if you do not discompose yourself, but get\\nwell as fast as you can; and since you appear in such good spirits, I\\nmay speak to you on one subject, may I not?”\\n\\nI trembled. One subject! What could it be? Could he allude to an object on\\nwhom I dared not even think?\\n\\n“Compose yourself,” said Clerval, who observed my change of\\ncolour, “I will not mention it if it agitates you; but your father\\nand cousin would be very happy if they received a letter from you in your\\nown handwriting. They hardly know how ill you have been and are uneasy at\\nyour long silence.”\\n\\n“Is that all, my dear Henry? How could you suppose that my first\\nthought would not fly towards those dear, dear friends whom I love and\\nwho are so deserving of my love?”\\n\\n“If this is your present temper, my friend, you will perhaps be glad\\nto see a letter that has been lying here some days for you; it is from\\nyour cousin, I believe.”\\n\\n\\n\\n\\n'"
            ],
            "application/vnd.google.colaboratory.intrinsic+json": {
              "type": "string"
            }
          },
          "metadata": {},
          "execution_count": 88
        }
      ],
      "source": [
        "chapter_n"
      ]
    },
    {
      "cell_type": "code",
      "execution_count": null,
      "metadata": {
        "id": "ghILIorhaQWp",
        "colab": {
          "base_uri": "https://localhost:8080/"
        },
        "outputId": "17c25a16-f020-4b1b-ce66-d45a1ae3f6f8"
      },
      "outputs": [
        {
          "output_type": "stream",
          "name": "stdout",
          "text": [
            "Paso 1. Obteniendo oraciones\n",
            "# oraciones: 90\n",
            "Paso 2. Procesando texto\n",
            "Paso 3. Creando matriz de similitud\n",
            "Paso 4. Estandariza matriz de similitud\n",
            "Paso 5. Ejecutando TextRank\n",
            "\tPaso 5. Terminado\n"
          ]
        }
      ],
      "source": [
        "bullet_points = summary(chapter_n, 5, False, eig = True, tol=1e-2)"
      ]
    },
    {
      "cell_type": "code",
      "execution_count": null,
      "metadata": {
        "id": "9maogRWKsV9R",
        "colab": {
          "base_uri": "https://localhost:8080/"
        },
        "outputId": "39560a3c-a40e-426f-8443-fa493f584d5b"
      },
      "outputs": [
        {
          "output_type": "stream",
          "name": "stdout",
          "text": [
            "- As it drew nearer I observed\n",
            "that it was the Swiss diligence; it stopped just where I was standing, and\n",
            "on the door being opened, I perceived Henry Clerval, who, on seeing me,\n",
            "instantly sprung out.\n",
            "\n",
            "- “You may easily believe,” said\n",
            "he, “how great was the difficulty to persuade my father that all\n",
            "necessary knowledge was not comprised in the noble art of book-keeping;\n",
            "and, indeed, I believe I left him incredulous to the last, for his constant\n",
            "answer to my unwearied entreaties was the same as that of the Dutch\n",
            "schoolmaster in The Vicar of Wakefield: ‘I have ten thousand florins\n",
            "a year without Greek, I eat heartily without Greek.’ But his\n",
            "affection for me at length overcame his dislike of learning, and he has\n",
            "permitted me to undertake a voyage of discovery to the land of\n",
            "knowledge.”\n",
            "\n",
            "“It gives me the greatest delight to see you; but tell me how you left\n",
            "my father, brothers, and Elizabeth.”\n",
            "\n",
            "“Very well, and very happy, only a little uneasy that they hear from\n",
            "you so seldom.\n",
            "\n",
            "- But it was in vain; I slept, indeed, but I was disturbed by the wildest\n",
            "dreams.\n",
            "\n",
            "- My heart palpitated in the sickness of fear, and I\n",
            "hurried on with irregular steps, not daring to look about me:\n",
            " \n",
            " Like one who, on a lonely road,\n",
            " Doth walk in fear and dread,\n",
            " And, having once turned round, walks on,\n",
            " And turns no more his head;\n",
            " Because he knows a frightful fiend\n",
            " Doth close behind him tread.\n",
            "\n",
            "- I\n",
            "had gazed on him while unfinished; he was ugly then, but when those\n",
            "muscles and joints were rendered capable of motion, it became a thing\n",
            "such as even Dante could not have conceived.\n",
            "\n"
          ]
        }
      ],
      "source": [
        "print_bullet_points(bullet_points)"
      ]
    },
    {
      "cell_type": "code",
      "execution_count": null,
      "metadata": {
        "id": "7xh7Q-Cnagx5",
        "colab": {
          "base_uri": "https://localhost:8080/"
        },
        "outputId": "ea2b95a1-9823-4cbc-dc5b-be6d2c5a06ae"
      },
      "outputs": [
        {
          "output_type": "execute_result",
          "data": {
            "text/plain": [
              "['Mientras se acercaba, observéque era la diligencia suiza; se detuvo justo donde yo estaba parado, yEn la puerta abierta, percibí a Henry Clerval, quien, al verme,instantáneamente salió.',\n",
              " 'Puedes creer fácilmente, dijoél, “cuán grande fue la dificultad de persuadir a mi padre de que todoslos conocimientos necesarios no estaban comprendidos en el noble arte de la contabilidad;y, de hecho, creo que lo dejé incrédulo hasta el último, por su constantela respuesta a mis súplicas infatigables era la misma que la de los holandesesmaestro de escuela en El Vicario de Wakefield: ‘Tengo diez mil florinesun año sin griego, como de todo corazón sin griego.’ Pero suel afecto por mí al fin superó su disgusto por el aprendizaje, y él tieneme permitió emprender un viaje de descubrimiento a la tierra deconocimiento.”Me da la mayor delicia verte; pero dime cómo te fuistemi padre, hermanos, y Elizabeth.”“Muy bien, y muy feliz, sólo un poco incómodo que oyen deEres muy rara.',\n",
              " 'Pero fue en vano; dormí, de hecho, pero fui perturbado por los más salvajesSueños.',\n",
              " 'Mi corazón palpitaba en la enfermedad del miedo, y yoCorrió con pasos irregulares, sin atreverse a mirar a mi alrededor:- No, no, no, no, no, no, no, no, no, no, no, no, no, no, no, no, no, no, no, no, no, no, no, no, no, no, no, no, no, no, no, no, no, no, no, no, no.Como alguien que, en un camino solitario,Camina con temor y temor,Y, habiendo dado la vuelta una vez, camina,Y no vuelva más su cabeza;Porque conoce a un demonio espantoso.Se cierra detrás de su pisada.',\n",
              " 'Ihabía mirado en él mientras estaba inacabado; él era feo entonces, pero cuando losmúsculos y articulaciones se hicieron capaces de movimiento, se convirtió en una cosacomo incluso Dante no podría haber concebido.']"
            ]
          },
          "metadata": {},
          "execution_count": 93
        }
      ],
      "source": [
        "translate(bullet_points, 'es') # ESPAÑOL"
      ]
    },
    {
      "cell_type": "markdown",
      "metadata": {
        "id": "FZkOKPyqbPUy"
      },
      "source": [
        "# Ejercicios"
      ]
    },
    {
      "cell_type": "markdown",
      "metadata": {
        "id": "8FceaxoTbVgN"
      },
      "source": [
        "## Matriz de similitud entre oraciones*\n",
        "\n",
        "Para la similitud entre las oraciones se uso el número de palabras que aparecen en ambas. **Reemplazar por similitud coseno** y comparar los resultados.\n",
        "\n",
        "Un muy buen primer acercamiento podría ser usando Latent Semantic Analysis y calcular la similitud coseno entre todos los documentos.\n",
        "\n",
        "Si tienen una DataFrame con las columnas ```[id_documento_1, id_documento_2, similitud]```, usar la función [```pandas.DataFrame.pivot```](https://pandas.pydata.org/docs/reference/api/pandas.DataFrame.pivot.html) puede ayudar a crear la matriz de similitud, dicha función toma como argumentos \"index\", \"columns\" y \"values\".\n",
        "\n",
        "\n"
      ]
    },
    {
      "cell_type": "markdown",
      "metadata": {
        "id": "HqBKwF5MfShn"
      },
      "source": [
        "## Idioma *\n",
        "\n",
        "Este ejemplo esta hecho para texto en inglés por las stopwords que se usan y el radicalizador (PorterStemmer). Hacer los cambios necesarios para que reciba textos en español.\n",
        "\n",
        "Esto es, cambiar las stopwords (nltk tiene stopwords en español) y el radicalizador (Pista: ```nltk.stemmer``` tiene más radicalizadores y uno de ellos tienen un algoritmo para el español)"
      ]
    },
    {
      "cell_type": "markdown",
      "metadata": {
        "id": "zJt0u90fgAWH"
      },
      "source": [
        "## Oraciones vs. Palabras\n",
        "\n",
        "En este Notebook utilizamos las oraciones para obtener el resumen, de haber utilizado las palabras, de TextRank obtendríamos las palabras clave del texto.\n",
        "\n",
        "Implementar TextRank con palabras. Para la matriz de similitud (o adyacencias), se pueden ligar las palabras que son consecutivas o definir una ventana de k palabras consecutivas en cada oración (parecido a skip-gram) y ligar todas estas palabras. En este caso, la matriz A tendría la dimensión del vocabulario (lista de palabras únicas) y tendría un 1 si las palabras están ligadas.\n",
        "\n",
        "Una alternativa más sería ocupar un embedding de palabras (e.g. word2vec) y calcular la similitud coseno entre los vectores de cada palabra para llenas a A.\n",
        "\n",
        "Después de eso, todo sería lo mismo."
      ]
    },
    {
      "cell_type": "markdown",
      "metadata": {
        "id": "LdXDlhlAkkPt"
      },
      "source": [
        "## Resumen sobre un tema *\n",
        "\n",
        "Aquí usamos sólo un documento para aplicarle TextRank. Podemos tener un corpus de documentos del mismo tema (e.g. noticias sobre precios de criptomonedas, etc) y aplicarlo para obtener los puntos importantes de todo el corpus.\n",
        "\n",
        "A la implementación actual no se le tiene que cambiar nada, sólo concatenar en una sola cadena de texto todo el corpus.\n",
        "\n",
        "Ejercicio: Construir un corpus con 4 artículos sobre un tema de interés, concatenarlos y pasarlo como parámetro a la función ```summary```."
      ]
    },
    {
      "cell_type": "markdown",
      "metadata": {
        "id": "sRPeC_Mjre7_"
      },
      "source": [
        "## Mejorar la función ```summary``` -\n",
        "\n",
        "Podemos dividir el código de la función para que funcionen como módulos y permita cierta libertad a la hora de ejecutarse. Por ejemplo, podríamos tener varias funciones que calculen la matriz A de diferentes maneras y que dentro de ```summary``` se ejecute una de tantas de acuerdo a un parámetro de la función.\n",
        "\n",
        "Ejercicio: Crear funciones para cada paso de ```summary```"
      ]
    },
    {
      "cell_type": "markdown",
      "metadata": {
        "id": "flM_zk_I0HAW"
      },
      "source": [
        "# Sobre la obtención de los valores de PageRank\n",
        "\n",
        "https://nlp.stanford.edu/IR-book/html/htmledition/the-pagerank-computation-1.html\n",
        "\n",
        "https://nlp.stanford.edu/IR-book/html/htmledition/markov-chains-1.html"
      ]
    }
  ],
  "metadata": {
    "colab": {
      "provenance": []
    },
    "kernelspec": {
      "display_name": "Python 3",
      "name": "python3"
    },
    "language_info": {
      "name": "python"
    },
    "widgets": {
      "application/vnd.jupyter.widget-state+json": {
        "50c62c1a279d4976a7b362e476b5177d": {
          "model_module": "@jupyter-widgets/controls",
          "model_name": "HBoxModel",
          "model_module_version": "1.5.0",
          "state": {
            "_dom_classes": [],
            "_model_module": "@jupyter-widgets/controls",
            "_model_module_version": "1.5.0",
            "_model_name": "HBoxModel",
            "_view_count": null,
            "_view_module": "@jupyter-widgets/controls",
            "_view_module_version": "1.5.0",
            "_view_name": "HBoxView",
            "box_style": "",
            "children": [
              "IPY_MODEL_e36ad2d18d9f4f9498b443ba237af9b4",
              "IPY_MODEL_7611135fabc546639d2a009bd3b96b92",
              "IPY_MODEL_e2947403ec29426e8b6d983953d63efb"
            ],
            "layout": "IPY_MODEL_513c20d5a5494bfdbd02bf81b447c72d"
          }
        },
        "e36ad2d18d9f4f9498b443ba237af9b4": {
          "model_module": "@jupyter-widgets/controls",
          "model_name": "HTMLModel",
          "model_module_version": "1.5.0",
          "state": {
            "_dom_classes": [],
            "_model_module": "@jupyter-widgets/controls",
            "_model_module_version": "1.5.0",
            "_model_name": "HTMLModel",
            "_view_count": null,
            "_view_module": "@jupyter-widgets/controls",
            "_view_module_version": "1.5.0",
            "_view_name": "HTMLView",
            "description": "",
            "description_tooltip": null,
            "layout": "IPY_MODEL_3965cade2e7c4e2e90a7da34d4bab236",
            "placeholder": "​",
            "style": "IPY_MODEL_d3c59950cda34594b501795073bf1d8e",
            "value": "(…)m/fasttext/supervised-models/lid.176.ftz: 100%"
          }
        },
        "7611135fabc546639d2a009bd3b96b92": {
          "model_module": "@jupyter-widgets/controls",
          "model_name": "FloatProgressModel",
          "model_module_version": "1.5.0",
          "state": {
            "_dom_classes": [],
            "_model_module": "@jupyter-widgets/controls",
            "_model_module_version": "1.5.0",
            "_model_name": "FloatProgressModel",
            "_view_count": null,
            "_view_module": "@jupyter-widgets/controls",
            "_view_module_version": "1.5.0",
            "_view_name": "ProgressView",
            "bar_style": "success",
            "description": "",
            "description_tooltip": null,
            "layout": "IPY_MODEL_e8f76204151f4c3bbd8ee36e57b776d9",
            "max": 938013,
            "min": 0,
            "orientation": "horizontal",
            "style": "IPY_MODEL_19c73f57284d4699b3d5063ccf8220ee",
            "value": 938013
          }
        },
        "e2947403ec29426e8b6d983953d63efb": {
          "model_module": "@jupyter-widgets/controls",
          "model_name": "HTMLModel",
          "model_module_version": "1.5.0",
          "state": {
            "_dom_classes": [],
            "_model_module": "@jupyter-widgets/controls",
            "_model_module_version": "1.5.0",
            "_model_name": "HTMLModel",
            "_view_count": null,
            "_view_module": "@jupyter-widgets/controls",
            "_view_module_version": "1.5.0",
            "_view_name": "HTMLView",
            "description": "",
            "description_tooltip": null,
            "layout": "IPY_MODEL_c971c266341c4d64ba66fbd2a4960388",
            "placeholder": "​",
            "style": "IPY_MODEL_6a5ca5b63ef64c8f9f3942a7388b87fa",
            "value": " 938k/938k [00:00&lt;00:00, 7.36MB/s]"
          }
        },
        "513c20d5a5494bfdbd02bf81b447c72d": {
          "model_module": "@jupyter-widgets/base",
          "model_name": "LayoutModel",
          "model_module_version": "1.2.0",
          "state": {
            "_model_module": "@jupyter-widgets/base",
            "_model_module_version": "1.2.0",
            "_model_name": "LayoutModel",
            "_view_count": null,
            "_view_module": "@jupyter-widgets/base",
            "_view_module_version": "1.2.0",
            "_view_name": "LayoutView",
            "align_content": null,
            "align_items": null,
            "align_self": null,
            "border": null,
            "bottom": null,
            "display": null,
            "flex": null,
            "flex_flow": null,
            "grid_area": null,
            "grid_auto_columns": null,
            "grid_auto_flow": null,
            "grid_auto_rows": null,
            "grid_column": null,
            "grid_gap": null,
            "grid_row": null,
            "grid_template_areas": null,
            "grid_template_columns": null,
            "grid_template_rows": null,
            "height": null,
            "justify_content": null,
            "justify_items": null,
            "left": null,
            "margin": null,
            "max_height": null,
            "max_width": null,
            "min_height": null,
            "min_width": null,
            "object_fit": null,
            "object_position": null,
            "order": null,
            "overflow": null,
            "overflow_x": null,
            "overflow_y": null,
            "padding": null,
            "right": null,
            "top": null,
            "visibility": null,
            "width": null
          }
        },
        "3965cade2e7c4e2e90a7da34d4bab236": {
          "model_module": "@jupyter-widgets/base",
          "model_name": "LayoutModel",
          "model_module_version": "1.2.0",
          "state": {
            "_model_module": "@jupyter-widgets/base",
            "_model_module_version": "1.2.0",
            "_model_name": "LayoutModel",
            "_view_count": null,
            "_view_module": "@jupyter-widgets/base",
            "_view_module_version": "1.2.0",
            "_view_name": "LayoutView",
            "align_content": null,
            "align_items": null,
            "align_self": null,
            "border": null,
            "bottom": null,
            "display": null,
            "flex": null,
            "flex_flow": null,
            "grid_area": null,
            "grid_auto_columns": null,
            "grid_auto_flow": null,
            "grid_auto_rows": null,
            "grid_column": null,
            "grid_gap": null,
            "grid_row": null,
            "grid_template_areas": null,
            "grid_template_columns": null,
            "grid_template_rows": null,
            "height": null,
            "justify_content": null,
            "justify_items": null,
            "left": null,
            "margin": null,
            "max_height": null,
            "max_width": null,
            "min_height": null,
            "min_width": null,
            "object_fit": null,
            "object_position": null,
            "order": null,
            "overflow": null,
            "overflow_x": null,
            "overflow_y": null,
            "padding": null,
            "right": null,
            "top": null,
            "visibility": null,
            "width": null
          }
        },
        "d3c59950cda34594b501795073bf1d8e": {
          "model_module": "@jupyter-widgets/controls",
          "model_name": "DescriptionStyleModel",
          "model_module_version": "1.5.0",
          "state": {
            "_model_module": "@jupyter-widgets/controls",
            "_model_module_version": "1.5.0",
            "_model_name": "DescriptionStyleModel",
            "_view_count": null,
            "_view_module": "@jupyter-widgets/base",
            "_view_module_version": "1.2.0",
            "_view_name": "StyleView",
            "description_width": ""
          }
        },
        "e8f76204151f4c3bbd8ee36e57b776d9": {
          "model_module": "@jupyter-widgets/base",
          "model_name": "LayoutModel",
          "model_module_version": "1.2.0",
          "state": {
            "_model_module": "@jupyter-widgets/base",
            "_model_module_version": "1.2.0",
            "_model_name": "LayoutModel",
            "_view_count": null,
            "_view_module": "@jupyter-widgets/base",
            "_view_module_version": "1.2.0",
            "_view_name": "LayoutView",
            "align_content": null,
            "align_items": null,
            "align_self": null,
            "border": null,
            "bottom": null,
            "display": null,
            "flex": null,
            "flex_flow": null,
            "grid_area": null,
            "grid_auto_columns": null,
            "grid_auto_flow": null,
            "grid_auto_rows": null,
            "grid_column": null,
            "grid_gap": null,
            "grid_row": null,
            "grid_template_areas": null,
            "grid_template_columns": null,
            "grid_template_rows": null,
            "height": null,
            "justify_content": null,
            "justify_items": null,
            "left": null,
            "margin": null,
            "max_height": null,
            "max_width": null,
            "min_height": null,
            "min_width": null,
            "object_fit": null,
            "object_position": null,
            "order": null,
            "overflow": null,
            "overflow_x": null,
            "overflow_y": null,
            "padding": null,
            "right": null,
            "top": null,
            "visibility": null,
            "width": null
          }
        },
        "19c73f57284d4699b3d5063ccf8220ee": {
          "model_module": "@jupyter-widgets/controls",
          "model_name": "ProgressStyleModel",
          "model_module_version": "1.5.0",
          "state": {
            "_model_module": "@jupyter-widgets/controls",
            "_model_module_version": "1.5.0",
            "_model_name": "ProgressStyleModel",
            "_view_count": null,
            "_view_module": "@jupyter-widgets/base",
            "_view_module_version": "1.2.0",
            "_view_name": "StyleView",
            "bar_color": null,
            "description_width": ""
          }
        },
        "c971c266341c4d64ba66fbd2a4960388": {
          "model_module": "@jupyter-widgets/base",
          "model_name": "LayoutModel",
          "model_module_version": "1.2.0",
          "state": {
            "_model_module": "@jupyter-widgets/base",
            "_model_module_version": "1.2.0",
            "_model_name": "LayoutModel",
            "_view_count": null,
            "_view_module": "@jupyter-widgets/base",
            "_view_module_version": "1.2.0",
            "_view_name": "LayoutView",
            "align_content": null,
            "align_items": null,
            "align_self": null,
            "border": null,
            "bottom": null,
            "display": null,
            "flex": null,
            "flex_flow": null,
            "grid_area": null,
            "grid_auto_columns": null,
            "grid_auto_flow": null,
            "grid_auto_rows": null,
            "grid_column": null,
            "grid_gap": null,
            "grid_row": null,
            "grid_template_areas": null,
            "grid_template_columns": null,
            "grid_template_rows": null,
            "height": null,
            "justify_content": null,
            "justify_items": null,
            "left": null,
            "margin": null,
            "max_height": null,
            "max_width": null,
            "min_height": null,
            "min_width": null,
            "object_fit": null,
            "object_position": null,
            "order": null,
            "overflow": null,
            "overflow_x": null,
            "overflow_y": null,
            "padding": null,
            "right": null,
            "top": null,
            "visibility": null,
            "width": null
          }
        },
        "6a5ca5b63ef64c8f9f3942a7388b87fa": {
          "model_module": "@jupyter-widgets/controls",
          "model_name": "DescriptionStyleModel",
          "model_module_version": "1.5.0",
          "state": {
            "_model_module": "@jupyter-widgets/controls",
            "_model_module_version": "1.5.0",
            "_model_name": "DescriptionStyleModel",
            "_view_count": null,
            "_view_module": "@jupyter-widgets/base",
            "_view_module_version": "1.2.0",
            "_view_name": "StyleView",
            "description_width": ""
          }
        },
        "2504bb618f61452b82768797d3d5df64": {
          "model_module": "@jupyter-widgets/controls",
          "model_name": "HBoxModel",
          "model_module_version": "1.5.0",
          "state": {
            "_dom_classes": [],
            "_model_module": "@jupyter-widgets/controls",
            "_model_module_version": "1.5.0",
            "_model_name": "HBoxModel",
            "_view_count": null,
            "_view_module": "@jupyter-widgets/controls",
            "_view_module_version": "1.5.0",
            "_view_name": "HBoxView",
            "box_style": "",
            "children": [
              "IPY_MODEL_859664c6fd9a4ef4a246df7b1c5c93a1",
              "IPY_MODEL_f26a24217f5e46c9979a97019e727e4b",
              "IPY_MODEL_e2faf4f92c004e57a2d423f7a394fa64"
            ],
            "layout": "IPY_MODEL_d24129f4b5014cb7a1489c82ddcbad08"
          }
        },
        "859664c6fd9a4ef4a246df7b1c5c93a1": {
          "model_module": "@jupyter-widgets/controls",
          "model_name": "HTMLModel",
          "model_module_version": "1.5.0",
          "state": {
            "_dom_classes": [],
            "_model_module": "@jupyter-widgets/controls",
            "_model_module_version": "1.5.0",
            "_model_name": "HTMLModel",
            "_view_count": null,
            "_view_module": "@jupyter-widgets/controls",
            "_view_module_version": "1.5.0",
            "_view_name": "HTMLView",
            "description": "",
            "description_tooltip": null,
            "layout": "IPY_MODEL_56524cd70d7c4d5d8a9577464dbeff92",
            "placeholder": "​",
            "style": "IPY_MODEL_31585bf4f2654b06b02730870ac2564f",
            "value": "config.json: 100%"
          }
        },
        "f26a24217f5e46c9979a97019e727e4b": {
          "model_module": "@jupyter-widgets/controls",
          "model_name": "FloatProgressModel",
          "model_module_version": "1.5.0",
          "state": {
            "_dom_classes": [],
            "_model_module": "@jupyter-widgets/controls",
            "_model_module_version": "1.5.0",
            "_model_name": "FloatProgressModel",
            "_view_count": null,
            "_view_module": "@jupyter-widgets/controls",
            "_view_module_version": "1.5.0",
            "_view_name": "ProgressView",
            "bar_style": "success",
            "description": "",
            "description_tooltip": null,
            "layout": "IPY_MODEL_00c92f37710e47aeb40e8cf1a0bf069f",
            "max": 1473,
            "min": 0,
            "orientation": "horizontal",
            "style": "IPY_MODEL_60c957b9225c4db79eb8d6ee6a1faa9d",
            "value": 1473
          }
        },
        "e2faf4f92c004e57a2d423f7a394fa64": {
          "model_module": "@jupyter-widgets/controls",
          "model_name": "HTMLModel",
          "model_module_version": "1.5.0",
          "state": {
            "_dom_classes": [],
            "_model_module": "@jupyter-widgets/controls",
            "_model_module_version": "1.5.0",
            "_model_name": "HTMLModel",
            "_view_count": null,
            "_view_module": "@jupyter-widgets/controls",
            "_view_module_version": "1.5.0",
            "_view_name": "HTMLView",
            "description": "",
            "description_tooltip": null,
            "layout": "IPY_MODEL_b046f4b4ca04450981824c1288afe8a6",
            "placeholder": "​",
            "style": "IPY_MODEL_54e3876cea904b879f0c53307af7c79c",
            "value": " 1.47k/1.47k [00:00&lt;00:00, 80.1kB/s]"
          }
        },
        "d24129f4b5014cb7a1489c82ddcbad08": {
          "model_module": "@jupyter-widgets/base",
          "model_name": "LayoutModel",
          "model_module_version": "1.2.0",
          "state": {
            "_model_module": "@jupyter-widgets/base",
            "_model_module_version": "1.2.0",
            "_model_name": "LayoutModel",
            "_view_count": null,
            "_view_module": "@jupyter-widgets/base",
            "_view_module_version": "1.2.0",
            "_view_name": "LayoutView",
            "align_content": null,
            "align_items": null,
            "align_self": null,
            "border": null,
            "bottom": null,
            "display": null,
            "flex": null,
            "flex_flow": null,
            "grid_area": null,
            "grid_auto_columns": null,
            "grid_auto_flow": null,
            "grid_auto_rows": null,
            "grid_column": null,
            "grid_gap": null,
            "grid_row": null,
            "grid_template_areas": null,
            "grid_template_columns": null,
            "grid_template_rows": null,
            "height": null,
            "justify_content": null,
            "justify_items": null,
            "left": null,
            "margin": null,
            "max_height": null,
            "max_width": null,
            "min_height": null,
            "min_width": null,
            "object_fit": null,
            "object_position": null,
            "order": null,
            "overflow": null,
            "overflow_x": null,
            "overflow_y": null,
            "padding": null,
            "right": null,
            "top": null,
            "visibility": null,
            "width": null
          }
        },
        "56524cd70d7c4d5d8a9577464dbeff92": {
          "model_module": "@jupyter-widgets/base",
          "model_name": "LayoutModel",
          "model_module_version": "1.2.0",
          "state": {
            "_model_module": "@jupyter-widgets/base",
            "_model_module_version": "1.2.0",
            "_model_name": "LayoutModel",
            "_view_count": null,
            "_view_module": "@jupyter-widgets/base",
            "_view_module_version": "1.2.0",
            "_view_name": "LayoutView",
            "align_content": null,
            "align_items": null,
            "align_self": null,
            "border": null,
            "bottom": null,
            "display": null,
            "flex": null,
            "flex_flow": null,
            "grid_area": null,
            "grid_auto_columns": null,
            "grid_auto_flow": null,
            "grid_auto_rows": null,
            "grid_column": null,
            "grid_gap": null,
            "grid_row": null,
            "grid_template_areas": null,
            "grid_template_columns": null,
            "grid_template_rows": null,
            "height": null,
            "justify_content": null,
            "justify_items": null,
            "left": null,
            "margin": null,
            "max_height": null,
            "max_width": null,
            "min_height": null,
            "min_width": null,
            "object_fit": null,
            "object_position": null,
            "order": null,
            "overflow": null,
            "overflow_x": null,
            "overflow_y": null,
            "padding": null,
            "right": null,
            "top": null,
            "visibility": null,
            "width": null
          }
        },
        "31585bf4f2654b06b02730870ac2564f": {
          "model_module": "@jupyter-widgets/controls",
          "model_name": "DescriptionStyleModel",
          "model_module_version": "1.5.0",
          "state": {
            "_model_module": "@jupyter-widgets/controls",
            "_model_module_version": "1.5.0",
            "_model_name": "DescriptionStyleModel",
            "_view_count": null,
            "_view_module": "@jupyter-widgets/base",
            "_view_module_version": "1.2.0",
            "_view_name": "StyleView",
            "description_width": ""
          }
        },
        "00c92f37710e47aeb40e8cf1a0bf069f": {
          "model_module": "@jupyter-widgets/base",
          "model_name": "LayoutModel",
          "model_module_version": "1.2.0",
          "state": {
            "_model_module": "@jupyter-widgets/base",
            "_model_module_version": "1.2.0",
            "_model_name": "LayoutModel",
            "_view_count": null,
            "_view_module": "@jupyter-widgets/base",
            "_view_module_version": "1.2.0",
            "_view_name": "LayoutView",
            "align_content": null,
            "align_items": null,
            "align_self": null,
            "border": null,
            "bottom": null,
            "display": null,
            "flex": null,
            "flex_flow": null,
            "grid_area": null,
            "grid_auto_columns": null,
            "grid_auto_flow": null,
            "grid_auto_rows": null,
            "grid_column": null,
            "grid_gap": null,
            "grid_row": null,
            "grid_template_areas": null,
            "grid_template_columns": null,
            "grid_template_rows": null,
            "height": null,
            "justify_content": null,
            "justify_items": null,
            "left": null,
            "margin": null,
            "max_height": null,
            "max_width": null,
            "min_height": null,
            "min_width": null,
            "object_fit": null,
            "object_position": null,
            "order": null,
            "overflow": null,
            "overflow_x": null,
            "overflow_y": null,
            "padding": null,
            "right": null,
            "top": null,
            "visibility": null,
            "width": null
          }
        },
        "60c957b9225c4db79eb8d6ee6a1faa9d": {
          "model_module": "@jupyter-widgets/controls",
          "model_name": "ProgressStyleModel",
          "model_module_version": "1.5.0",
          "state": {
            "_model_module": "@jupyter-widgets/controls",
            "_model_module_version": "1.5.0",
            "_model_name": "ProgressStyleModel",
            "_view_count": null,
            "_view_module": "@jupyter-widgets/base",
            "_view_module_version": "1.2.0",
            "_view_name": "StyleView",
            "bar_color": null,
            "description_width": ""
          }
        },
        "b046f4b4ca04450981824c1288afe8a6": {
          "model_module": "@jupyter-widgets/base",
          "model_name": "LayoutModel",
          "model_module_version": "1.2.0",
          "state": {
            "_model_module": "@jupyter-widgets/base",
            "_model_module_version": "1.2.0",
            "_model_name": "LayoutModel",
            "_view_count": null,
            "_view_module": "@jupyter-widgets/base",
            "_view_module_version": "1.2.0",
            "_view_name": "LayoutView",
            "align_content": null,
            "align_items": null,
            "align_self": null,
            "border": null,
            "bottom": null,
            "display": null,
            "flex": null,
            "flex_flow": null,
            "grid_area": null,
            "grid_auto_columns": null,
            "grid_auto_flow": null,
            "grid_auto_rows": null,
            "grid_column": null,
            "grid_gap": null,
            "grid_row": null,
            "grid_template_areas": null,
            "grid_template_columns": null,
            "grid_template_rows": null,
            "height": null,
            "justify_content": null,
            "justify_items": null,
            "left": null,
            "margin": null,
            "max_height": null,
            "max_width": null,
            "min_height": null,
            "min_width": null,
            "object_fit": null,
            "object_position": null,
            "order": null,
            "overflow": null,
            "overflow_x": null,
            "overflow_y": null,
            "padding": null,
            "right": null,
            "top": null,
            "visibility": null,
            "width": null
          }
        },
        "54e3876cea904b879f0c53307af7c79c": {
          "model_module": "@jupyter-widgets/controls",
          "model_name": "DescriptionStyleModel",
          "model_module_version": "1.5.0",
          "state": {
            "_model_module": "@jupyter-widgets/controls",
            "_model_module_version": "1.5.0",
            "_model_name": "DescriptionStyleModel",
            "_view_count": null,
            "_view_module": "@jupyter-widgets/base",
            "_view_module_version": "1.2.0",
            "_view_name": "StyleView",
            "description_width": ""
          }
        },
        "283bc75caa344643a1f071be54334b36": {
          "model_module": "@jupyter-widgets/controls",
          "model_name": "HBoxModel",
          "model_module_version": "1.5.0",
          "state": {
            "_dom_classes": [],
            "_model_module": "@jupyter-widgets/controls",
            "_model_module_version": "1.5.0",
            "_model_name": "HBoxModel",
            "_view_count": null,
            "_view_module": "@jupyter-widgets/controls",
            "_view_module_version": "1.5.0",
            "_view_name": "HBoxView",
            "box_style": "",
            "children": [
              "IPY_MODEL_542315587cf7453dba0fe19e2b5f2dd5",
              "IPY_MODEL_b6b4419b030945e3b1c2a74a187911fc",
              "IPY_MODEL_c72621c3434b44c096bd61fe1ef77e16"
            ],
            "layout": "IPY_MODEL_257d0102515b4cd28af9162987dab7b6"
          }
        },
        "542315587cf7453dba0fe19e2b5f2dd5": {
          "model_module": "@jupyter-widgets/controls",
          "model_name": "HTMLModel",
          "model_module_version": "1.5.0",
          "state": {
            "_dom_classes": [],
            "_model_module": "@jupyter-widgets/controls",
            "_model_module_version": "1.5.0",
            "_model_name": "HTMLModel",
            "_view_count": null,
            "_view_module": "@jupyter-widgets/controls",
            "_view_module_version": "1.5.0",
            "_view_name": "HTMLView",
            "description": "",
            "description_tooltip": null,
            "layout": "IPY_MODEL_5918b06854ff4476be5439e1dfff57ef",
            "placeholder": "​",
            "style": "IPY_MODEL_7d5fb8939b844c10a5db086384a297bc",
            "value": "pytorch_model.bin: 100%"
          }
        },
        "b6b4419b030945e3b1c2a74a187911fc": {
          "model_module": "@jupyter-widgets/controls",
          "model_name": "FloatProgressModel",
          "model_module_version": "1.5.0",
          "state": {
            "_dom_classes": [],
            "_model_module": "@jupyter-widgets/controls",
            "_model_module_version": "1.5.0",
            "_model_name": "FloatProgressModel",
            "_view_count": null,
            "_view_module": "@jupyter-widgets/controls",
            "_view_module_version": "1.5.0",
            "_view_name": "ProgressView",
            "bar_style": "success",
            "description": "",
            "description_tooltip": null,
            "layout": "IPY_MODEL_8166ae1cf2f345a7b8e71464e0738fb2",
            "max": 312087523,
            "min": 0,
            "orientation": "horizontal",
            "style": "IPY_MODEL_44e45279206f446793f26c37fbfe9e96",
            "value": 312087523
          }
        },
        "c72621c3434b44c096bd61fe1ef77e16": {
          "model_module": "@jupyter-widgets/controls",
          "model_name": "HTMLModel",
          "model_module_version": "1.5.0",
          "state": {
            "_dom_classes": [],
            "_model_module": "@jupyter-widgets/controls",
            "_model_module_version": "1.5.0",
            "_model_name": "HTMLModel",
            "_view_count": null,
            "_view_module": "@jupyter-widgets/controls",
            "_view_module_version": "1.5.0",
            "_view_name": "HTMLView",
            "description": "",
            "description_tooltip": null,
            "layout": "IPY_MODEL_bfb4b8d21b2f4b338f5dc04c31172ad2",
            "placeholder": "​",
            "style": "IPY_MODEL_464debebf8624b3e92776e4b19f418af",
            "value": " 312M/312M [00:02&lt;00:00, 138MB/s]"
          }
        },
        "257d0102515b4cd28af9162987dab7b6": {
          "model_module": "@jupyter-widgets/base",
          "model_name": "LayoutModel",
          "model_module_version": "1.2.0",
          "state": {
            "_model_module": "@jupyter-widgets/base",
            "_model_module_version": "1.2.0",
            "_model_name": "LayoutModel",
            "_view_count": null,
            "_view_module": "@jupyter-widgets/base",
            "_view_module_version": "1.2.0",
            "_view_name": "LayoutView",
            "align_content": null,
            "align_items": null,
            "align_self": null,
            "border": null,
            "bottom": null,
            "display": null,
            "flex": null,
            "flex_flow": null,
            "grid_area": null,
            "grid_auto_columns": null,
            "grid_auto_flow": null,
            "grid_auto_rows": null,
            "grid_column": null,
            "grid_gap": null,
            "grid_row": null,
            "grid_template_areas": null,
            "grid_template_columns": null,
            "grid_template_rows": null,
            "height": null,
            "justify_content": null,
            "justify_items": null,
            "left": null,
            "margin": null,
            "max_height": null,
            "max_width": null,
            "min_height": null,
            "min_width": null,
            "object_fit": null,
            "object_position": null,
            "order": null,
            "overflow": null,
            "overflow_x": null,
            "overflow_y": null,
            "padding": null,
            "right": null,
            "top": null,
            "visibility": null,
            "width": null
          }
        },
        "5918b06854ff4476be5439e1dfff57ef": {
          "model_module": "@jupyter-widgets/base",
          "model_name": "LayoutModel",
          "model_module_version": "1.2.0",
          "state": {
            "_model_module": "@jupyter-widgets/base",
            "_model_module_version": "1.2.0",
            "_model_name": "LayoutModel",
            "_view_count": null,
            "_view_module": "@jupyter-widgets/base",
            "_view_module_version": "1.2.0",
            "_view_name": "LayoutView",
            "align_content": null,
            "align_items": null,
            "align_self": null,
            "border": null,
            "bottom": null,
            "display": null,
            "flex": null,
            "flex_flow": null,
            "grid_area": null,
            "grid_auto_columns": null,
            "grid_auto_flow": null,
            "grid_auto_rows": null,
            "grid_column": null,
            "grid_gap": null,
            "grid_row": null,
            "grid_template_areas": null,
            "grid_template_columns": null,
            "grid_template_rows": null,
            "height": null,
            "justify_content": null,
            "justify_items": null,
            "left": null,
            "margin": null,
            "max_height": null,
            "max_width": null,
            "min_height": null,
            "min_width": null,
            "object_fit": null,
            "object_position": null,
            "order": null,
            "overflow": null,
            "overflow_x": null,
            "overflow_y": null,
            "padding": null,
            "right": null,
            "top": null,
            "visibility": null,
            "width": null
          }
        },
        "7d5fb8939b844c10a5db086384a297bc": {
          "model_module": "@jupyter-widgets/controls",
          "model_name": "DescriptionStyleModel",
          "model_module_version": "1.5.0",
          "state": {
            "_model_module": "@jupyter-widgets/controls",
            "_model_module_version": "1.5.0",
            "_model_name": "DescriptionStyleModel",
            "_view_count": null,
            "_view_module": "@jupyter-widgets/base",
            "_view_module_version": "1.2.0",
            "_view_name": "StyleView",
            "description_width": ""
          }
        },
        "8166ae1cf2f345a7b8e71464e0738fb2": {
          "model_module": "@jupyter-widgets/base",
          "model_name": "LayoutModel",
          "model_module_version": "1.2.0",
          "state": {
            "_model_module": "@jupyter-widgets/base",
            "_model_module_version": "1.2.0",
            "_model_name": "LayoutModel",
            "_view_count": null,
            "_view_module": "@jupyter-widgets/base",
            "_view_module_version": "1.2.0",
            "_view_name": "LayoutView",
            "align_content": null,
            "align_items": null,
            "align_self": null,
            "border": null,
            "bottom": null,
            "display": null,
            "flex": null,
            "flex_flow": null,
            "grid_area": null,
            "grid_auto_columns": null,
            "grid_auto_flow": null,
            "grid_auto_rows": null,
            "grid_column": null,
            "grid_gap": null,
            "grid_row": null,
            "grid_template_areas": null,
            "grid_template_columns": null,
            "grid_template_rows": null,
            "height": null,
            "justify_content": null,
            "justify_items": null,
            "left": null,
            "margin": null,
            "max_height": null,
            "max_width": null,
            "min_height": null,
            "min_width": null,
            "object_fit": null,
            "object_position": null,
            "order": null,
            "overflow": null,
            "overflow_x": null,
            "overflow_y": null,
            "padding": null,
            "right": null,
            "top": null,
            "visibility": null,
            "width": null
          }
        },
        "44e45279206f446793f26c37fbfe9e96": {
          "model_module": "@jupyter-widgets/controls",
          "model_name": "ProgressStyleModel",
          "model_module_version": "1.5.0",
          "state": {
            "_model_module": "@jupyter-widgets/controls",
            "_model_module_version": "1.5.0",
            "_model_name": "ProgressStyleModel",
            "_view_count": null,
            "_view_module": "@jupyter-widgets/base",
            "_view_module_version": "1.2.0",
            "_view_name": "StyleView",
            "bar_color": null,
            "description_width": ""
          }
        },
        "bfb4b8d21b2f4b338f5dc04c31172ad2": {
          "model_module": "@jupyter-widgets/base",
          "model_name": "LayoutModel",
          "model_module_version": "1.2.0",
          "state": {
            "_model_module": "@jupyter-widgets/base",
            "_model_module_version": "1.2.0",
            "_model_name": "LayoutModel",
            "_view_count": null,
            "_view_module": "@jupyter-widgets/base",
            "_view_module_version": "1.2.0",
            "_view_name": "LayoutView",
            "align_content": null,
            "align_items": null,
            "align_self": null,
            "border": null,
            "bottom": null,
            "display": null,
            "flex": null,
            "flex_flow": null,
            "grid_area": null,
            "grid_auto_columns": null,
            "grid_auto_flow": null,
            "grid_auto_rows": null,
            "grid_column": null,
            "grid_gap": null,
            "grid_row": null,
            "grid_template_areas": null,
            "grid_template_columns": null,
            "grid_template_rows": null,
            "height": null,
            "justify_content": null,
            "justify_items": null,
            "left": null,
            "margin": null,
            "max_height": null,
            "max_width": null,
            "min_height": null,
            "min_width": null,
            "object_fit": null,
            "object_position": null,
            "order": null,
            "overflow": null,
            "overflow_x": null,
            "overflow_y": null,
            "padding": null,
            "right": null,
            "top": null,
            "visibility": null,
            "width": null
          }
        },
        "464debebf8624b3e92776e4b19f418af": {
          "model_module": "@jupyter-widgets/controls",
          "model_name": "DescriptionStyleModel",
          "model_module_version": "1.5.0",
          "state": {
            "_model_module": "@jupyter-widgets/controls",
            "_model_module_version": "1.5.0",
            "_model_name": "DescriptionStyleModel",
            "_view_count": null,
            "_view_module": "@jupyter-widgets/base",
            "_view_module_version": "1.2.0",
            "_view_name": "StyleView",
            "description_width": ""
          }
        },
        "b186694139bc42f79cbae5f445a63ca6": {
          "model_module": "@jupyter-widgets/controls",
          "model_name": "HBoxModel",
          "model_module_version": "1.5.0",
          "state": {
            "_dom_classes": [],
            "_model_module": "@jupyter-widgets/controls",
            "_model_module_version": "1.5.0",
            "_model_name": "HBoxModel",
            "_view_count": null,
            "_view_module": "@jupyter-widgets/controls",
            "_view_module_version": "1.5.0",
            "_view_name": "HBoxView",
            "box_style": "",
            "children": [
              "IPY_MODEL_8b9c70b8eff94d5b963072fbbbc5faab",
              "IPY_MODEL_a632342b7c2645b4994636e5b698f3cb",
              "IPY_MODEL_5bca9c8372734222b92e8d03068d4bf5"
            ],
            "layout": "IPY_MODEL_3aa649daae0b4dfbbccef40713993992"
          }
        },
        "8b9c70b8eff94d5b963072fbbbc5faab": {
          "model_module": "@jupyter-widgets/controls",
          "model_name": "HTMLModel",
          "model_module_version": "1.5.0",
          "state": {
            "_dom_classes": [],
            "_model_module": "@jupyter-widgets/controls",
            "_model_module_version": "1.5.0",
            "_model_name": "HTMLModel",
            "_view_count": null,
            "_view_module": "@jupyter-widgets/controls",
            "_view_module_version": "1.5.0",
            "_view_name": "HTMLView",
            "description": "",
            "description_tooltip": null,
            "layout": "IPY_MODEL_7663b7f0142c4bc191c70e64ca2adb28",
            "placeholder": "​",
            "style": "IPY_MODEL_28834533f8f145a4b57ffc2fb290dd1d",
            "value": "generation_config.json: 100%"
          }
        },
        "a632342b7c2645b4994636e5b698f3cb": {
          "model_module": "@jupyter-widgets/controls",
          "model_name": "FloatProgressModel",
          "model_module_version": "1.5.0",
          "state": {
            "_dom_classes": [],
            "_model_module": "@jupyter-widgets/controls",
            "_model_module_version": "1.5.0",
            "_model_name": "FloatProgressModel",
            "_view_count": null,
            "_view_module": "@jupyter-widgets/controls",
            "_view_module_version": "1.5.0",
            "_view_name": "ProgressView",
            "bar_style": "success",
            "description": "",
            "description_tooltip": null,
            "layout": "IPY_MODEL_928e1be2534e428aafa76d623bce4b3a",
            "max": 293,
            "min": 0,
            "orientation": "horizontal",
            "style": "IPY_MODEL_37f9c4d3e95849c392aae4b54dfdd935",
            "value": 293
          }
        },
        "5bca9c8372734222b92e8d03068d4bf5": {
          "model_module": "@jupyter-widgets/controls",
          "model_name": "HTMLModel",
          "model_module_version": "1.5.0",
          "state": {
            "_dom_classes": [],
            "_model_module": "@jupyter-widgets/controls",
            "_model_module_version": "1.5.0",
            "_model_name": "HTMLModel",
            "_view_count": null,
            "_view_module": "@jupyter-widgets/controls",
            "_view_module_version": "1.5.0",
            "_view_name": "HTMLView",
            "description": "",
            "description_tooltip": null,
            "layout": "IPY_MODEL_d7007676c348427b95c2614537b7f2ed",
            "placeholder": "​",
            "style": "IPY_MODEL_fd20ab2a51f4412480a1d60708adb8e7",
            "value": " 293/293 [00:00&lt;00:00, 10.1kB/s]"
          }
        },
        "3aa649daae0b4dfbbccef40713993992": {
          "model_module": "@jupyter-widgets/base",
          "model_name": "LayoutModel",
          "model_module_version": "1.2.0",
          "state": {
            "_model_module": "@jupyter-widgets/base",
            "_model_module_version": "1.2.0",
            "_model_name": "LayoutModel",
            "_view_count": null,
            "_view_module": "@jupyter-widgets/base",
            "_view_module_version": "1.2.0",
            "_view_name": "LayoutView",
            "align_content": null,
            "align_items": null,
            "align_self": null,
            "border": null,
            "bottom": null,
            "display": null,
            "flex": null,
            "flex_flow": null,
            "grid_area": null,
            "grid_auto_columns": null,
            "grid_auto_flow": null,
            "grid_auto_rows": null,
            "grid_column": null,
            "grid_gap": null,
            "grid_row": null,
            "grid_template_areas": null,
            "grid_template_columns": null,
            "grid_template_rows": null,
            "height": null,
            "justify_content": null,
            "justify_items": null,
            "left": null,
            "margin": null,
            "max_height": null,
            "max_width": null,
            "min_height": null,
            "min_width": null,
            "object_fit": null,
            "object_position": null,
            "order": null,
            "overflow": null,
            "overflow_x": null,
            "overflow_y": null,
            "padding": null,
            "right": null,
            "top": null,
            "visibility": null,
            "width": null
          }
        },
        "7663b7f0142c4bc191c70e64ca2adb28": {
          "model_module": "@jupyter-widgets/base",
          "model_name": "LayoutModel",
          "model_module_version": "1.2.0",
          "state": {
            "_model_module": "@jupyter-widgets/base",
            "_model_module_version": "1.2.0",
            "_model_name": "LayoutModel",
            "_view_count": null,
            "_view_module": "@jupyter-widgets/base",
            "_view_module_version": "1.2.0",
            "_view_name": "LayoutView",
            "align_content": null,
            "align_items": null,
            "align_self": null,
            "border": null,
            "bottom": null,
            "display": null,
            "flex": null,
            "flex_flow": null,
            "grid_area": null,
            "grid_auto_columns": null,
            "grid_auto_flow": null,
            "grid_auto_rows": null,
            "grid_column": null,
            "grid_gap": null,
            "grid_row": null,
            "grid_template_areas": null,
            "grid_template_columns": null,
            "grid_template_rows": null,
            "height": null,
            "justify_content": null,
            "justify_items": null,
            "left": null,
            "margin": null,
            "max_height": null,
            "max_width": null,
            "min_height": null,
            "min_width": null,
            "object_fit": null,
            "object_position": null,
            "order": null,
            "overflow": null,
            "overflow_x": null,
            "overflow_y": null,
            "padding": null,
            "right": null,
            "top": null,
            "visibility": null,
            "width": null
          }
        },
        "28834533f8f145a4b57ffc2fb290dd1d": {
          "model_module": "@jupyter-widgets/controls",
          "model_name": "DescriptionStyleModel",
          "model_module_version": "1.5.0",
          "state": {
            "_model_module": "@jupyter-widgets/controls",
            "_model_module_version": "1.5.0",
            "_model_name": "DescriptionStyleModel",
            "_view_count": null,
            "_view_module": "@jupyter-widgets/base",
            "_view_module_version": "1.2.0",
            "_view_name": "StyleView",
            "description_width": ""
          }
        },
        "928e1be2534e428aafa76d623bce4b3a": {
          "model_module": "@jupyter-widgets/base",
          "model_name": "LayoutModel",
          "model_module_version": "1.2.0",
          "state": {
            "_model_module": "@jupyter-widgets/base",
            "_model_module_version": "1.2.0",
            "_model_name": "LayoutModel",
            "_view_count": null,
            "_view_module": "@jupyter-widgets/base",
            "_view_module_version": "1.2.0",
            "_view_name": "LayoutView",
            "align_content": null,
            "align_items": null,
            "align_self": null,
            "border": null,
            "bottom": null,
            "display": null,
            "flex": null,
            "flex_flow": null,
            "grid_area": null,
            "grid_auto_columns": null,
            "grid_auto_flow": null,
            "grid_auto_rows": null,
            "grid_column": null,
            "grid_gap": null,
            "grid_row": null,
            "grid_template_areas": null,
            "grid_template_columns": null,
            "grid_template_rows": null,
            "height": null,
            "justify_content": null,
            "justify_items": null,
            "left": null,
            "margin": null,
            "max_height": null,
            "max_width": null,
            "min_height": null,
            "min_width": null,
            "object_fit": null,
            "object_position": null,
            "order": null,
            "overflow": null,
            "overflow_x": null,
            "overflow_y": null,
            "padding": null,
            "right": null,
            "top": null,
            "visibility": null,
            "width": null
          }
        },
        "37f9c4d3e95849c392aae4b54dfdd935": {
          "model_module": "@jupyter-widgets/controls",
          "model_name": "ProgressStyleModel",
          "model_module_version": "1.5.0",
          "state": {
            "_model_module": "@jupyter-widgets/controls",
            "_model_module_version": "1.5.0",
            "_model_name": "ProgressStyleModel",
            "_view_count": null,
            "_view_module": "@jupyter-widgets/base",
            "_view_module_version": "1.2.0",
            "_view_name": "StyleView",
            "bar_color": null,
            "description_width": ""
          }
        },
        "d7007676c348427b95c2614537b7f2ed": {
          "model_module": "@jupyter-widgets/base",
          "model_name": "LayoutModel",
          "model_module_version": "1.2.0",
          "state": {
            "_model_module": "@jupyter-widgets/base",
            "_model_module_version": "1.2.0",
            "_model_name": "LayoutModel",
            "_view_count": null,
            "_view_module": "@jupyter-widgets/base",
            "_view_module_version": "1.2.0",
            "_view_name": "LayoutView",
            "align_content": null,
            "align_items": null,
            "align_self": null,
            "border": null,
            "bottom": null,
            "display": null,
            "flex": null,
            "flex_flow": null,
            "grid_area": null,
            "grid_auto_columns": null,
            "grid_auto_flow": null,
            "grid_auto_rows": null,
            "grid_column": null,
            "grid_gap": null,
            "grid_row": null,
            "grid_template_areas": null,
            "grid_template_columns": null,
            "grid_template_rows": null,
            "height": null,
            "justify_content": null,
            "justify_items": null,
            "left": null,
            "margin": null,
            "max_height": null,
            "max_width": null,
            "min_height": null,
            "min_width": null,
            "object_fit": null,
            "object_position": null,
            "order": null,
            "overflow": null,
            "overflow_x": null,
            "overflow_y": null,
            "padding": null,
            "right": null,
            "top": null,
            "visibility": null,
            "width": null
          }
        },
        "fd20ab2a51f4412480a1d60708adb8e7": {
          "model_module": "@jupyter-widgets/controls",
          "model_name": "DescriptionStyleModel",
          "model_module_version": "1.5.0",
          "state": {
            "_model_module": "@jupyter-widgets/controls",
            "_model_module_version": "1.5.0",
            "_model_name": "DescriptionStyleModel",
            "_view_count": null,
            "_view_module": "@jupyter-widgets/base",
            "_view_module_version": "1.2.0",
            "_view_name": "StyleView",
            "description_width": ""
          }
        },
        "845fef182d8c4ba6b5fe287f77f33355": {
          "model_module": "@jupyter-widgets/controls",
          "model_name": "HBoxModel",
          "model_module_version": "1.5.0",
          "state": {
            "_dom_classes": [],
            "_model_module": "@jupyter-widgets/controls",
            "_model_module_version": "1.5.0",
            "_model_name": "HBoxModel",
            "_view_count": null,
            "_view_module": "@jupyter-widgets/controls",
            "_view_module_version": "1.5.0",
            "_view_name": "HBoxView",
            "box_style": "",
            "children": [
              "IPY_MODEL_47d9c661db6a4e50bc59931ad675f6c6",
              "IPY_MODEL_19698b2df6d14266952feb15567c8093",
              "IPY_MODEL_c2c1886b24f847bab3f68d83c61010d2"
            ],
            "layout": "IPY_MODEL_99434bec0c074307afc9091fd9adcde0"
          }
        },
        "47d9c661db6a4e50bc59931ad675f6c6": {
          "model_module": "@jupyter-widgets/controls",
          "model_name": "HTMLModel",
          "model_module_version": "1.5.0",
          "state": {
            "_dom_classes": [],
            "_model_module": "@jupyter-widgets/controls",
            "_model_module_version": "1.5.0",
            "_model_name": "HTMLModel",
            "_view_count": null,
            "_view_module": "@jupyter-widgets/controls",
            "_view_module_version": "1.5.0",
            "_view_name": "HTMLView",
            "description": "",
            "description_tooltip": null,
            "layout": "IPY_MODEL_b9e69b472eae43ae9b9303a329fe45b3",
            "placeholder": "​",
            "style": "IPY_MODEL_cd5d45bc635a4dffbbb9058af93cddbd",
            "value": "tokenizer_config.json: 100%"
          }
        },
        "19698b2df6d14266952feb15567c8093": {
          "model_module": "@jupyter-widgets/controls",
          "model_name": "FloatProgressModel",
          "model_module_version": "1.5.0",
          "state": {
            "_dom_classes": [],
            "_model_module": "@jupyter-widgets/controls",
            "_model_module_version": "1.5.0",
            "_model_name": "FloatProgressModel",
            "_view_count": null,
            "_view_module": "@jupyter-widgets/controls",
            "_view_module_version": "1.5.0",
            "_view_name": "ProgressView",
            "bar_style": "success",
            "description": "",
            "description_tooltip": null,
            "layout": "IPY_MODEL_00f02a34634e481ea461dc27e094107c",
            "max": 44,
            "min": 0,
            "orientation": "horizontal",
            "style": "IPY_MODEL_a1f2d266317c49fcac8233c27c637886",
            "value": 44
          }
        },
        "c2c1886b24f847bab3f68d83c61010d2": {
          "model_module": "@jupyter-widgets/controls",
          "model_name": "HTMLModel",
          "model_module_version": "1.5.0",
          "state": {
            "_dom_classes": [],
            "_model_module": "@jupyter-widgets/controls",
            "_model_module_version": "1.5.0",
            "_model_name": "HTMLModel",
            "_view_count": null,
            "_view_module": "@jupyter-widgets/controls",
            "_view_module_version": "1.5.0",
            "_view_name": "HTMLView",
            "description": "",
            "description_tooltip": null,
            "layout": "IPY_MODEL_f7fbfa5d636842cd970bf994381a57c3",
            "placeholder": "​",
            "style": "IPY_MODEL_3ae0efa8eee545f48456b16b33c313e3",
            "value": " 44.0/44.0 [00:00&lt;00:00, 1.12kB/s]"
          }
        },
        "99434bec0c074307afc9091fd9adcde0": {
          "model_module": "@jupyter-widgets/base",
          "model_name": "LayoutModel",
          "model_module_version": "1.2.0",
          "state": {
            "_model_module": "@jupyter-widgets/base",
            "_model_module_version": "1.2.0",
            "_model_name": "LayoutModel",
            "_view_count": null,
            "_view_module": "@jupyter-widgets/base",
            "_view_module_version": "1.2.0",
            "_view_name": "LayoutView",
            "align_content": null,
            "align_items": null,
            "align_self": null,
            "border": null,
            "bottom": null,
            "display": null,
            "flex": null,
            "flex_flow": null,
            "grid_area": null,
            "grid_auto_columns": null,
            "grid_auto_flow": null,
            "grid_auto_rows": null,
            "grid_column": null,
            "grid_gap": null,
            "grid_row": null,
            "grid_template_areas": null,
            "grid_template_columns": null,
            "grid_template_rows": null,
            "height": null,
            "justify_content": null,
            "justify_items": null,
            "left": null,
            "margin": null,
            "max_height": null,
            "max_width": null,
            "min_height": null,
            "min_width": null,
            "object_fit": null,
            "object_position": null,
            "order": null,
            "overflow": null,
            "overflow_x": null,
            "overflow_y": null,
            "padding": null,
            "right": null,
            "top": null,
            "visibility": null,
            "width": null
          }
        },
        "b9e69b472eae43ae9b9303a329fe45b3": {
          "model_module": "@jupyter-widgets/base",
          "model_name": "LayoutModel",
          "model_module_version": "1.2.0",
          "state": {
            "_model_module": "@jupyter-widgets/base",
            "_model_module_version": "1.2.0",
            "_model_name": "LayoutModel",
            "_view_count": null,
            "_view_module": "@jupyter-widgets/base",
            "_view_module_version": "1.2.0",
            "_view_name": "LayoutView",
            "align_content": null,
            "align_items": null,
            "align_self": null,
            "border": null,
            "bottom": null,
            "display": null,
            "flex": null,
            "flex_flow": null,
            "grid_area": null,
            "grid_auto_columns": null,
            "grid_auto_flow": null,
            "grid_auto_rows": null,
            "grid_column": null,
            "grid_gap": null,
            "grid_row": null,
            "grid_template_areas": null,
            "grid_template_columns": null,
            "grid_template_rows": null,
            "height": null,
            "justify_content": null,
            "justify_items": null,
            "left": null,
            "margin": null,
            "max_height": null,
            "max_width": null,
            "min_height": null,
            "min_width": null,
            "object_fit": null,
            "object_position": null,
            "order": null,
            "overflow": null,
            "overflow_x": null,
            "overflow_y": null,
            "padding": null,
            "right": null,
            "top": null,
            "visibility": null,
            "width": null
          }
        },
        "cd5d45bc635a4dffbbb9058af93cddbd": {
          "model_module": "@jupyter-widgets/controls",
          "model_name": "DescriptionStyleModel",
          "model_module_version": "1.5.0",
          "state": {
            "_model_module": "@jupyter-widgets/controls",
            "_model_module_version": "1.5.0",
            "_model_name": "DescriptionStyleModel",
            "_view_count": null,
            "_view_module": "@jupyter-widgets/base",
            "_view_module_version": "1.2.0",
            "_view_name": "StyleView",
            "description_width": ""
          }
        },
        "00f02a34634e481ea461dc27e094107c": {
          "model_module": "@jupyter-widgets/base",
          "model_name": "LayoutModel",
          "model_module_version": "1.2.0",
          "state": {
            "_model_module": "@jupyter-widgets/base",
            "_model_module_version": "1.2.0",
            "_model_name": "LayoutModel",
            "_view_count": null,
            "_view_module": "@jupyter-widgets/base",
            "_view_module_version": "1.2.0",
            "_view_name": "LayoutView",
            "align_content": null,
            "align_items": null,
            "align_self": null,
            "border": null,
            "bottom": null,
            "display": null,
            "flex": null,
            "flex_flow": null,
            "grid_area": null,
            "grid_auto_columns": null,
            "grid_auto_flow": null,
            "grid_auto_rows": null,
            "grid_column": null,
            "grid_gap": null,
            "grid_row": null,
            "grid_template_areas": null,
            "grid_template_columns": null,
            "grid_template_rows": null,
            "height": null,
            "justify_content": null,
            "justify_items": null,
            "left": null,
            "margin": null,
            "max_height": null,
            "max_width": null,
            "min_height": null,
            "min_width": null,
            "object_fit": null,
            "object_position": null,
            "order": null,
            "overflow": null,
            "overflow_x": null,
            "overflow_y": null,
            "padding": null,
            "right": null,
            "top": null,
            "visibility": null,
            "width": null
          }
        },
        "a1f2d266317c49fcac8233c27c637886": {
          "model_module": "@jupyter-widgets/controls",
          "model_name": "ProgressStyleModel",
          "model_module_version": "1.5.0",
          "state": {
            "_model_module": "@jupyter-widgets/controls",
            "_model_module_version": "1.5.0",
            "_model_name": "ProgressStyleModel",
            "_view_count": null,
            "_view_module": "@jupyter-widgets/base",
            "_view_module_version": "1.2.0",
            "_view_name": "StyleView",
            "bar_color": null,
            "description_width": ""
          }
        },
        "f7fbfa5d636842cd970bf994381a57c3": {
          "model_module": "@jupyter-widgets/base",
          "model_name": "LayoutModel",
          "model_module_version": "1.2.0",
          "state": {
            "_model_module": "@jupyter-widgets/base",
            "_model_module_version": "1.2.0",
            "_model_name": "LayoutModel",
            "_view_count": null,
            "_view_module": "@jupyter-widgets/base",
            "_view_module_version": "1.2.0",
            "_view_name": "LayoutView",
            "align_content": null,
            "align_items": null,
            "align_self": null,
            "border": null,
            "bottom": null,
            "display": null,
            "flex": null,
            "flex_flow": null,
            "grid_area": null,
            "grid_auto_columns": null,
            "grid_auto_flow": null,
            "grid_auto_rows": null,
            "grid_column": null,
            "grid_gap": null,
            "grid_row": null,
            "grid_template_areas": null,
            "grid_template_columns": null,
            "grid_template_rows": null,
            "height": null,
            "justify_content": null,
            "justify_items": null,
            "left": null,
            "margin": null,
            "max_height": null,
            "max_width": null,
            "min_height": null,
            "min_width": null,
            "object_fit": null,
            "object_position": null,
            "order": null,
            "overflow": null,
            "overflow_x": null,
            "overflow_y": null,
            "padding": null,
            "right": null,
            "top": null,
            "visibility": null,
            "width": null
          }
        },
        "3ae0efa8eee545f48456b16b33c313e3": {
          "model_module": "@jupyter-widgets/controls",
          "model_name": "DescriptionStyleModel",
          "model_module_version": "1.5.0",
          "state": {
            "_model_module": "@jupyter-widgets/controls",
            "_model_module_version": "1.5.0",
            "_model_name": "DescriptionStyleModel",
            "_view_count": null,
            "_view_module": "@jupyter-widgets/base",
            "_view_module_version": "1.2.0",
            "_view_name": "StyleView",
            "description_width": ""
          }
        },
        "0822c7f1dba54ef9bc3207fec89e173a": {
          "model_module": "@jupyter-widgets/controls",
          "model_name": "HBoxModel",
          "model_module_version": "1.5.0",
          "state": {
            "_dom_classes": [],
            "_model_module": "@jupyter-widgets/controls",
            "_model_module_version": "1.5.0",
            "_model_name": "HBoxModel",
            "_view_count": null,
            "_view_module": "@jupyter-widgets/controls",
            "_view_module_version": "1.5.0",
            "_view_name": "HBoxView",
            "box_style": "",
            "children": [
              "IPY_MODEL_2c3abf124ec2428b8097d31841a93916",
              "IPY_MODEL_18f6d95bcf0746108bc80314cf65a60d",
              "IPY_MODEL_8893e5afe4a54d0f8a3795c8c6a25376"
            ],
            "layout": "IPY_MODEL_1e31263314714652a0b287a60524d2b3"
          }
        },
        "2c3abf124ec2428b8097d31841a93916": {
          "model_module": "@jupyter-widgets/controls",
          "model_name": "HTMLModel",
          "model_module_version": "1.5.0",
          "state": {
            "_dom_classes": [],
            "_model_module": "@jupyter-widgets/controls",
            "_model_module_version": "1.5.0",
            "_model_name": "HTMLModel",
            "_view_count": null,
            "_view_module": "@jupyter-widgets/controls",
            "_view_module_version": "1.5.0",
            "_view_name": "HTMLView",
            "description": "",
            "description_tooltip": null,
            "layout": "IPY_MODEL_654b3a71b88f415a80764096aaf04da6",
            "placeholder": "​",
            "style": "IPY_MODEL_cd5afdf620e14c2b976821f655c1c926",
            "value": "source.spm: 100%"
          }
        },
        "18f6d95bcf0746108bc80314cf65a60d": {
          "model_module": "@jupyter-widgets/controls",
          "model_name": "FloatProgressModel",
          "model_module_version": "1.5.0",
          "state": {
            "_dom_classes": [],
            "_model_module": "@jupyter-widgets/controls",
            "_model_module_version": "1.5.0",
            "_model_name": "FloatProgressModel",
            "_view_count": null,
            "_view_module": "@jupyter-widgets/controls",
            "_view_module_version": "1.5.0",
            "_view_name": "ProgressView",
            "bar_style": "success",
            "description": "",
            "description_tooltip": null,
            "layout": "IPY_MODEL_a66a01a0d41d4cc9a86b0bead04010c0",
            "max": 801636,
            "min": 0,
            "orientation": "horizontal",
            "style": "IPY_MODEL_345118b3479c4c6f8b4f81845c5d700a",
            "value": 801636
          }
        },
        "8893e5afe4a54d0f8a3795c8c6a25376": {
          "model_module": "@jupyter-widgets/controls",
          "model_name": "HTMLModel",
          "model_module_version": "1.5.0",
          "state": {
            "_dom_classes": [],
            "_model_module": "@jupyter-widgets/controls",
            "_model_module_version": "1.5.0",
            "_model_name": "HTMLModel",
            "_view_count": null,
            "_view_module": "@jupyter-widgets/controls",
            "_view_module_version": "1.5.0",
            "_view_name": "HTMLView",
            "description": "",
            "description_tooltip": null,
            "layout": "IPY_MODEL_a6824175345c4cdea7498318e4fe41e1",
            "placeholder": "​",
            "style": "IPY_MODEL_c6f88d637c8240f7bf5a2a86bebd54bc",
            "value": " 802k/802k [00:00&lt;00:00, 15.6MB/s]"
          }
        },
        "1e31263314714652a0b287a60524d2b3": {
          "model_module": "@jupyter-widgets/base",
          "model_name": "LayoutModel",
          "model_module_version": "1.2.0",
          "state": {
            "_model_module": "@jupyter-widgets/base",
            "_model_module_version": "1.2.0",
            "_model_name": "LayoutModel",
            "_view_count": null,
            "_view_module": "@jupyter-widgets/base",
            "_view_module_version": "1.2.0",
            "_view_name": "LayoutView",
            "align_content": null,
            "align_items": null,
            "align_self": null,
            "border": null,
            "bottom": null,
            "display": null,
            "flex": null,
            "flex_flow": null,
            "grid_area": null,
            "grid_auto_columns": null,
            "grid_auto_flow": null,
            "grid_auto_rows": null,
            "grid_column": null,
            "grid_gap": null,
            "grid_row": null,
            "grid_template_areas": null,
            "grid_template_columns": null,
            "grid_template_rows": null,
            "height": null,
            "justify_content": null,
            "justify_items": null,
            "left": null,
            "margin": null,
            "max_height": null,
            "max_width": null,
            "min_height": null,
            "min_width": null,
            "object_fit": null,
            "object_position": null,
            "order": null,
            "overflow": null,
            "overflow_x": null,
            "overflow_y": null,
            "padding": null,
            "right": null,
            "top": null,
            "visibility": null,
            "width": null
          }
        },
        "654b3a71b88f415a80764096aaf04da6": {
          "model_module": "@jupyter-widgets/base",
          "model_name": "LayoutModel",
          "model_module_version": "1.2.0",
          "state": {
            "_model_module": "@jupyter-widgets/base",
            "_model_module_version": "1.2.0",
            "_model_name": "LayoutModel",
            "_view_count": null,
            "_view_module": "@jupyter-widgets/base",
            "_view_module_version": "1.2.0",
            "_view_name": "LayoutView",
            "align_content": null,
            "align_items": null,
            "align_self": null,
            "border": null,
            "bottom": null,
            "display": null,
            "flex": null,
            "flex_flow": null,
            "grid_area": null,
            "grid_auto_columns": null,
            "grid_auto_flow": null,
            "grid_auto_rows": null,
            "grid_column": null,
            "grid_gap": null,
            "grid_row": null,
            "grid_template_areas": null,
            "grid_template_columns": null,
            "grid_template_rows": null,
            "height": null,
            "justify_content": null,
            "justify_items": null,
            "left": null,
            "margin": null,
            "max_height": null,
            "max_width": null,
            "min_height": null,
            "min_width": null,
            "object_fit": null,
            "object_position": null,
            "order": null,
            "overflow": null,
            "overflow_x": null,
            "overflow_y": null,
            "padding": null,
            "right": null,
            "top": null,
            "visibility": null,
            "width": null
          }
        },
        "cd5afdf620e14c2b976821f655c1c926": {
          "model_module": "@jupyter-widgets/controls",
          "model_name": "DescriptionStyleModel",
          "model_module_version": "1.5.0",
          "state": {
            "_model_module": "@jupyter-widgets/controls",
            "_model_module_version": "1.5.0",
            "_model_name": "DescriptionStyleModel",
            "_view_count": null,
            "_view_module": "@jupyter-widgets/base",
            "_view_module_version": "1.2.0",
            "_view_name": "StyleView",
            "description_width": ""
          }
        },
        "a66a01a0d41d4cc9a86b0bead04010c0": {
          "model_module": "@jupyter-widgets/base",
          "model_name": "LayoutModel",
          "model_module_version": "1.2.0",
          "state": {
            "_model_module": "@jupyter-widgets/base",
            "_model_module_version": "1.2.0",
            "_model_name": "LayoutModel",
            "_view_count": null,
            "_view_module": "@jupyter-widgets/base",
            "_view_module_version": "1.2.0",
            "_view_name": "LayoutView",
            "align_content": null,
            "align_items": null,
            "align_self": null,
            "border": null,
            "bottom": null,
            "display": null,
            "flex": null,
            "flex_flow": null,
            "grid_area": null,
            "grid_auto_columns": null,
            "grid_auto_flow": null,
            "grid_auto_rows": null,
            "grid_column": null,
            "grid_gap": null,
            "grid_row": null,
            "grid_template_areas": null,
            "grid_template_columns": null,
            "grid_template_rows": null,
            "height": null,
            "justify_content": null,
            "justify_items": null,
            "left": null,
            "margin": null,
            "max_height": null,
            "max_width": null,
            "min_height": null,
            "min_width": null,
            "object_fit": null,
            "object_position": null,
            "order": null,
            "overflow": null,
            "overflow_x": null,
            "overflow_y": null,
            "padding": null,
            "right": null,
            "top": null,
            "visibility": null,
            "width": null
          }
        },
        "345118b3479c4c6f8b4f81845c5d700a": {
          "model_module": "@jupyter-widgets/controls",
          "model_name": "ProgressStyleModel",
          "model_module_version": "1.5.0",
          "state": {
            "_model_module": "@jupyter-widgets/controls",
            "_model_module_version": "1.5.0",
            "_model_name": "ProgressStyleModel",
            "_view_count": null,
            "_view_module": "@jupyter-widgets/base",
            "_view_module_version": "1.2.0",
            "_view_name": "StyleView",
            "bar_color": null,
            "description_width": ""
          }
        },
        "a6824175345c4cdea7498318e4fe41e1": {
          "model_module": "@jupyter-widgets/base",
          "model_name": "LayoutModel",
          "model_module_version": "1.2.0",
          "state": {
            "_model_module": "@jupyter-widgets/base",
            "_model_module_version": "1.2.0",
            "_model_name": "LayoutModel",
            "_view_count": null,
            "_view_module": "@jupyter-widgets/base",
            "_view_module_version": "1.2.0",
            "_view_name": "LayoutView",
            "align_content": null,
            "align_items": null,
            "align_self": null,
            "border": null,
            "bottom": null,
            "display": null,
            "flex": null,
            "flex_flow": null,
            "grid_area": null,
            "grid_auto_columns": null,
            "grid_auto_flow": null,
            "grid_auto_rows": null,
            "grid_column": null,
            "grid_gap": null,
            "grid_row": null,
            "grid_template_areas": null,
            "grid_template_columns": null,
            "grid_template_rows": null,
            "height": null,
            "justify_content": null,
            "justify_items": null,
            "left": null,
            "margin": null,
            "max_height": null,
            "max_width": null,
            "min_height": null,
            "min_width": null,
            "object_fit": null,
            "object_position": null,
            "order": null,
            "overflow": null,
            "overflow_x": null,
            "overflow_y": null,
            "padding": null,
            "right": null,
            "top": null,
            "visibility": null,
            "width": null
          }
        },
        "c6f88d637c8240f7bf5a2a86bebd54bc": {
          "model_module": "@jupyter-widgets/controls",
          "model_name": "DescriptionStyleModel",
          "model_module_version": "1.5.0",
          "state": {
            "_model_module": "@jupyter-widgets/controls",
            "_model_module_version": "1.5.0",
            "_model_name": "DescriptionStyleModel",
            "_view_count": null,
            "_view_module": "@jupyter-widgets/base",
            "_view_module_version": "1.2.0",
            "_view_name": "StyleView",
            "description_width": ""
          }
        },
        "4b7b356d078044d4bb916d1138b3d9a4": {
          "model_module": "@jupyter-widgets/controls",
          "model_name": "HBoxModel",
          "model_module_version": "1.5.0",
          "state": {
            "_dom_classes": [],
            "_model_module": "@jupyter-widgets/controls",
            "_model_module_version": "1.5.0",
            "_model_name": "HBoxModel",
            "_view_count": null,
            "_view_module": "@jupyter-widgets/controls",
            "_view_module_version": "1.5.0",
            "_view_name": "HBoxView",
            "box_style": "",
            "children": [
              "IPY_MODEL_04923835946e4f9ba3a1c9a937186c53",
              "IPY_MODEL_1163d8e770594f2096ea6f266584d995",
              "IPY_MODEL_3fcbbc0a794e4c01884138691323552b"
            ],
            "layout": "IPY_MODEL_abc1a78aeea04392b04f0f129d582103"
          }
        },
        "04923835946e4f9ba3a1c9a937186c53": {
          "model_module": "@jupyter-widgets/controls",
          "model_name": "HTMLModel",
          "model_module_version": "1.5.0",
          "state": {
            "_dom_classes": [],
            "_model_module": "@jupyter-widgets/controls",
            "_model_module_version": "1.5.0",
            "_model_name": "HTMLModel",
            "_view_count": null,
            "_view_module": "@jupyter-widgets/controls",
            "_view_module_version": "1.5.0",
            "_view_name": "HTMLView",
            "description": "",
            "description_tooltip": null,
            "layout": "IPY_MODEL_80416eaca3a347e38520406051f2e399",
            "placeholder": "​",
            "style": "IPY_MODEL_9597754cc0f94d819cd7663dc619ace7",
            "value": "target.spm: 100%"
          }
        },
        "1163d8e770594f2096ea6f266584d995": {
          "model_module": "@jupyter-widgets/controls",
          "model_name": "FloatProgressModel",
          "model_module_version": "1.5.0",
          "state": {
            "_dom_classes": [],
            "_model_module": "@jupyter-widgets/controls",
            "_model_module_version": "1.5.0",
            "_model_name": "FloatProgressModel",
            "_view_count": null,
            "_view_module": "@jupyter-widgets/controls",
            "_view_module_version": "1.5.0",
            "_view_name": "ProgressView",
            "bar_style": "success",
            "description": "",
            "description_tooltip": null,
            "layout": "IPY_MODEL_b6ed266dcbab4f11afe7204fabb1812d",
            "max": 825924,
            "min": 0,
            "orientation": "horizontal",
            "style": "IPY_MODEL_4ee70260f05b4de586c09b506394c1e2",
            "value": 825924
          }
        },
        "3fcbbc0a794e4c01884138691323552b": {
          "model_module": "@jupyter-widgets/controls",
          "model_name": "HTMLModel",
          "model_module_version": "1.5.0",
          "state": {
            "_dom_classes": [],
            "_model_module": "@jupyter-widgets/controls",
            "_model_module_version": "1.5.0",
            "_model_name": "HTMLModel",
            "_view_count": null,
            "_view_module": "@jupyter-widgets/controls",
            "_view_module_version": "1.5.0",
            "_view_name": "HTMLView",
            "description": "",
            "description_tooltip": null,
            "layout": "IPY_MODEL_3f5e59e65ee842aab19844537305eb9c",
            "placeholder": "​",
            "style": "IPY_MODEL_5bd9eaef1ec04b27bb81256a5c1288da",
            "value": " 826k/826k [00:00&lt;00:00, 14.1MB/s]"
          }
        },
        "abc1a78aeea04392b04f0f129d582103": {
          "model_module": "@jupyter-widgets/base",
          "model_name": "LayoutModel",
          "model_module_version": "1.2.0",
          "state": {
            "_model_module": "@jupyter-widgets/base",
            "_model_module_version": "1.2.0",
            "_model_name": "LayoutModel",
            "_view_count": null,
            "_view_module": "@jupyter-widgets/base",
            "_view_module_version": "1.2.0",
            "_view_name": "LayoutView",
            "align_content": null,
            "align_items": null,
            "align_self": null,
            "border": null,
            "bottom": null,
            "display": null,
            "flex": null,
            "flex_flow": null,
            "grid_area": null,
            "grid_auto_columns": null,
            "grid_auto_flow": null,
            "grid_auto_rows": null,
            "grid_column": null,
            "grid_gap": null,
            "grid_row": null,
            "grid_template_areas": null,
            "grid_template_columns": null,
            "grid_template_rows": null,
            "height": null,
            "justify_content": null,
            "justify_items": null,
            "left": null,
            "margin": null,
            "max_height": null,
            "max_width": null,
            "min_height": null,
            "min_width": null,
            "object_fit": null,
            "object_position": null,
            "order": null,
            "overflow": null,
            "overflow_x": null,
            "overflow_y": null,
            "padding": null,
            "right": null,
            "top": null,
            "visibility": null,
            "width": null
          }
        },
        "80416eaca3a347e38520406051f2e399": {
          "model_module": "@jupyter-widgets/base",
          "model_name": "LayoutModel",
          "model_module_version": "1.2.0",
          "state": {
            "_model_module": "@jupyter-widgets/base",
            "_model_module_version": "1.2.0",
            "_model_name": "LayoutModel",
            "_view_count": null,
            "_view_module": "@jupyter-widgets/base",
            "_view_module_version": "1.2.0",
            "_view_name": "LayoutView",
            "align_content": null,
            "align_items": null,
            "align_self": null,
            "border": null,
            "bottom": null,
            "display": null,
            "flex": null,
            "flex_flow": null,
            "grid_area": null,
            "grid_auto_columns": null,
            "grid_auto_flow": null,
            "grid_auto_rows": null,
            "grid_column": null,
            "grid_gap": null,
            "grid_row": null,
            "grid_template_areas": null,
            "grid_template_columns": null,
            "grid_template_rows": null,
            "height": null,
            "justify_content": null,
            "justify_items": null,
            "left": null,
            "margin": null,
            "max_height": null,
            "max_width": null,
            "min_height": null,
            "min_width": null,
            "object_fit": null,
            "object_position": null,
            "order": null,
            "overflow": null,
            "overflow_x": null,
            "overflow_y": null,
            "padding": null,
            "right": null,
            "top": null,
            "visibility": null,
            "width": null
          }
        },
        "9597754cc0f94d819cd7663dc619ace7": {
          "model_module": "@jupyter-widgets/controls",
          "model_name": "DescriptionStyleModel",
          "model_module_version": "1.5.0",
          "state": {
            "_model_module": "@jupyter-widgets/controls",
            "_model_module_version": "1.5.0",
            "_model_name": "DescriptionStyleModel",
            "_view_count": null,
            "_view_module": "@jupyter-widgets/base",
            "_view_module_version": "1.2.0",
            "_view_name": "StyleView",
            "description_width": ""
          }
        },
        "b6ed266dcbab4f11afe7204fabb1812d": {
          "model_module": "@jupyter-widgets/base",
          "model_name": "LayoutModel",
          "model_module_version": "1.2.0",
          "state": {
            "_model_module": "@jupyter-widgets/base",
            "_model_module_version": "1.2.0",
            "_model_name": "LayoutModel",
            "_view_count": null,
            "_view_module": "@jupyter-widgets/base",
            "_view_module_version": "1.2.0",
            "_view_name": "LayoutView",
            "align_content": null,
            "align_items": null,
            "align_self": null,
            "border": null,
            "bottom": null,
            "display": null,
            "flex": null,
            "flex_flow": null,
            "grid_area": null,
            "grid_auto_columns": null,
            "grid_auto_flow": null,
            "grid_auto_rows": null,
            "grid_column": null,
            "grid_gap": null,
            "grid_row": null,
            "grid_template_areas": null,
            "grid_template_columns": null,
            "grid_template_rows": null,
            "height": null,
            "justify_content": null,
            "justify_items": null,
            "left": null,
            "margin": null,
            "max_height": null,
            "max_width": null,
            "min_height": null,
            "min_width": null,
            "object_fit": null,
            "object_position": null,
            "order": null,
            "overflow": null,
            "overflow_x": null,
            "overflow_y": null,
            "padding": null,
            "right": null,
            "top": null,
            "visibility": null,
            "width": null
          }
        },
        "4ee70260f05b4de586c09b506394c1e2": {
          "model_module": "@jupyter-widgets/controls",
          "model_name": "ProgressStyleModel",
          "model_module_version": "1.5.0",
          "state": {
            "_model_module": "@jupyter-widgets/controls",
            "_model_module_version": "1.5.0",
            "_model_name": "ProgressStyleModel",
            "_view_count": null,
            "_view_module": "@jupyter-widgets/base",
            "_view_module_version": "1.2.0",
            "_view_name": "StyleView",
            "bar_color": null,
            "description_width": ""
          }
        },
        "3f5e59e65ee842aab19844537305eb9c": {
          "model_module": "@jupyter-widgets/base",
          "model_name": "LayoutModel",
          "model_module_version": "1.2.0",
          "state": {
            "_model_module": "@jupyter-widgets/base",
            "_model_module_version": "1.2.0",
            "_model_name": "LayoutModel",
            "_view_count": null,
            "_view_module": "@jupyter-widgets/base",
            "_view_module_version": "1.2.0",
            "_view_name": "LayoutView",
            "align_content": null,
            "align_items": null,
            "align_self": null,
            "border": null,
            "bottom": null,
            "display": null,
            "flex": null,
            "flex_flow": null,
            "grid_area": null,
            "grid_auto_columns": null,
            "grid_auto_flow": null,
            "grid_auto_rows": null,
            "grid_column": null,
            "grid_gap": null,
            "grid_row": null,
            "grid_template_areas": null,
            "grid_template_columns": null,
            "grid_template_rows": null,
            "height": null,
            "justify_content": null,
            "justify_items": null,
            "left": null,
            "margin": null,
            "max_height": null,
            "max_width": null,
            "min_height": null,
            "min_width": null,
            "object_fit": null,
            "object_position": null,
            "order": null,
            "overflow": null,
            "overflow_x": null,
            "overflow_y": null,
            "padding": null,
            "right": null,
            "top": null,
            "visibility": null,
            "width": null
          }
        },
        "5bd9eaef1ec04b27bb81256a5c1288da": {
          "model_module": "@jupyter-widgets/controls",
          "model_name": "DescriptionStyleModel",
          "model_module_version": "1.5.0",
          "state": {
            "_model_module": "@jupyter-widgets/controls",
            "_model_module_version": "1.5.0",
            "_model_name": "DescriptionStyleModel",
            "_view_count": null,
            "_view_module": "@jupyter-widgets/base",
            "_view_module_version": "1.2.0",
            "_view_name": "StyleView",
            "description_width": ""
          }
        },
        "d2a9499ef8e8483ebbbd26cc0f79029d": {
          "model_module": "@jupyter-widgets/controls",
          "model_name": "HBoxModel",
          "model_module_version": "1.5.0",
          "state": {
            "_dom_classes": [],
            "_model_module": "@jupyter-widgets/controls",
            "_model_module_version": "1.5.0",
            "_model_name": "HBoxModel",
            "_view_count": null,
            "_view_module": "@jupyter-widgets/controls",
            "_view_module_version": "1.5.0",
            "_view_name": "HBoxView",
            "box_style": "",
            "children": [
              "IPY_MODEL_f25a07bde2da4503bc378524f07cc19c",
              "IPY_MODEL_89843a7d4e0f4bc895d3b7a7b1c63d1f",
              "IPY_MODEL_5fc3560c69104a94bc158fc1a7ee6cc3"
            ],
            "layout": "IPY_MODEL_482c1da196ce4550aa10ff812e62807c"
          }
        },
        "f25a07bde2da4503bc378524f07cc19c": {
          "model_module": "@jupyter-widgets/controls",
          "model_name": "HTMLModel",
          "model_module_version": "1.5.0",
          "state": {
            "_dom_classes": [],
            "_model_module": "@jupyter-widgets/controls",
            "_model_module_version": "1.5.0",
            "_model_name": "HTMLModel",
            "_view_count": null,
            "_view_module": "@jupyter-widgets/controls",
            "_view_module_version": "1.5.0",
            "_view_name": "HTMLView",
            "description": "",
            "description_tooltip": null,
            "layout": "IPY_MODEL_5041da49ee4d4569afc3ed28dd986cd8",
            "placeholder": "​",
            "style": "IPY_MODEL_43b49cb51dc54ed19aeec457c2c9bd15",
            "value": "vocab.json: 100%"
          }
        },
        "89843a7d4e0f4bc895d3b7a7b1c63d1f": {
          "model_module": "@jupyter-widgets/controls",
          "model_name": "FloatProgressModel",
          "model_module_version": "1.5.0",
          "state": {
            "_dom_classes": [],
            "_model_module": "@jupyter-widgets/controls",
            "_model_module_version": "1.5.0",
            "_model_name": "FloatProgressModel",
            "_view_count": null,
            "_view_module": "@jupyter-widgets/controls",
            "_view_module_version": "1.5.0",
            "_view_name": "ProgressView",
            "bar_style": "success",
            "description": "",
            "description_tooltip": null,
            "layout": "IPY_MODEL_7668ee6fe0734e3ea3caefeba2da0477",
            "max": 1590040,
            "min": 0,
            "orientation": "horizontal",
            "style": "IPY_MODEL_59a4980dd1a74e3c9f9579a6c3e7e232",
            "value": 1590040
          }
        },
        "5fc3560c69104a94bc158fc1a7ee6cc3": {
          "model_module": "@jupyter-widgets/controls",
          "model_name": "HTMLModel",
          "model_module_version": "1.5.0",
          "state": {
            "_dom_classes": [],
            "_model_module": "@jupyter-widgets/controls",
            "_model_module_version": "1.5.0",
            "_model_name": "HTMLModel",
            "_view_count": null,
            "_view_module": "@jupyter-widgets/controls",
            "_view_module_version": "1.5.0",
            "_view_name": "HTMLView",
            "description": "",
            "description_tooltip": null,
            "layout": "IPY_MODEL_4f2a13d1738341c293eb8cb9fcdec855",
            "placeholder": "​",
            "style": "IPY_MODEL_d193f66239ad485d9c75a13a4f68de05",
            "value": " 1.59M/1.59M [00:00&lt;00:00, 24.0MB/s]"
          }
        },
        "482c1da196ce4550aa10ff812e62807c": {
          "model_module": "@jupyter-widgets/base",
          "model_name": "LayoutModel",
          "model_module_version": "1.2.0",
          "state": {
            "_model_module": "@jupyter-widgets/base",
            "_model_module_version": "1.2.0",
            "_model_name": "LayoutModel",
            "_view_count": null,
            "_view_module": "@jupyter-widgets/base",
            "_view_module_version": "1.2.0",
            "_view_name": "LayoutView",
            "align_content": null,
            "align_items": null,
            "align_self": null,
            "border": null,
            "bottom": null,
            "display": null,
            "flex": null,
            "flex_flow": null,
            "grid_area": null,
            "grid_auto_columns": null,
            "grid_auto_flow": null,
            "grid_auto_rows": null,
            "grid_column": null,
            "grid_gap": null,
            "grid_row": null,
            "grid_template_areas": null,
            "grid_template_columns": null,
            "grid_template_rows": null,
            "height": null,
            "justify_content": null,
            "justify_items": null,
            "left": null,
            "margin": null,
            "max_height": null,
            "max_width": null,
            "min_height": null,
            "min_width": null,
            "object_fit": null,
            "object_position": null,
            "order": null,
            "overflow": null,
            "overflow_x": null,
            "overflow_y": null,
            "padding": null,
            "right": null,
            "top": null,
            "visibility": null,
            "width": null
          }
        },
        "5041da49ee4d4569afc3ed28dd986cd8": {
          "model_module": "@jupyter-widgets/base",
          "model_name": "LayoutModel",
          "model_module_version": "1.2.0",
          "state": {
            "_model_module": "@jupyter-widgets/base",
            "_model_module_version": "1.2.0",
            "_model_name": "LayoutModel",
            "_view_count": null,
            "_view_module": "@jupyter-widgets/base",
            "_view_module_version": "1.2.0",
            "_view_name": "LayoutView",
            "align_content": null,
            "align_items": null,
            "align_self": null,
            "border": null,
            "bottom": null,
            "display": null,
            "flex": null,
            "flex_flow": null,
            "grid_area": null,
            "grid_auto_columns": null,
            "grid_auto_flow": null,
            "grid_auto_rows": null,
            "grid_column": null,
            "grid_gap": null,
            "grid_row": null,
            "grid_template_areas": null,
            "grid_template_columns": null,
            "grid_template_rows": null,
            "height": null,
            "justify_content": null,
            "justify_items": null,
            "left": null,
            "margin": null,
            "max_height": null,
            "max_width": null,
            "min_height": null,
            "min_width": null,
            "object_fit": null,
            "object_position": null,
            "order": null,
            "overflow": null,
            "overflow_x": null,
            "overflow_y": null,
            "padding": null,
            "right": null,
            "top": null,
            "visibility": null,
            "width": null
          }
        },
        "43b49cb51dc54ed19aeec457c2c9bd15": {
          "model_module": "@jupyter-widgets/controls",
          "model_name": "DescriptionStyleModel",
          "model_module_version": "1.5.0",
          "state": {
            "_model_module": "@jupyter-widgets/controls",
            "_model_module_version": "1.5.0",
            "_model_name": "DescriptionStyleModel",
            "_view_count": null,
            "_view_module": "@jupyter-widgets/base",
            "_view_module_version": "1.2.0",
            "_view_name": "StyleView",
            "description_width": ""
          }
        },
        "7668ee6fe0734e3ea3caefeba2da0477": {
          "model_module": "@jupyter-widgets/base",
          "model_name": "LayoutModel",
          "model_module_version": "1.2.0",
          "state": {
            "_model_module": "@jupyter-widgets/base",
            "_model_module_version": "1.2.0",
            "_model_name": "LayoutModel",
            "_view_count": null,
            "_view_module": "@jupyter-widgets/base",
            "_view_module_version": "1.2.0",
            "_view_name": "LayoutView",
            "align_content": null,
            "align_items": null,
            "align_self": null,
            "border": null,
            "bottom": null,
            "display": null,
            "flex": null,
            "flex_flow": null,
            "grid_area": null,
            "grid_auto_columns": null,
            "grid_auto_flow": null,
            "grid_auto_rows": null,
            "grid_column": null,
            "grid_gap": null,
            "grid_row": null,
            "grid_template_areas": null,
            "grid_template_columns": null,
            "grid_template_rows": null,
            "height": null,
            "justify_content": null,
            "justify_items": null,
            "left": null,
            "margin": null,
            "max_height": null,
            "max_width": null,
            "min_height": null,
            "min_width": null,
            "object_fit": null,
            "object_position": null,
            "order": null,
            "overflow": null,
            "overflow_x": null,
            "overflow_y": null,
            "padding": null,
            "right": null,
            "top": null,
            "visibility": null,
            "width": null
          }
        },
        "59a4980dd1a74e3c9f9579a6c3e7e232": {
          "model_module": "@jupyter-widgets/controls",
          "model_name": "ProgressStyleModel",
          "model_module_version": "1.5.0",
          "state": {
            "_model_module": "@jupyter-widgets/controls",
            "_model_module_version": "1.5.0",
            "_model_name": "ProgressStyleModel",
            "_view_count": null,
            "_view_module": "@jupyter-widgets/base",
            "_view_module_version": "1.2.0",
            "_view_name": "StyleView",
            "bar_color": null,
            "description_width": ""
          }
        },
        "4f2a13d1738341c293eb8cb9fcdec855": {
          "model_module": "@jupyter-widgets/base",
          "model_name": "LayoutModel",
          "model_module_version": "1.2.0",
          "state": {
            "_model_module": "@jupyter-widgets/base",
            "_model_module_version": "1.2.0",
            "_model_name": "LayoutModel",
            "_view_count": null,
            "_view_module": "@jupyter-widgets/base",
            "_view_module_version": "1.2.0",
            "_view_name": "LayoutView",
            "align_content": null,
            "align_items": null,
            "align_self": null,
            "border": null,
            "bottom": null,
            "display": null,
            "flex": null,
            "flex_flow": null,
            "grid_area": null,
            "grid_auto_columns": null,
            "grid_auto_flow": null,
            "grid_auto_rows": null,
            "grid_column": null,
            "grid_gap": null,
            "grid_row": null,
            "grid_template_areas": null,
            "grid_template_columns": null,
            "grid_template_rows": null,
            "height": null,
            "justify_content": null,
            "justify_items": null,
            "left": null,
            "margin": null,
            "max_height": null,
            "max_width": null,
            "min_height": null,
            "min_width": null,
            "object_fit": null,
            "object_position": null,
            "order": null,
            "overflow": null,
            "overflow_x": null,
            "overflow_y": null,
            "padding": null,
            "right": null,
            "top": null,
            "visibility": null,
            "width": null
          }
        },
        "d193f66239ad485d9c75a13a4f68de05": {
          "model_module": "@jupyter-widgets/controls",
          "model_name": "DescriptionStyleModel",
          "model_module_version": "1.5.0",
          "state": {
            "_model_module": "@jupyter-widgets/controls",
            "_model_module_version": "1.5.0",
            "_model_name": "DescriptionStyleModel",
            "_view_count": null,
            "_view_module": "@jupyter-widgets/base",
            "_view_module_version": "1.2.0",
            "_view_name": "StyleView",
            "description_width": ""
          }
        }
      }
    }
  },
  "nbformat": 4,
  "nbformat_minor": 0
}