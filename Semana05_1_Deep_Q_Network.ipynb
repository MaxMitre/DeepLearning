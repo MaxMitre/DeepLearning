{
  "nbformat": 4,
  "nbformat_minor": 0,
  "metadata": {
    "colab": {
      "provenance": []
    },
    "kernelspec": {
      "name": "python3",
      "display_name": "Python 3"
    },
    "language_info": {
      "name": "python"
    }
  },
  "cells": [
    {
      "cell_type": "markdown",
      "source": [
        "[![Open In Colab](https://colab.research.google.com/assets/colab-badge.svg)](https://colab.research.google.com/github/MaxMitre/DeepLearning/blob/main/Semana05_1_Deep_Q_Network.ipyn)"
      ],
      "metadata": {
        "id": "xXfnyOk0-Ll_"
      }
    },
    {
      "cell_type": "markdown",
      "source": [
        "# Deep Reignforcement Learning\n",
        "\n",
        "Problema del taxista.\n",
        "\n",
        "El problema inicia con una cuadrícula con diferentes locaciones. En 4 de estas es posible que aparezca un pasajero. El taxi iniciará en una ubicación al azar y deberá ir hacia el pasajero para recogerlo y llevarlo a algún destino mostrado.\n",
        "\n",
        "Este problema puede solucionarse con Q-learning, ¿Ven alguna desventaja o incoveniente que pueda tener Q-learning dado el problema descrito arriba?\n",
        "\n",
        "En este caso, utilizaremos redes neuronales para aproximar la función dada por la tabla Q.\n"
      ],
      "metadata": {
        "id": "5S64WRvAE0_f"
      }
    },
    {
      "cell_type": "code",
      "source": [
        "from google.colab import drive\n",
        "drive.mount('/content/drive')"
      ],
      "metadata": {
        "id": "lZ-LQTuXyhPB",
        "colab": {
          "base_uri": "https://localhost:8080/"
        },
        "outputId": "862cd946-1ec4-4353-a446-b4ba9df55681"
      },
      "execution_count": null,
      "outputs": [
        {
          "output_type": "stream",
          "name": "stdout",
          "text": [
            "Mounted at /content/drive\n"
          ]
        }
      ]
    },
    {
      "cell_type": "markdown",
      "source": [
        "# Instalaciones necesarias"
      ],
      "metadata": {
        "id": "FV9OC9h6F-Ui"
      }
    },
    {
      "cell_type": "code",
      "source": [
        "!pip install keras-rl2==1.0.5"
      ],
      "metadata": {
        "id": "7L84Md6y9OtI",
        "colab": {
          "base_uri": "https://localhost:8080/"
        },
        "outputId": "25b3a125-c07b-4276-fdef-62ada31529ae"
      },
      "execution_count": null,
      "outputs": [
        {
          "output_type": "stream",
          "name": "stdout",
          "text": [
            "Collecting keras-rl2==1.0.5\n",
            "  Downloading keras_rl2-1.0.5-py3-none-any.whl (52 kB)\n",
            "\u001b[?25l     \u001b[90m━━━━━━━━━━━━━━━━━━━━━━━━━━━━━━━━━━━━━━━━\u001b[0m \u001b[32m0.0/52.1 kB\u001b[0m \u001b[31m?\u001b[0m eta \u001b[36m-:--:--\u001b[0m\r\u001b[2K     \u001b[91m━━━━━━━━━━━━━━━━━━━━━━━━━━━━━━━\u001b[0m\u001b[90m╺\u001b[0m\u001b[90m━━━━━━━━\u001b[0m \u001b[32m41.0/52.1 kB\u001b[0m \u001b[31m926.5 kB/s\u001b[0m eta \u001b[36m0:00:01\u001b[0m\r\u001b[2K     \u001b[90m━━━━━━━━━━━━━━━━━━━━━━━━━━━━━━━━━━━━━━━━\u001b[0m \u001b[32m52.1/52.1 kB\u001b[0m \u001b[31m889.1 kB/s\u001b[0m eta \u001b[36m0:00:00\u001b[0m\n",
            "\u001b[?25hRequirement already satisfied: tensorflow in /usr/local/lib/python3.10/dist-packages (from keras-rl2==1.0.5) (2.15.0)\n",
            "Requirement already satisfied: absl-py>=1.0.0 in /usr/local/lib/python3.10/dist-packages (from tensorflow->keras-rl2==1.0.5) (1.4.0)\n",
            "Requirement already satisfied: astunparse>=1.6.0 in /usr/local/lib/python3.10/dist-packages (from tensorflow->keras-rl2==1.0.5) (1.6.3)\n",
            "Requirement already satisfied: flatbuffers>=23.5.26 in /usr/local/lib/python3.10/dist-packages (from tensorflow->keras-rl2==1.0.5) (23.5.26)\n",
            "Requirement already satisfied: gast!=0.5.0,!=0.5.1,!=0.5.2,>=0.2.1 in /usr/local/lib/python3.10/dist-packages (from tensorflow->keras-rl2==1.0.5) (0.5.4)\n",
            "Requirement already satisfied: google-pasta>=0.1.1 in /usr/local/lib/python3.10/dist-packages (from tensorflow->keras-rl2==1.0.5) (0.2.0)\n",
            "Requirement already satisfied: h5py>=2.9.0 in /usr/local/lib/python3.10/dist-packages (from tensorflow->keras-rl2==1.0.5) (3.9.0)\n",
            "Requirement already satisfied: libclang>=13.0.0 in /usr/local/lib/python3.10/dist-packages (from tensorflow->keras-rl2==1.0.5) (16.0.6)\n",
            "Requirement already satisfied: ml-dtypes~=0.2.0 in /usr/local/lib/python3.10/dist-packages (from tensorflow->keras-rl2==1.0.5) (0.2.0)\n",
            "Requirement already satisfied: numpy<2.0.0,>=1.23.5 in /usr/local/lib/python3.10/dist-packages (from tensorflow->keras-rl2==1.0.5) (1.23.5)\n",
            "Requirement already satisfied: opt-einsum>=2.3.2 in /usr/local/lib/python3.10/dist-packages (from tensorflow->keras-rl2==1.0.5) (3.3.0)\n",
            "Requirement already satisfied: packaging in /usr/local/lib/python3.10/dist-packages (from tensorflow->keras-rl2==1.0.5) (23.2)\n",
            "Requirement already satisfied: protobuf!=4.21.0,!=4.21.1,!=4.21.2,!=4.21.3,!=4.21.4,!=4.21.5,<5.0.0dev,>=3.20.3 in /usr/local/lib/python3.10/dist-packages (from tensorflow->keras-rl2==1.0.5) (3.20.3)\n",
            "Requirement already satisfied: setuptools in /usr/local/lib/python3.10/dist-packages (from tensorflow->keras-rl2==1.0.5) (67.7.2)\n",
            "Requirement already satisfied: six>=1.12.0 in /usr/local/lib/python3.10/dist-packages (from tensorflow->keras-rl2==1.0.5) (1.16.0)\n",
            "Requirement already satisfied: termcolor>=1.1.0 in /usr/local/lib/python3.10/dist-packages (from tensorflow->keras-rl2==1.0.5) (2.4.0)\n",
            "Requirement already satisfied: typing-extensions>=3.6.6 in /usr/local/lib/python3.10/dist-packages (from tensorflow->keras-rl2==1.0.5) (4.5.0)\n",
            "Requirement already satisfied: wrapt<1.15,>=1.11.0 in /usr/local/lib/python3.10/dist-packages (from tensorflow->keras-rl2==1.0.5) (1.14.1)\n",
            "Requirement already satisfied: tensorflow-io-gcs-filesystem>=0.23.1 in /usr/local/lib/python3.10/dist-packages (from tensorflow->keras-rl2==1.0.5) (0.35.0)\n",
            "Requirement already satisfied: grpcio<2.0,>=1.24.3 in /usr/local/lib/python3.10/dist-packages (from tensorflow->keras-rl2==1.0.5) (1.60.0)\n",
            "Requirement already satisfied: tensorboard<2.16,>=2.15 in /usr/local/lib/python3.10/dist-packages (from tensorflow->keras-rl2==1.0.5) (2.15.1)\n",
            "Requirement already satisfied: tensorflow-estimator<2.16,>=2.15.0 in /usr/local/lib/python3.10/dist-packages (from tensorflow->keras-rl2==1.0.5) (2.15.0)\n",
            "Requirement already satisfied: keras<2.16,>=2.15.0 in /usr/local/lib/python3.10/dist-packages (from tensorflow->keras-rl2==1.0.5) (2.15.0)\n",
            "Requirement already satisfied: wheel<1.0,>=0.23.0 in /usr/local/lib/python3.10/dist-packages (from astunparse>=1.6.0->tensorflow->keras-rl2==1.0.5) (0.42.0)\n",
            "Requirement already satisfied: google-auth<3,>=1.6.3 in /usr/local/lib/python3.10/dist-packages (from tensorboard<2.16,>=2.15->tensorflow->keras-rl2==1.0.5) (2.17.3)\n",
            "Requirement already satisfied: google-auth-oauthlib<2,>=0.5 in /usr/local/lib/python3.10/dist-packages (from tensorboard<2.16,>=2.15->tensorflow->keras-rl2==1.0.5) (1.2.0)\n",
            "Requirement already satisfied: markdown>=2.6.8 in /usr/local/lib/python3.10/dist-packages (from tensorboard<2.16,>=2.15->tensorflow->keras-rl2==1.0.5) (3.5.1)\n",
            "Requirement already satisfied: requests<3,>=2.21.0 in /usr/local/lib/python3.10/dist-packages (from tensorboard<2.16,>=2.15->tensorflow->keras-rl2==1.0.5) (2.31.0)\n",
            "Requirement already satisfied: tensorboard-data-server<0.8.0,>=0.7.0 in /usr/local/lib/python3.10/dist-packages (from tensorboard<2.16,>=2.15->tensorflow->keras-rl2==1.0.5) (0.7.2)\n",
            "Requirement already satisfied: werkzeug>=1.0.1 in /usr/local/lib/python3.10/dist-packages (from tensorboard<2.16,>=2.15->tensorflow->keras-rl2==1.0.5) (3.0.1)\n",
            "Requirement already satisfied: cachetools<6.0,>=2.0.0 in /usr/local/lib/python3.10/dist-packages (from google-auth<3,>=1.6.3->tensorboard<2.16,>=2.15->tensorflow->keras-rl2==1.0.5) (5.3.2)\n",
            "Requirement already satisfied: pyasn1-modules>=0.2.1 in /usr/local/lib/python3.10/dist-packages (from google-auth<3,>=1.6.3->tensorboard<2.16,>=2.15->tensorflow->keras-rl2==1.0.5) (0.3.0)\n",
            "Requirement already satisfied: rsa<5,>=3.1.4 in /usr/local/lib/python3.10/dist-packages (from google-auth<3,>=1.6.3->tensorboard<2.16,>=2.15->tensorflow->keras-rl2==1.0.5) (4.9)\n",
            "Requirement already satisfied: requests-oauthlib>=0.7.0 in /usr/local/lib/python3.10/dist-packages (from google-auth-oauthlib<2,>=0.5->tensorboard<2.16,>=2.15->tensorflow->keras-rl2==1.0.5) (1.3.1)\n",
            "Requirement already satisfied: charset-normalizer<4,>=2 in /usr/local/lib/python3.10/dist-packages (from requests<3,>=2.21.0->tensorboard<2.16,>=2.15->tensorflow->keras-rl2==1.0.5) (3.3.2)\n",
            "Requirement already satisfied: idna<4,>=2.5 in /usr/local/lib/python3.10/dist-packages (from requests<3,>=2.21.0->tensorboard<2.16,>=2.15->tensorflow->keras-rl2==1.0.5) (3.6)\n",
            "Requirement already satisfied: urllib3<3,>=1.21.1 in /usr/local/lib/python3.10/dist-packages (from requests<3,>=2.21.0->tensorboard<2.16,>=2.15->tensorflow->keras-rl2==1.0.5) (2.0.7)\n",
            "Requirement already satisfied: certifi>=2017.4.17 in /usr/local/lib/python3.10/dist-packages (from requests<3,>=2.21.0->tensorboard<2.16,>=2.15->tensorflow->keras-rl2==1.0.5) (2023.11.17)\n",
            "Requirement already satisfied: MarkupSafe>=2.1.1 in /usr/local/lib/python3.10/dist-packages (from werkzeug>=1.0.1->tensorboard<2.16,>=2.15->tensorflow->keras-rl2==1.0.5) (2.1.3)\n",
            "Requirement already satisfied: pyasn1<0.6.0,>=0.4.6 in /usr/local/lib/python3.10/dist-packages (from pyasn1-modules>=0.2.1->google-auth<3,>=1.6.3->tensorboard<2.16,>=2.15->tensorflow->keras-rl2==1.0.5) (0.5.1)\n",
            "Requirement already satisfied: oauthlib>=3.0.0 in /usr/local/lib/python3.10/dist-packages (from requests-oauthlib>=0.7.0->google-auth-oauthlib<2,>=0.5->tensorboard<2.16,>=2.15->tensorflow->keras-rl2==1.0.5) (3.2.2)\n",
            "Installing collected packages: keras-rl2\n",
            "Successfully installed keras-rl2-1.0.5\n"
          ]
        }
      ]
    },
    {
      "cell_type": "code",
      "source": [
        "!pip install tensorflow==2.11.0"
      ],
      "metadata": {
        "id": "mvjBcLMz-ZU9",
        "colab": {
          "base_uri": "https://localhost:8080/",
          "height": 1000
        },
        "outputId": "a6dedb0b-efde-4cba-da4f-dee064859f7f"
      },
      "execution_count": null,
      "outputs": [
        {
          "output_type": "stream",
          "name": "stdout",
          "text": [
            "Collecting tensorflow==2.11.0\n",
            "  Downloading tensorflow-2.11.0-cp310-cp310-manylinux_2_17_x86_64.manylinux2014_x86_64.whl (588.3 MB)\n",
            "\u001b[2K     \u001b[90m━━━━━━━━━━━━━━━━━━━━━━━━━━━━━━━━━━━━━━━━\u001b[0m \u001b[32m588.3/588.3 MB\u001b[0m \u001b[31m1.9 MB/s\u001b[0m eta \u001b[36m0:00:00\u001b[0m\n",
            "\u001b[?25hRequirement already satisfied: absl-py>=1.0.0 in /usr/local/lib/python3.10/dist-packages (from tensorflow==2.11.0) (1.4.0)\n",
            "Requirement already satisfied: astunparse>=1.6.0 in /usr/local/lib/python3.10/dist-packages (from tensorflow==2.11.0) (1.6.3)\n",
            "Requirement already satisfied: flatbuffers>=2.0 in /usr/local/lib/python3.10/dist-packages (from tensorflow==2.11.0) (23.5.26)\n",
            "Collecting gast<=0.4.0,>=0.2.1 (from tensorflow==2.11.0)\n",
            "  Downloading gast-0.4.0-py3-none-any.whl (9.8 kB)\n",
            "Requirement already satisfied: google-pasta>=0.1.1 in /usr/local/lib/python3.10/dist-packages (from tensorflow==2.11.0) (0.2.0)\n",
            "Requirement already satisfied: grpcio<2.0,>=1.24.3 in /usr/local/lib/python3.10/dist-packages (from tensorflow==2.11.0) (1.60.0)\n",
            "Requirement already satisfied: h5py>=2.9.0 in /usr/local/lib/python3.10/dist-packages (from tensorflow==2.11.0) (3.9.0)\n",
            "Collecting keras<2.12,>=2.11.0 (from tensorflow==2.11.0)\n",
            "  Downloading keras-2.11.0-py2.py3-none-any.whl (1.7 MB)\n",
            "\u001b[2K     \u001b[90m━━━━━━━━━━━━━━━━━━━━━━━━━━━━━━━━━━━━━━━━\u001b[0m \u001b[32m1.7/1.7 MB\u001b[0m \u001b[31m8.2 MB/s\u001b[0m eta \u001b[36m0:00:00\u001b[0m\n",
            "\u001b[?25hRequirement already satisfied: libclang>=13.0.0 in /usr/local/lib/python3.10/dist-packages (from tensorflow==2.11.0) (16.0.6)\n",
            "Requirement already satisfied: numpy>=1.20 in /usr/local/lib/python3.10/dist-packages (from tensorflow==2.11.0) (1.23.5)\n",
            "Requirement already satisfied: opt-einsum>=2.3.2 in /usr/local/lib/python3.10/dist-packages (from tensorflow==2.11.0) (3.3.0)\n",
            "Requirement already satisfied: packaging in /usr/local/lib/python3.10/dist-packages (from tensorflow==2.11.0) (23.2)\n",
            "Collecting protobuf<3.20,>=3.9.2 (from tensorflow==2.11.0)\n",
            "  Downloading protobuf-3.19.6-cp310-cp310-manylinux_2_17_x86_64.manylinux2014_x86_64.whl (1.1 MB)\n",
            "\u001b[2K     \u001b[90m━━━━━━━━━━━━━━━━━━━━━━━━━━━━━━━━━━━━━━━━\u001b[0m \u001b[32m1.1/1.1 MB\u001b[0m \u001b[31m8.0 MB/s\u001b[0m eta \u001b[36m0:00:00\u001b[0m\n",
            "\u001b[?25hRequirement already satisfied: setuptools in /usr/local/lib/python3.10/dist-packages (from tensorflow==2.11.0) (67.7.2)\n",
            "Requirement already satisfied: six>=1.12.0 in /usr/local/lib/python3.10/dist-packages (from tensorflow==2.11.0) (1.16.0)\n",
            "Collecting tensorboard<2.12,>=2.11 (from tensorflow==2.11.0)\n",
            "  Downloading tensorboard-2.11.2-py3-none-any.whl (6.0 MB)\n",
            "\u001b[2K     \u001b[90m━━━━━━━━━━━━━━━━━━━━━━━━━━━━━━━━━━━━━━━━\u001b[0m \u001b[32m6.0/6.0 MB\u001b[0m \u001b[31m8.5 MB/s\u001b[0m eta \u001b[36m0:00:00\u001b[0m\n",
            "\u001b[?25hCollecting tensorflow-estimator<2.12,>=2.11.0 (from tensorflow==2.11.0)\n",
            "  Downloading tensorflow_estimator-2.11.0-py2.py3-none-any.whl (439 kB)\n",
            "\u001b[2K     \u001b[90m━━━━━━━━━━━━━━━━━━━━━━━━━━━━━━━━━━━━━━━━\u001b[0m \u001b[32m439.2/439.2 kB\u001b[0m \u001b[31m8.1 MB/s\u001b[0m eta \u001b[36m0:00:00\u001b[0m\n",
            "\u001b[?25hRequirement already satisfied: termcolor>=1.1.0 in /usr/local/lib/python3.10/dist-packages (from tensorflow==2.11.0) (2.4.0)\n",
            "Requirement already satisfied: typing-extensions>=3.6.6 in /usr/local/lib/python3.10/dist-packages (from tensorflow==2.11.0) (4.5.0)\n",
            "Requirement already satisfied: wrapt>=1.11.0 in /usr/local/lib/python3.10/dist-packages (from tensorflow==2.11.0) (1.14.1)\n",
            "Requirement already satisfied: tensorflow-io-gcs-filesystem>=0.23.1 in /usr/local/lib/python3.10/dist-packages (from tensorflow==2.11.0) (0.35.0)\n",
            "Requirement already satisfied: wheel<1.0,>=0.23.0 in /usr/local/lib/python3.10/dist-packages (from astunparse>=1.6.0->tensorflow==2.11.0) (0.42.0)\n",
            "Requirement already satisfied: google-auth<3,>=1.6.3 in /usr/local/lib/python3.10/dist-packages (from tensorboard<2.12,>=2.11->tensorflow==2.11.0) (2.17.3)\n",
            "Collecting google-auth-oauthlib<0.5,>=0.4.1 (from tensorboard<2.12,>=2.11->tensorflow==2.11.0)\n",
            "  Downloading google_auth_oauthlib-0.4.6-py2.py3-none-any.whl (18 kB)\n",
            "Requirement already satisfied: markdown>=2.6.8 in /usr/local/lib/python3.10/dist-packages (from tensorboard<2.12,>=2.11->tensorflow==2.11.0) (3.5.1)\n",
            "Requirement already satisfied: requests<3,>=2.21.0 in /usr/local/lib/python3.10/dist-packages (from tensorboard<2.12,>=2.11->tensorflow==2.11.0) (2.31.0)\n",
            "Collecting tensorboard-data-server<0.7.0,>=0.6.0 (from tensorboard<2.12,>=2.11->tensorflow==2.11.0)\n",
            "  Downloading tensorboard_data_server-0.6.1-py3-none-manylinux2010_x86_64.whl (4.9 MB)\n",
            "\u001b[2K     \u001b[90m━━━━━━━━━━━━━━━━━━━━━━━━━━━━━━━━━━━━━━━━\u001b[0m \u001b[32m4.9/4.9 MB\u001b[0m \u001b[31m8.7 MB/s\u001b[0m eta \u001b[36m0:00:00\u001b[0m\n",
            "\u001b[?25hCollecting tensorboard-plugin-wit>=1.6.0 (from tensorboard<2.12,>=2.11->tensorflow==2.11.0)\n",
            "  Downloading tensorboard_plugin_wit-1.8.1-py3-none-any.whl (781 kB)\n",
            "\u001b[2K     \u001b[90m━━━━━━━━━━━━━━━━━━━━━━━━━━━━━━━━━━━━━━━━\u001b[0m \u001b[32m781.3/781.3 kB\u001b[0m \u001b[31m8.4 MB/s\u001b[0m eta \u001b[36m0:00:00\u001b[0m\n",
            "\u001b[?25hRequirement already satisfied: werkzeug>=1.0.1 in /usr/local/lib/python3.10/dist-packages (from tensorboard<2.12,>=2.11->tensorflow==2.11.0) (3.0.1)\n",
            "Requirement already satisfied: cachetools<6.0,>=2.0.0 in /usr/local/lib/python3.10/dist-packages (from google-auth<3,>=1.6.3->tensorboard<2.12,>=2.11->tensorflow==2.11.0) (5.3.2)\n",
            "Requirement already satisfied: pyasn1-modules>=0.2.1 in /usr/local/lib/python3.10/dist-packages (from google-auth<3,>=1.6.3->tensorboard<2.12,>=2.11->tensorflow==2.11.0) (0.3.0)\n",
            "Requirement already satisfied: rsa<5,>=3.1.4 in /usr/local/lib/python3.10/dist-packages (from google-auth<3,>=1.6.3->tensorboard<2.12,>=2.11->tensorflow==2.11.0) (4.9)\n",
            "Requirement already satisfied: requests-oauthlib>=0.7.0 in /usr/local/lib/python3.10/dist-packages (from google-auth-oauthlib<0.5,>=0.4.1->tensorboard<2.12,>=2.11->tensorflow==2.11.0) (1.3.1)\n",
            "Requirement already satisfied: charset-normalizer<4,>=2 in /usr/local/lib/python3.10/dist-packages (from requests<3,>=2.21.0->tensorboard<2.12,>=2.11->tensorflow==2.11.0) (3.3.2)\n",
            "Requirement already satisfied: idna<4,>=2.5 in /usr/local/lib/python3.10/dist-packages (from requests<3,>=2.21.0->tensorboard<2.12,>=2.11->tensorflow==2.11.0) (3.6)\n",
            "Requirement already satisfied: urllib3<3,>=1.21.1 in /usr/local/lib/python3.10/dist-packages (from requests<3,>=2.21.0->tensorboard<2.12,>=2.11->tensorflow==2.11.0) (2.0.7)\n",
            "Requirement already satisfied: certifi>=2017.4.17 in /usr/local/lib/python3.10/dist-packages (from requests<3,>=2.21.0->tensorboard<2.12,>=2.11->tensorflow==2.11.0) (2023.11.17)\n",
            "Requirement already satisfied: MarkupSafe>=2.1.1 in /usr/local/lib/python3.10/dist-packages (from werkzeug>=1.0.1->tensorboard<2.12,>=2.11->tensorflow==2.11.0) (2.1.3)\n",
            "Requirement already satisfied: pyasn1<0.6.0,>=0.4.6 in /usr/local/lib/python3.10/dist-packages (from pyasn1-modules>=0.2.1->google-auth<3,>=1.6.3->tensorboard<2.12,>=2.11->tensorflow==2.11.0) (0.5.1)\n",
            "Requirement already satisfied: oauthlib>=3.0.0 in /usr/local/lib/python3.10/dist-packages (from requests-oauthlib>=0.7.0->google-auth-oauthlib<0.5,>=0.4.1->tensorboard<2.12,>=2.11->tensorflow==2.11.0) (3.2.2)\n",
            "Installing collected packages: tensorboard-plugin-wit, tensorflow-estimator, tensorboard-data-server, protobuf, keras, gast, google-auth-oauthlib, tensorboard, tensorflow\n",
            "  Attempting uninstall: tensorflow-estimator\n",
            "    Found existing installation: tensorflow-estimator 2.15.0\n",
            "    Uninstalling tensorflow-estimator-2.15.0:\n",
            "      Successfully uninstalled tensorflow-estimator-2.15.0\n",
            "  Attempting uninstall: tensorboard-data-server\n",
            "    Found existing installation: tensorboard-data-server 0.7.2\n",
            "    Uninstalling tensorboard-data-server-0.7.2:\n",
            "      Successfully uninstalled tensorboard-data-server-0.7.2\n",
            "  Attempting uninstall: protobuf\n",
            "    Found existing installation: protobuf 3.20.3\n",
            "    Uninstalling protobuf-3.20.3:\n",
            "      Successfully uninstalled protobuf-3.20.3\n",
            "  Attempting uninstall: keras\n",
            "    Found existing installation: keras 2.15.0\n",
            "    Uninstalling keras-2.15.0:\n",
            "      Successfully uninstalled keras-2.15.0\n",
            "  Attempting uninstall: gast\n",
            "    Found existing installation: gast 0.5.4\n",
            "    Uninstalling gast-0.5.4:\n",
            "      Successfully uninstalled gast-0.5.4\n",
            "  Attempting uninstall: google-auth-oauthlib\n",
            "    Found existing installation: google-auth-oauthlib 1.2.0\n",
            "    Uninstalling google-auth-oauthlib-1.2.0:\n",
            "      Successfully uninstalled google-auth-oauthlib-1.2.0\n",
            "  Attempting uninstall: tensorboard\n",
            "    Found existing installation: tensorboard 2.15.1\n",
            "    Uninstalling tensorboard-2.15.1:\n",
            "      Successfully uninstalled tensorboard-2.15.1\n",
            "  Attempting uninstall: tensorflow\n",
            "    Found existing installation: tensorflow 2.15.0\n",
            "    Uninstalling tensorflow-2.15.0:\n",
            "      Successfully uninstalled tensorflow-2.15.0\n",
            "\u001b[31mERROR: pip's dependency resolver does not currently take into account all the packages that are installed. This behaviour is the source of the following dependency conflicts.\n",
            "pandas-gbq 0.19.2 requires google-auth-oauthlib>=0.7.0, but you have google-auth-oauthlib 0.4.6 which is incompatible.\n",
            "tensorflow-datasets 4.9.4 requires protobuf>=3.20, but you have protobuf 3.19.6 which is incompatible.\n",
            "tensorflow-metadata 1.14.0 requires protobuf<4.21,>=3.20.3, but you have protobuf 3.19.6 which is incompatible.\u001b[0m\u001b[31m\n",
            "\u001b[0mSuccessfully installed gast-0.4.0 google-auth-oauthlib-0.4.6 keras-2.11.0 protobuf-3.19.6 tensorboard-2.11.2 tensorboard-data-server-0.6.1 tensorboard-plugin-wit-1.8.1 tensorflow-2.11.0 tensorflow-estimator-2.11.0\n"
          ]
        },
        {
          "output_type": "display_data",
          "data": {
            "application/vnd.colab-display-data+json": {
              "pip_warning": {
                "packages": [
                  "google"
                ]
              }
            }
          },
          "metadata": {}
        }
      ]
    },
    {
      "cell_type": "code",
      "source": [
        "!pip install gym==0.17.0"
      ],
      "metadata": {
        "id": "c_FrxwA5L9sv",
        "colab": {
          "base_uri": "https://localhost:8080/"
        },
        "outputId": "64a3c14f-f855-4eb6-891a-16e66ce1306d"
      },
      "execution_count": null,
      "outputs": [
        {
          "output_type": "stream",
          "name": "stdout",
          "text": [
            "Collecting gym==0.17.0\n",
            "  Downloading gym-0.17.0.tar.gz (1.6 MB)\n",
            "\u001b[2K     \u001b[90m━━━━━━━━━━━━━━━━━━━━━━━━━━━━━━━━━━━━━━━━\u001b[0m \u001b[32m1.6/1.6 MB\u001b[0m \u001b[31m6.4 MB/s\u001b[0m eta \u001b[36m0:00:00\u001b[0m\n",
            "\u001b[?25h  Preparing metadata (setup.py) ... \u001b[?25l\u001b[?25hdone\n",
            "Requirement already satisfied: scipy in /usr/local/lib/python3.10/dist-packages (from gym==0.17.0) (1.11.4)\n",
            "Requirement already satisfied: numpy>=1.10.4 in /usr/local/lib/python3.10/dist-packages (from gym==0.17.0) (1.23.5)\n",
            "Requirement already satisfied: six in /usr/local/lib/python3.10/dist-packages (from gym==0.17.0) (1.16.0)\n",
            "Collecting pyglet<=1.5.0,>=1.4.0 (from gym==0.17.0)\n",
            "  Downloading pyglet-1.5.0-py2.py3-none-any.whl (1.0 MB)\n",
            "\u001b[2K     \u001b[90m━━━━━━━━━━━━━━━━━━━━━━━━━━━━━━━━━━━━━━━━\u001b[0m \u001b[32m1.0/1.0 MB\u001b[0m \u001b[31m12.5 MB/s\u001b[0m eta \u001b[36m0:00:00\u001b[0m\n",
            "\u001b[?25hCollecting cloudpickle~=1.3.0 (from gym==0.17.0)\n",
            "  Downloading cloudpickle-1.3.0-py2.py3-none-any.whl (26 kB)\n",
            "Requirement already satisfied: future in /usr/local/lib/python3.10/dist-packages (from pyglet<=1.5.0,>=1.4.0->gym==0.17.0) (0.18.3)\n",
            "Building wheels for collected packages: gym\n",
            "  Building wheel for gym (setup.py) ... \u001b[?25l\u001b[?25hdone\n",
            "  Created wheel for gym: filename=gym-0.17.0-py3-none-any.whl size=1648674 sha256=45b022e1e2c3217e68b52036753f8482d1688e528d51a27a6f5398af932de1d6\n",
            "  Stored in directory: /root/.cache/pip/wheels/2d/f2/76/f25acf56320307527b4befb1152551fb6801b925e8a3fd645a\n",
            "Successfully built gym\n",
            "Installing collected packages: cloudpickle, pyglet, gym\n",
            "  Attempting uninstall: cloudpickle\n",
            "    Found existing installation: cloudpickle 2.2.1\n",
            "    Uninstalling cloudpickle-2.2.1:\n",
            "      Successfully uninstalled cloudpickle-2.2.1\n",
            "  Attempting uninstall: gym\n",
            "    Found existing installation: gym 0.25.2\n",
            "    Uninstalling gym-0.25.2:\n",
            "      Successfully uninstalled gym-0.25.2\n",
            "\u001b[31mERROR: pip's dependency resolver does not currently take into account all the packages that are installed. This behaviour is the source of the following dependency conflicts.\n",
            "bigframes 0.18.0 requires cloudpickle>=2.0.0, but you have cloudpickle 1.3.0 which is incompatible.\n",
            "dask 2023.8.1 requires cloudpickle>=1.5.0, but you have cloudpickle 1.3.0 which is incompatible.\n",
            "distributed 2023.8.1 requires cloudpickle>=1.5.0, but you have cloudpickle 1.3.0 which is incompatible.\u001b[0m\u001b[31m\n",
            "\u001b[0mSuccessfully installed cloudpickle-1.3.0 gym-0.17.0 pyglet-1.5.0\n"
          ]
        }
      ]
    },
    {
      "cell_type": "code",
      "execution_count": null,
      "metadata": {
        "id": "GZs0H2yC4mKX"
      },
      "outputs": [],
      "source": [
        "import numpy as np\n",
        "import gym\n",
        "import random"
      ]
    },
    {
      "cell_type": "markdown",
      "source": [
        "# Definición del entorno."
      ],
      "metadata": {
        "id": "2-Ty8_u3GBD5"
      }
    },
    {
      "cell_type": "code",
      "source": [
        "ENV_NAME = \"Taxi-v3\"\n",
        "env = gym.make(ENV_NAME)\n",
        "\n",
        "env.reset()\n",
        "env.render()"
      ],
      "metadata": {
        "id": "HYLa_jnx50fX",
        "colab": {
          "base_uri": "https://localhost:8080/"
        },
        "outputId": "95699c78-484a-400b-cd64-5697872dd009"
      },
      "execution_count": null,
      "outputs": [
        {
          "output_type": "stream",
          "name": "stdout",
          "text": [
            "+---------+\n",
            "|R: | : :G|\n",
            "| : | : : |\n",
            "| : : : : |\n",
            "| | : |\u001b[43m \u001b[0m: |\n",
            "|\u001b[35mY\u001b[0m| : |\u001b[34;1mB\u001b[0m: |\n",
            "+---------+\n",
            "\n"
          ]
        }
      ]
    },
    {
      "cell_type": "markdown",
      "source": [
        "Un episodio de este entorno comienza al generar todas las posiciones mencionadas y termina cuando el taxi entrega el pasajero (o un límite superior de pasos que se establezca)"
      ],
      "metadata": {
        "id": "Y4U__KqnH-V3"
      }
    },
    {
      "cell_type": "code",
      "source": [
        "print(\"Número de acciones: %d\" % env.action_space.n)\n",
        "print(\"Número de estados: %d\" % env.observation_space.n)"
      ],
      "metadata": {
        "id": "JzDkGNdD6GqB",
        "colab": {
          "base_uri": "https://localhost:8080/"
        },
        "outputId": "88a7e1a3-30a2-4f49-85ce-c66af40490b1"
      },
      "execution_count": null,
      "outputs": [
        {
          "output_type": "stream",
          "name": "stdout",
          "text": [
            "Número de acciones: 6\n",
            "Número de estados: 500\n"
          ]
        }
      ]
    },
    {
      "cell_type": "markdown",
      "source": [
        "¿Porqué tenemos 500 estados?\n",
        "\n",
        "- Posición del taxi: 25 lugares disponibles\n",
        "- Posición del pasajero: 5 posibilidades (?)\n",
        "- Lugar de entrega: 4 posibilidades\n",
        "\n",
        "Y vistos este estados, podemos tomar 6 acciones posibles:\n",
        "\n",
        "\n",
        "\n",
        "\n",
        "\n",
        "\n",
        "0: Mover hacia abajo\n",
        "\n",
        "1: Mover hacia arriba\n",
        "\n",
        "2: Mover a la derecha\n",
        "\n",
        "3: Mover a la izquierda\n",
        "\n",
        "4: Recoger pasajero\n",
        "\n",
        "5: Dejar pasajero"
      ],
      "metadata": {
        "id": "MNMQK_uAKhu6"
      }
    },
    {
      "cell_type": "markdown",
      "source": [
        "Las recompensas vistas en la trayectoria del taxi son la siguientes:\n",
        "\n",
        "- -1 por cada acción tomada\n",
        "\n",
        "- +20 por entregar correctamente al pasajero\n",
        "\n",
        "- -10 de penalización por tomar acción de recoger/dejar pasajero en donde no deba"
      ],
      "metadata": {
        "id": "CUYCTUO_MCSx"
      }
    },
    {
      "cell_type": "code",
      "source": [
        "env.reset()\n",
        "env.render()"
      ],
      "metadata": {
        "id": "IyM5rIuJMXXy",
        "colab": {
          "base_uri": "https://localhost:8080/"
        },
        "outputId": "640d110e-d488-4a19-bf6d-2c5ed9ccabd4"
      },
      "execution_count": null,
      "outputs": [
        {
          "output_type": "stream",
          "name": "stdout",
          "text": [
            "+---------+\n",
            "|R: | : :\u001b[34;1mG\u001b[0m|\n",
            "| : | : : |\n",
            "| : : : : |\n",
            "| | : | :\u001b[43m \u001b[0m|\n",
            "|\u001b[35mY\u001b[0m| : |B: |\n",
            "+---------+\n",
            "\n"
          ]
        }
      ]
    },
    {
      "cell_type": "markdown",
      "source": [
        "Los colores tienen los siguientes significados:\n",
        "\n",
        "- azul: Ubicación del pasajero\n",
        "\n",
        "- rosa: Destino\n",
        "\n",
        "- amarillo: Taxi vacío\n",
        "\n",
        "- verde: Taxi ocupado\n",
        "\n",
        "- otras letras: Lugares"
      ],
      "metadata": {
        "id": "P392EizfMbl-"
      }
    },
    {
      "cell_type": "code",
      "source": [
        "action_size = env.action_space.n\n",
        "state_size = env.observation_space.n"
      ],
      "metadata": {
        "id": "nRB6SE1u60YT"
      },
      "execution_count": null,
      "outputs": []
    },
    {
      "cell_type": "code",
      "source": [
        "np.random.seed(123)\n",
        "env.seed(123)"
      ],
      "metadata": {
        "id": "hwRKFieB60V4",
        "colab": {
          "base_uri": "https://localhost:8080/"
        },
        "outputId": "26e6e134-6bb4-428c-ed03-9159aa4fc99b"
      },
      "execution_count": null,
      "outputs": [
        {
          "output_type": "execute_result",
          "data": {
            "text/plain": [
              "[123]"
            ]
          },
          "metadata": {},
          "execution_count": 10
        }
      ]
    },
    {
      "cell_type": "code",
      "source": [
        "from keras.models import Sequential\n",
        "from keras.layers import Dense, Activation, Flatten, Embedding, Reshape\n",
        "from keras.optimizers import Adam"
      ],
      "metadata": {
        "id": "XLxt21kQ60TY"
      },
      "execution_count": null,
      "outputs": []
    },
    {
      "cell_type": "markdown",
      "source": [
        "Queremos crear una red neuronal que reciba como entrada el estado actual del sistema y nos regrese una acción.\n",
        "\n",
        "Esperariamos algo del tipo:\n",
        "\n",
        "(UbicaciónT, UbicaciónP, UbiaciónE) -----> (Acción)\n",
        "\n",
        "(22,3,1) --------------------------------> (Acción)"
      ],
      "metadata": {
        "id": "QbP1hbzlQUK4"
      }
    },
    {
      "cell_type": "code",
      "source": [
        "env.reset()\n",
        "env.step(env.action_space.sample())[0]"
      ],
      "metadata": {
        "id": "pqE_au-960RK",
        "colab": {
          "base_uri": "https://localhost:8080/"
        },
        "outputId": "bfa2eae5-09c1-4c69-ceb2-d8222a77306c"
      },
      "execution_count": null,
      "outputs": [
        {
          "output_type": "execute_result",
          "data": {
            "text/plain": [
              "451"
            ]
          },
          "metadata": {},
          "execution_count": 12
        }
      ]
    },
    {
      "cell_type": "markdown",
      "source": [
        "Pero vemos que está codificado a una sola salida, así que podemos hacer una capa de encaje que mapea los 500 estados discretos a un vector de tamaño 6 (el de las acciones).\n",
        "\n",
        "Si quisieramos mas capas en las redes neuronales, podemos modificar lo tamaños a algo que se crea conveniente.\n",
        "\n"
      ],
      "metadata": {
        "id": "ipeVmTtkTIaZ"
      }
    },
    {
      "cell_type": "markdown",
      "source": [
        "# 2 Redes Neuronales a usar"
      ],
      "metadata": {
        "id": "2LU6Bl7YTQ01"
      }
    },
    {
      "cell_type": "code",
      "source": [
        "model_only_embedding = Sequential()\n",
        "model_only_embedding.add(Embedding(500, 6, input_length=1))\n",
        "model_only_embedding.add(Reshape((6,)))\n",
        "print(model_only_embedding.summary())"
      ],
      "metadata": {
        "id": "Pdy1k5Au60O3",
        "colab": {
          "base_uri": "https://localhost:8080/"
        },
        "outputId": "9def6600-cf6d-4bb8-da5c-26bf7e0b7d6a"
      },
      "execution_count": null,
      "outputs": [
        {
          "output_type": "stream",
          "name": "stdout",
          "text": [
            "Model: \"sequential_3\"\n",
            "_________________________________________________________________\n",
            " Layer (type)                Output Shape              Param #   \n",
            "=================================================================\n",
            " embedding_3 (Embedding)     (None, 1, 6)              3000      \n",
            "                                                                 \n",
            " reshape_3 (Reshape)         (None, 6)                 0         \n",
            "                                                                 \n",
            "=================================================================\n",
            "Total params: 3,000\n",
            "Trainable params: 3,000\n",
            "Non-trainable params: 0\n",
            "_________________________________________________________________\n",
            "None\n"
          ]
        }
      ]
    },
    {
      "cell_type": "code",
      "source": [
        "model = Sequential()\n",
        "model.add(Embedding(500, 10, input_length=1))\n",
        "model.add(Reshape((10,)))\n",
        "model.add(Dense(50, activation='relu'))\n",
        "model.add(Dense(50, activation='relu'))\n",
        "model.add(Dense(50, activation='relu'))\n",
        "model.add(Dense(action_size, activation='linear'))\n",
        "print(model.summary())"
      ],
      "metadata": {
        "id": "LXHaz3Kx60Mm",
        "colab": {
          "base_uri": "https://localhost:8080/"
        },
        "outputId": "45b45667-eea1-4512-8788-a8f82ea96749"
      },
      "execution_count": null,
      "outputs": [
        {
          "output_type": "stream",
          "name": "stdout",
          "text": [
            "Model: \"sequential_4\"\n",
            "_________________________________________________________________\n",
            " Layer (type)                Output Shape              Param #   \n",
            "=================================================================\n",
            " embedding_4 (Embedding)     (None, 1, 10)             5000      \n",
            "                                                                 \n",
            " reshape_4 (Reshape)         (None, 10)                0         \n",
            "                                                                 \n",
            " dense_4 (Dense)             (None, 50)                550       \n",
            "                                                                 \n",
            " dense_5 (Dense)             (None, 50)                2550      \n",
            "                                                                 \n",
            " dense_6 (Dense)             (None, 50)                2550      \n",
            "                                                                 \n",
            " dense_7 (Dense)             (None, 6)                 306       \n",
            "                                                                 \n",
            "=================================================================\n",
            "Total params: 10,956\n",
            "Trainable params: 10,956\n",
            "Non-trainable params: 0\n",
            "_________________________________________________________________\n",
            "None\n"
          ]
        }
      ]
    },
    {
      "cell_type": "markdown",
      "source": [
        "# Estructura General\n",
        "\n",
        "![1_ibWj_Ym7JWhz551PrHTUkA[1].png](data:image/png;base64,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)\n"
      ],
      "metadata": {
        "id": "wAW5I8dzjLWA"
      }
    },
    {
      "cell_type": "markdown",
      "source": [
        "# Entrenamiento de los modelos"
      ],
      "metadata": {
        "id": "NskmTuSHUPEU"
      }
    },
    {
      "cell_type": "markdown",
      "source": [
        "Parámetros utilizados:\n",
        "\n",
        "En el objeto \"SequentialMemory\":\n",
        "- limit: Cantidad de (estado, accion, recompensa, nuevo estado) que guarda el agente en su memoria\n",
        "- window_length: Cantidad de estados vistos hacía atras para tomar decisión\n",
        "\n",
        "En DQNAgent:\n",
        "- nb_sets_warmup: Cantidad de episodios en que tomará acciones al azar\n",
        "-target_model_update: Cada cuanto se cambiarán los parámetros de la Red Neuronal objetivo (porcentual)\n",
        "\n",
        "En método fit:\n",
        "- nb_steps: Todos los pasos totales que hará el agente\n",
        "- nb_max_episode_steps: Cantidad de pasos máximos que daráel agente en un episodio\n"
      ],
      "metadata": {
        "id": "Y6B5OB4uYd9v"
      }
    },
    {
      "cell_type": "code",
      "source": [
        "from rl.agents.dqn import DQNAgent\n",
        "from rl.policy import EpsGreedyQPolicy\n",
        "from rl.memory import SequentialMemory\n",
        "\n",
        "#memory = SequentialMemory(limit=50000, window_length=1)\n",
        "#policy = EpsGreedyQPolicy()\n",
        "#dqn_only_embedding = DQNAgent(model=model_only_embedding, nb_actions=action_size, memory=memory, nb_steps_warmup=500, target_model_update=1e-2, policy=policy)\n",
        "#dqn_only_embedding.compile(Adam(learning_rate=1e-3), metrics=['mae'])\n",
        "#dqn_only_embedding.fit(env, nb_steps=1000000, visualize=False, verbose=1, nb_max_episode_steps=99, log_interval=100000)"
      ],
      "metadata": {
        "id": "6tT7ClTm60Ka"
      },
      "execution_count": null,
      "outputs": []
    },
    {
      "cell_type": "markdown",
      "source": [
        "Salida de la celda anterior (por si llega a borrarse la sálida)\n",
        "\n",
        "![image.png](data:image/png;base64,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)"
      ],
      "metadata": {
        "id": "uq2Qi2YGG4ss"
      }
    },
    {
      "cell_type": "markdown",
      "source": [
        "Parámetros:\n",
        "\n"
      ],
      "metadata": {
        "id": "zVF-XUrwUSIx"
      }
    },
    {
      "cell_type": "code",
      "source": [
        "# Esta celda funciona directamente cuando se entrena la red neuronal\n",
        "\n",
        "#dqn_only_embedding.test(env, nb_episodes=2, visualize=True, nb_max_episode_steps=99)"
      ],
      "metadata": {
        "id": "_zjIYBlG60IQ"
      },
      "execution_count": null,
      "outputs": []
    },
    {
      "cell_type": "code",
      "source": [
        "memory = SequentialMemory(limit=50000, window_length=1)\n",
        "policy = EpsGreedyQPolicy()\n",
        "dqn_only_embedding = DQNAgent(model=model_only_embedding, nb_actions=action_size, memory=memory, nb_steps_warmup=500, target_model_update=1e-2, policy=policy)\n",
        "dqn_only_embedding.compile(Adam(learning_rate=1e-3), metrics=['mae'])"
      ],
      "metadata": {
        "id": "sh6ji8OiGh47"
      },
      "execution_count": null,
      "outputs": []
    },
    {
      "cell_type": "code",
      "source": [
        "#dqn_only_embedding.save_weights('/content/drive/MyDrive/Curso-DeepLearning/Semana6/taxi_render/dqn_{}_weights_embedding.h5f'.format(\"Taxi-v2\"), overwrite=True)"
      ],
      "metadata": {
        "id": "Un27-ZOK2Hm-"
      },
      "execution_count": null,
      "outputs": []
    },
    {
      "cell_type": "code",
      "source": [
        "#dqn_only_embedding.load_weights(\"/content/drive/MyDrive/Curso-DeepLearning/Semana6/taxi_render/dqn_Taxi-v2_weights_embedding.h5f\")"
      ],
      "metadata": {
        "id": "thMaSabrX86B"
      },
      "execution_count": null,
      "outputs": []
    },
    {
      "cell_type": "code",
      "source": [
        "dqn_only_embedding.test(env, nb_episodes=2, visualize=True, nb_max_episode_steps=99)"
      ],
      "metadata": {
        "id": "aSlmLCeoYY7f",
        "colab": {
          "base_uri": "https://localhost:8080/"
        },
        "outputId": "e84cf8c1-4001-476e-8ff7-aec047b27a8f"
      },
      "execution_count": null,
      "outputs": [
        {
          "output_type": "stream",
          "name": "stdout",
          "text": [
            "Testing for 2 episodes ...\n",
            "+---------+\n",
            "|\u001b[35mR\u001b[0m: | : :\u001b[34;1mG\u001b[0m|\n",
            "| : | : : |\n",
            "| :\u001b[43m \u001b[0m: : : |\n",
            "| | : | : |\n",
            "|Y| : |B: |\n",
            "+---------+\n",
            "  (East)\n",
            "+---------+\n",
            "|\u001b[35mR\u001b[0m: | : :\u001b[34;1mG\u001b[0m|\n",
            "| : | : : |\n",
            "| : :\u001b[43m \u001b[0m: : |\n",
            "| | : | : |\n",
            "|Y| : |B: |\n",
            "+---------+\n",
            "  (East)\n",
            "+---------+\n",
            "|\u001b[35mR\u001b[0m: | : :\u001b[34;1mG\u001b[0m|\n",
            "| : |\u001b[43m \u001b[0m: : |\n",
            "| : : : : |\n",
            "| | : | : |\n",
            "|Y| : |B: |\n",
            "+---------+\n",
            "  (North)\n",
            "+---------+\n",
            "|\u001b[35mR\u001b[0m: | : :\u001b[34;1mG\u001b[0m|\n",
            "| : | :\u001b[43m \u001b[0m: |\n",
            "| : : : : |\n",
            "| | : | : |\n",
            "|Y| : |B: |\n",
            "+---------+\n",
            "  (East)\n",
            "+---------+\n",
            "|\u001b[35mR\u001b[0m: | :\u001b[43m \u001b[0m:\u001b[34;1mG\u001b[0m|\n",
            "| : | : : |\n",
            "| : : : : |\n",
            "| | : | : |\n",
            "|Y| : |B: |\n",
            "+---------+\n",
            "  (North)\n",
            "+---------+\n",
            "|\u001b[35mR\u001b[0m: | : :\u001b[34;1m\u001b[43mG\u001b[0m\u001b[0m|\n",
            "| : | : : |\n",
            "| : : : : |\n",
            "| | : | : |\n",
            "|Y| : |B: |\n",
            "+---------+\n",
            "  (East)\n",
            "+---------+\n",
            "|\u001b[35mR\u001b[0m: | : :\u001b[42mG\u001b[0m|\n",
            "| : | : : |\n",
            "| : : : : |\n",
            "| | : | : |\n",
            "|Y| : |B: |\n",
            "+---------+\n",
            "  (Pickup)\n",
            "+---------+\n",
            "|\u001b[35mR\u001b[0m: | :\u001b[42m_\u001b[0m:G|\n",
            "| : | : : |\n",
            "| : : : : |\n",
            "| | : | : |\n",
            "|Y| : |B: |\n",
            "+---------+\n",
            "  (West)\n",
            "+---------+\n",
            "|\u001b[35mR\u001b[0m: |\u001b[42m_\u001b[0m: :G|\n",
            "| : | : : |\n",
            "| : : : : |\n",
            "| | : | : |\n",
            "|Y| : |B: |\n",
            "+---------+\n",
            "  (West)\n",
            "+---------+\n",
            "|\u001b[35mR\u001b[0m: | : :G|\n",
            "| : |\u001b[42m_\u001b[0m: : |\n",
            "| : : : : |\n",
            "| | : | : |\n",
            "|Y| : |B: |\n",
            "+---------+\n",
            "  (South)\n",
            "+---------+\n",
            "|\u001b[35mR\u001b[0m: | : :G|\n",
            "| : | : : |\n",
            "| : :\u001b[42m_\u001b[0m: : |\n",
            "| | : | : |\n",
            "|Y| : |B: |\n",
            "+---------+\n",
            "  (South)\n",
            "+---------+\n",
            "|\u001b[35mR\u001b[0m: | : :G|\n",
            "| : | : : |\n",
            "| :\u001b[42m_\u001b[0m: : : |\n",
            "| | : | : |\n",
            "|Y| : |B: |\n",
            "+---------+\n",
            "  (West)\n",
            "+---------+\n",
            "|\u001b[35mR\u001b[0m: | : :G|\n",
            "| :\u001b[42m_\u001b[0m| : : |\n",
            "| : : : : |\n",
            "| | : | : |\n",
            "|Y| : |B: |\n",
            "+---------+\n",
            "  (North)\n",
            "+---------+\n",
            "|\u001b[35mR\u001b[0m: | : :G|\n",
            "|\u001b[42m_\u001b[0m: | : : |\n",
            "| : : : : |\n",
            "| | : | : |\n",
            "|Y| : |B: |\n",
            "+---------+\n",
            "  (West)\n",
            "+---------+\n",
            "|\u001b[35m\u001b[42mR\u001b[0m\u001b[0m: | : :G|\n",
            "| : | : : |\n",
            "| : : : : |\n",
            "| | : | : |\n",
            "|Y| : |B: |\n",
            "+---------+\n",
            "  (North)\n",
            "+---------+\n",
            "|\u001b[35m\u001b[34;1m\u001b[43mR\u001b[0m\u001b[0m\u001b[0m: | : :G|\n",
            "| : | : : |\n",
            "| : : : : |\n",
            "| | : | : |\n",
            "|Y| : |B: |\n",
            "+---------+\n",
            "  (Dropoff)\n",
            "Episode 1: reward: 5.000, steps: 16\n",
            "+---------+\n",
            "|\u001b[34;1mR\u001b[0m: | : :G|\n",
            "| : | : : |\n",
            "| : :\u001b[43m \u001b[0m: : |\n",
            "| | : | : |\n",
            "|Y| : |\u001b[35mB\u001b[0m: |\n",
            "+---------+\n",
            "  (North)\n",
            "+---------+\n",
            "|\u001b[34;1mR\u001b[0m: | : :G|\n",
            "| : | : : |\n",
            "| :\u001b[43m \u001b[0m: : : |\n",
            "| | : | : |\n",
            "|Y| : |\u001b[35mB\u001b[0m: |\n",
            "+---------+\n",
            "  (West)\n",
            "+---------+\n",
            "|\u001b[34;1mR\u001b[0m: | : :G|\n",
            "| :\u001b[43m \u001b[0m| : : |\n",
            "| : : : : |\n",
            "| | : | : |\n",
            "|Y| : |\u001b[35mB\u001b[0m: |\n",
            "+---------+\n",
            "  (North)\n",
            "+---------+\n",
            "|\u001b[34;1mR\u001b[0m:\u001b[43m \u001b[0m| : :G|\n",
            "| : | : : |\n",
            "| : : : : |\n",
            "| | : | : |\n",
            "|Y| : |\u001b[35mB\u001b[0m: |\n",
            "+---------+\n",
            "  (North)\n",
            "+---------+\n",
            "|\u001b[34;1m\u001b[43mR\u001b[0m\u001b[0m: | : :G|\n",
            "| : | : : |\n",
            "| : : : : |\n",
            "| | : | : |\n",
            "|Y| : |\u001b[35mB\u001b[0m: |\n",
            "+---------+\n",
            "  (West)\n",
            "+---------+\n",
            "|\u001b[42mR\u001b[0m: | : :G|\n",
            "| : | : : |\n",
            "| : : : : |\n",
            "| | : | : |\n",
            "|Y| : |\u001b[35mB\u001b[0m: |\n",
            "+---------+\n",
            "  (Pickup)\n",
            "+---------+\n",
            "|R:\u001b[42m_\u001b[0m| : :G|\n",
            "| : | : : |\n",
            "| : : : : |\n",
            "| | : | : |\n",
            "|Y| : |\u001b[35mB\u001b[0m: |\n",
            "+---------+\n",
            "  (East)\n",
            "+---------+\n",
            "|R: | : :G|\n",
            "| :\u001b[42m_\u001b[0m| : : |\n",
            "| : : : : |\n",
            "| | : | : |\n",
            "|Y| : |\u001b[35mB\u001b[0m: |\n",
            "+---------+\n",
            "  (South)\n",
            "+---------+\n",
            "|R: | : :G|\n",
            "| : | : : |\n",
            "| :\u001b[42m_\u001b[0m: : : |\n",
            "| | : | : |\n",
            "|Y| : |\u001b[35mB\u001b[0m: |\n",
            "+---------+\n",
            "  (South)\n",
            "+---------+\n",
            "|R: | : :G|\n",
            "| : | : : |\n",
            "| : :\u001b[42m_\u001b[0m: : |\n",
            "| | : | : |\n",
            "|Y| : |\u001b[35mB\u001b[0m: |\n",
            "+---------+\n",
            "  (East)\n",
            "+---------+\n",
            "|R: | : :G|\n",
            "| : | : : |\n",
            "| : : :\u001b[42m_\u001b[0m: |\n",
            "| | : | : |\n",
            "|Y| : |\u001b[35mB\u001b[0m: |\n",
            "+---------+\n",
            "  (East)\n",
            "+---------+\n",
            "|R: | : :G|\n",
            "| : | : : |\n",
            "| : : : : |\n",
            "| | : |\u001b[42m_\u001b[0m: |\n",
            "|Y| : |\u001b[35mB\u001b[0m: |\n",
            "+---------+\n",
            "  (South)\n",
            "+---------+\n",
            "|R: | : :G|\n",
            "| : | : : |\n",
            "| : : : : |\n",
            "| | : | : |\n",
            "|Y| : |\u001b[35m\u001b[42mB\u001b[0m\u001b[0m: |\n",
            "+---------+\n",
            "  (South)\n",
            "+---------+\n",
            "|R: | : :G|\n",
            "| : | : : |\n",
            "| : : : : |\n",
            "| | : | : |\n",
            "|Y| : |\u001b[35m\u001b[34;1m\u001b[43mB\u001b[0m\u001b[0m\u001b[0m: |\n",
            "+---------+\n",
            "  (Dropoff)\n",
            "Episode 2: reward: 7.000, steps: 14\n"
          ]
        },
        {
          "output_type": "execute_result",
          "data": {
            "text/plain": [
              "<keras.callbacks.History at 0x7d1ffdcc8430>"
            ]
          },
          "metadata": {},
          "execution_count": 28
        }
      ]
    },
    {
      "cell_type": "code",
      "source": [
        "from rl.agents.dqn import DQNAgent\n",
        "from rl.policy import EpsGreedyQPolicy\n",
        "from rl.memory import SequentialMemory\n",
        "\n",
        "#memory = SequentialMemory(limit=50000, window_length=1)\n",
        "#policy = EpsGreedyQPolicy()\n",
        "#dqn = DQNAgent(model=model, nb_actions=action_size, memory=memory, nb_steps_warmup=500, target_model_update=1e-2, policy=policy)\n",
        "#dqn.compile(Adam(lr=1e-3), metrics=['mae'])\n",
        "#dqn.fit(env, nb_steps=1000000, visualize=False, verbose=1, nb_max_episode_steps=99, log_interval=100000)"
      ],
      "metadata": {
        "id": "cNPUklF460GU"
      },
      "execution_count": null,
      "outputs": []
    },
    {
      "cell_type": "markdown",
      "source": [
        "Salida de las celdas anteriores (por si se llegan a borrar)\n",
        "\n",
        "![image.png](data:image/png;base64,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)"
      ],
      "metadata": {
        "id": "fSuCE-TfGvGp"
      }
    },
    {
      "cell_type": "code",
      "source": [
        "dqn.test(env, nb_episodes=5, visualize=True, nb_max_episode_steps=99)"
      ],
      "metadata": {
        "id": "dAwpvN_U60EE"
      },
      "execution_count": null,
      "outputs": []
    },
    {
      "cell_type": "code",
      "source": [
        "memory = SequentialMemory(limit=50000, window_length=1)\n",
        "policy = EpsGreedyQPolicy()\n",
        "dqn = DQNAgent(model=model, nb_actions=action_size, memory=memory, nb_steps_warmup=500, target_model_update=1e-2, policy=policy)\n",
        "dqn.compile(Adam(learning_rate=1e-3), metrics=['mae'])"
      ],
      "metadata": {
        "id": "Cel7IiDGGlWx"
      },
      "execution_count": null,
      "outputs": []
    },
    {
      "cell_type": "code",
      "source": [
        "#dqn.save_weights(\"/content/drive/MyDrive/Curso-DeepLearning/Semana6/taxi_render/dqn_Taxi-v2_weights.h5f\")"
      ],
      "metadata": {
        "id": "M8-XJYFhe5pO"
      },
      "execution_count": null,
      "outputs": []
    },
    {
      "cell_type": "code",
      "source": [
        "dqn.load_weights(\"/content/drive/MyDrive/Curso-DeepLearning/Semana6/taxi_render/dqn_Taxi-v2_weights.h5f\")"
      ],
      "metadata": {
        "id": "-rTAHU-WzukD"
      },
      "execution_count": null,
      "outputs": []
    },
    {
      "cell_type": "code",
      "source": [
        "dqn.test(env, nb_episodes=5, visualize=True, nb_max_episode_steps=99)"
      ],
      "metadata": {
        "colab": {
          "base_uri": "https://localhost:8080/"
        },
        "id": "UkGNzFqngz0-",
        "outputId": "d264f460-f4b7-4511-b2a3-95d10ecd9f4f"
      },
      "execution_count": null,
      "outputs": [
        {
          "output_type": "stream",
          "name": "stdout",
          "text": [
            "Testing for 5 episodes ...\n",
            "+---------+\n",
            "|\u001b[35mR\u001b[0m: | : :G|\n",
            "| : | : : |\n",
            "| : : :\u001b[43m \u001b[0m: |\n",
            "| | : | : |\n",
            "|Y| : |\u001b[34;1mB\u001b[0m: |\n",
            "+---------+\n",
            "  (West)\n",
            "+---------+\n",
            "|\u001b[35mR\u001b[0m: | : :G|\n",
            "| : | : : |\n",
            "| : : : : |\n",
            "| | : |\u001b[43m \u001b[0m: |\n",
            "|Y| : |\u001b[34;1mB\u001b[0m: |\n",
            "+---------+\n",
            "  (South)\n",
            "+---------+\n",
            "|\u001b[35mR\u001b[0m: | : :G|\n",
            "| : | : : |\n",
            "| : : : : |\n",
            "| | : | : |\n",
            "|Y| : |\u001b[34;1m\u001b[43mB\u001b[0m\u001b[0m: |\n",
            "+---------+\n",
            "  (South)\n",
            "+---------+\n",
            "|\u001b[35mR\u001b[0m: | : :G|\n",
            "| : | : : |\n",
            "| : : : : |\n",
            "| | : | : |\n",
            "|Y| : |\u001b[42mB\u001b[0m: |\n",
            "+---------+\n",
            "  (Pickup)\n",
            "+---------+\n",
            "|\u001b[35mR\u001b[0m: | : :G|\n",
            "| : | : : |\n",
            "| : : : : |\n",
            "| | : |\u001b[42m_\u001b[0m: |\n",
            "|Y| : |B: |\n",
            "+---------+\n",
            "  (North)\n",
            "+---------+\n",
            "|\u001b[35mR\u001b[0m: | : :G|\n",
            "| : | : : |\n",
            "| : : :\u001b[42m_\u001b[0m: |\n",
            "| | : | : |\n",
            "|Y| : |B: |\n",
            "+---------+\n",
            "  (North)\n",
            "+---------+\n",
            "|\u001b[35mR\u001b[0m: | : :G|\n",
            "| : | : : |\n",
            "| : :\u001b[42m_\u001b[0m: : |\n",
            "| | : | : |\n",
            "|Y| : |B: |\n",
            "+---------+\n",
            "  (West)\n",
            "+---------+\n",
            "|\u001b[35mR\u001b[0m: | : :G|\n",
            "| : | : : |\n",
            "| :\u001b[42m_\u001b[0m: : : |\n",
            "| | : | : |\n",
            "|Y| : |B: |\n",
            "+---------+\n",
            "  (West)\n",
            "+---------+\n",
            "|\u001b[35mR\u001b[0m: | : :G|\n",
            "| :\u001b[42m_\u001b[0m| : : |\n",
            "| : : : : |\n",
            "| | : | : |\n",
            "|Y| : |B: |\n",
            "+---------+\n",
            "  (North)\n",
            "+---------+\n",
            "|\u001b[35mR\u001b[0m:\u001b[42m_\u001b[0m| : :G|\n",
            "| : | : : |\n",
            "| : : : : |\n",
            "| | : | : |\n",
            "|Y| : |B: |\n",
            "+---------+\n",
            "  (North)\n",
            "+---------+\n",
            "|\u001b[35m\u001b[42mR\u001b[0m\u001b[0m: | : :G|\n",
            "| : | : : |\n",
            "| : : : : |\n",
            "| | : | : |\n",
            "|Y| : |B: |\n",
            "+---------+\n",
            "  (West)\n",
            "+---------+\n",
            "|\u001b[35m\u001b[34;1m\u001b[43mR\u001b[0m\u001b[0m\u001b[0m: | : :G|\n",
            "| : | : : |\n",
            "| : : : : |\n",
            "| | : | : |\n",
            "|Y| : |B: |\n",
            "+---------+\n",
            "  (Dropoff)\n",
            "Episode 1: reward: 9.000, steps: 12\n",
            "+---------+\n",
            "|R: | : :\u001b[35mG\u001b[0m|\n",
            "| : | : : |\n",
            "| :\u001b[43m \u001b[0m: : : |\n",
            "| | : | : |\n",
            "|Y| : |\u001b[34;1mB\u001b[0m: |\n",
            "+---------+\n",
            "  (South)\n",
            "+---------+\n",
            "|R: | : :\u001b[35mG\u001b[0m|\n",
            "| : | : : |\n",
            "| : :\u001b[43m \u001b[0m: : |\n",
            "| | : | : |\n",
            "|Y| : |\u001b[34;1mB\u001b[0m: |\n",
            "+---------+\n",
            "  (East)\n",
            "+---------+\n",
            "|R: | : :\u001b[35mG\u001b[0m|\n",
            "| : | : : |\n",
            "| : : :\u001b[43m \u001b[0m: |\n",
            "| | : | : |\n",
            "|Y| : |\u001b[34;1mB\u001b[0m: |\n",
            "+---------+\n",
            "  (East)\n",
            "+---------+\n",
            "|R: | : :\u001b[35mG\u001b[0m|\n",
            "| : | : : |\n",
            "| : : : : |\n",
            "| | : |\u001b[43m \u001b[0m: |\n",
            "|Y| : |\u001b[34;1mB\u001b[0m: |\n",
            "+---------+\n",
            "  (South)\n",
            "+---------+\n",
            "|R: | : :\u001b[35mG\u001b[0m|\n",
            "| : | : : |\n",
            "| : : : : |\n",
            "| | : | : |\n",
            "|Y| : |\u001b[34;1m\u001b[43mB\u001b[0m\u001b[0m: |\n",
            "+---------+\n",
            "  (South)\n",
            "+---------+\n",
            "|R: | : :\u001b[35mG\u001b[0m|\n",
            "| : | : : |\n",
            "| : : : : |\n",
            "| | : | : |\n",
            "|Y| : |\u001b[42mB\u001b[0m: |\n",
            "+---------+\n",
            "  (Pickup)\n",
            "+---------+\n",
            "|R: | : :\u001b[35mG\u001b[0m|\n",
            "| : | : : |\n",
            "| : : : : |\n",
            "| | : | : |\n",
            "|Y| : |B:\u001b[42m_\u001b[0m|\n",
            "+---------+\n",
            "  (East)\n",
            "+---------+\n",
            "|R: | : :\u001b[35mG\u001b[0m|\n",
            "| : | : : |\n",
            "| : : : : |\n",
            "| | : | :\u001b[42m_\u001b[0m|\n",
            "|Y| : |B: |\n",
            "+---------+\n",
            "  (North)\n",
            "+---------+\n",
            "|R: | : :\u001b[35mG\u001b[0m|\n",
            "| : | : : |\n",
            "| : : : :\u001b[42m_\u001b[0m|\n",
            "| | : | : |\n",
            "|Y| : |B: |\n",
            "+---------+\n",
            "  (North)\n",
            "+---------+\n",
            "|R: | : :\u001b[35mG\u001b[0m|\n",
            "| : | : :\u001b[42m_\u001b[0m|\n",
            "| : : : : |\n",
            "| | : | : |\n",
            "|Y| : |B: |\n",
            "+---------+\n",
            "  (North)\n",
            "+---------+\n",
            "|R: | : :\u001b[35m\u001b[42mG\u001b[0m\u001b[0m|\n",
            "| : | : : |\n",
            "| : : : : |\n",
            "| | : | : |\n",
            "|Y| : |B: |\n",
            "+---------+\n",
            "  (North)\n",
            "+---------+\n",
            "|R: | : :\u001b[35m\u001b[34;1m\u001b[43mG\u001b[0m\u001b[0m\u001b[0m|\n",
            "| : | : : |\n",
            "| : : : : |\n",
            "| | : | : |\n",
            "|Y| : |B: |\n",
            "+---------+\n",
            "  (Dropoff)\n",
            "Episode 2: reward: 9.000, steps: 12\n",
            "+---------+\n",
            "|\u001b[35mR\u001b[0m: | : :G|\n",
            "| : | : : |\n",
            "| : :\u001b[43m \u001b[0m: : |\n",
            "| | : | : |\n",
            "|\u001b[34;1mY\u001b[0m| : |B: |\n",
            "+---------+\n",
            "  (West)\n",
            "+---------+\n",
            "|\u001b[35mR\u001b[0m: | : :G|\n",
            "| : | : : |\n",
            "| :\u001b[43m \u001b[0m: : : |\n",
            "| | : | : |\n",
            "|\u001b[34;1mY\u001b[0m| : |B: |\n",
            "+---------+\n",
            "  (West)\n",
            "+---------+\n",
            "|\u001b[35mR\u001b[0m: | : :G|\n",
            "| : | : : |\n",
            "|\u001b[43m \u001b[0m: : : : |\n",
            "| | : | : |\n",
            "|\u001b[34;1mY\u001b[0m| : |B: |\n",
            "+---------+\n",
            "  (West)\n",
            "+---------+\n",
            "|\u001b[35mR\u001b[0m: | : :G|\n",
            "| : | : : |\n",
            "| : : : : |\n",
            "|\u001b[43m \u001b[0m| : | : |\n",
            "|\u001b[34;1mY\u001b[0m| : |B: |\n",
            "+---------+\n",
            "  (South)\n",
            "+---------+\n",
            "|\u001b[35mR\u001b[0m: | : :G|\n",
            "| : | : : |\n",
            "| : : : : |\n",
            "| | : | : |\n",
            "|\u001b[34;1m\u001b[43mY\u001b[0m\u001b[0m| : |B: |\n",
            "+---------+\n",
            "  (South)\n",
            "+---------+\n",
            "|\u001b[35mR\u001b[0m: | : :G|\n",
            "| : | : : |\n",
            "| : : : : |\n",
            "| | : | : |\n",
            "|\u001b[42mY\u001b[0m| : |B: |\n",
            "+---------+\n",
            "  (Pickup)\n",
            "+---------+\n",
            "|\u001b[35mR\u001b[0m: | : :G|\n",
            "| : | : : |\n",
            "| : : : : |\n",
            "|\u001b[42m_\u001b[0m| : | : |\n",
            "|Y| : |B: |\n",
            "+---------+\n",
            "  (North)\n",
            "+---------+\n",
            "|\u001b[35mR\u001b[0m: | : :G|\n",
            "| : | : : |\n",
            "|\u001b[42m_\u001b[0m: : : : |\n",
            "| | : | : |\n",
            "|Y| : |B: |\n",
            "+---------+\n",
            "  (North)\n",
            "+---------+\n",
            "|\u001b[35mR\u001b[0m: | : :G|\n",
            "|\u001b[42m_\u001b[0m: | : : |\n",
            "| : : : : |\n",
            "| | : | : |\n",
            "|Y| : |B: |\n",
            "+---------+\n",
            "  (North)\n",
            "+---------+\n",
            "|\u001b[35m\u001b[42mR\u001b[0m\u001b[0m: | : :G|\n",
            "| : | : : |\n",
            "| : : : : |\n",
            "| | : | : |\n",
            "|Y| : |B: |\n",
            "+---------+\n",
            "  (North)\n",
            "+---------+\n",
            "|\u001b[35m\u001b[34;1m\u001b[43mR\u001b[0m\u001b[0m\u001b[0m: | : :G|\n",
            "| : | : : |\n",
            "| : : : : |\n",
            "| | : | : |\n",
            "|Y| : |B: |\n",
            "+---------+\n",
            "  (Dropoff)\n",
            "Episode 3: reward: 10.000, steps: 11\n",
            "+---------+\n",
            "|R: | : :\u001b[35mG\u001b[0m|\n",
            "| : | : : |\n",
            "| : : :\u001b[43m \u001b[0m: |\n",
            "| | : | : |\n",
            "|Y| : |\u001b[34;1mB\u001b[0m: |\n",
            "+---------+\n",
            "  (East)\n",
            "+---------+\n",
            "|R: | : :\u001b[35mG\u001b[0m|\n",
            "| : | : : |\n",
            "| : : : : |\n",
            "| | : |\u001b[43m \u001b[0m: |\n",
            "|Y| : |\u001b[34;1mB\u001b[0m: |\n",
            "+---------+\n",
            "  (South)\n",
            "+---------+\n",
            "|R: | : :\u001b[35mG\u001b[0m|\n",
            "| : | : : |\n",
            "| : : : : |\n",
            "| | : | : |\n",
            "|Y| : |\u001b[34;1m\u001b[43mB\u001b[0m\u001b[0m: |\n",
            "+---------+\n",
            "  (South)\n",
            "+---------+\n",
            "|R: | : :\u001b[35mG\u001b[0m|\n",
            "| : | : : |\n",
            "| : : : : |\n",
            "| | : | : |\n",
            "|Y| : |\u001b[42mB\u001b[0m: |\n",
            "+---------+\n",
            "  (Pickup)\n",
            "+---------+\n",
            "|R: | : :\u001b[35mG\u001b[0m|\n",
            "| : | : : |\n",
            "| : : : : |\n",
            "| | : | : |\n",
            "|Y| : |B:\u001b[42m_\u001b[0m|\n",
            "+---------+\n",
            "  (East)\n",
            "+---------+\n",
            "|R: | : :\u001b[35mG\u001b[0m|\n",
            "| : | : : |\n",
            "| : : : : |\n",
            "| | : | :\u001b[42m_\u001b[0m|\n",
            "|Y| : |B: |\n",
            "+---------+\n",
            "  (North)\n",
            "+---------+\n",
            "|R: | : :\u001b[35mG\u001b[0m|\n",
            "| : | : : |\n",
            "| : : : :\u001b[42m_\u001b[0m|\n",
            "| | : | : |\n",
            "|Y| : |B: |\n",
            "+---------+\n",
            "  (North)\n",
            "+---------+\n",
            "|R: | : :\u001b[35mG\u001b[0m|\n",
            "| : | : :\u001b[42m_\u001b[0m|\n",
            "| : : : : |\n",
            "| | : | : |\n",
            "|Y| : |B: |\n",
            "+---------+\n",
            "  (North)\n",
            "+---------+\n",
            "|R: | : :\u001b[35m\u001b[42mG\u001b[0m\u001b[0m|\n",
            "| : | : : |\n",
            "| : : : : |\n",
            "| | : | : |\n",
            "|Y| : |B: |\n",
            "+---------+\n",
            "  (North)\n",
            "+---------+\n",
            "|R: | : :\u001b[35m\u001b[34;1m\u001b[43mG\u001b[0m\u001b[0m\u001b[0m|\n",
            "| : | : : |\n",
            "| : : : : |\n",
            "| | : | : |\n",
            "|Y| : |B: |\n",
            "+---------+\n",
            "  (Dropoff)\n",
            "Episode 4: reward: 11.000, steps: 10\n",
            "+---------+\n",
            "|R: | : :G|\n",
            "| : | : : |\n",
            "| : : : : |\n",
            "| | : |\u001b[43m \u001b[0m: |\n",
            "|\u001b[34;1mY\u001b[0m| : |\u001b[35mB\u001b[0m: |\n",
            "+---------+\n",
            "  (North)\n",
            "+---------+\n",
            "|R: | : :G|\n",
            "| : | : : |\n",
            "| : : :\u001b[43m \u001b[0m: |\n",
            "| | : | : |\n",
            "|\u001b[34;1mY\u001b[0m| : |\u001b[35mB\u001b[0m: |\n",
            "+---------+\n",
            "  (North)\n",
            "+---------+\n",
            "|R: | : :G|\n",
            "| : | : : |\n",
            "| : :\u001b[43m \u001b[0m: : |\n",
            "| | : | : |\n",
            "|\u001b[34;1mY\u001b[0m| : |\u001b[35mB\u001b[0m: |\n",
            "+---------+\n",
            "  (West)\n",
            "+---------+\n",
            "|R: | : :G|\n",
            "| : | : : |\n",
            "| :\u001b[43m \u001b[0m: : : |\n",
            "| | : | : |\n",
            "|\u001b[34;1mY\u001b[0m| : |\u001b[35mB\u001b[0m: |\n",
            "+---------+\n",
            "  (West)\n",
            "+---------+\n",
            "|R: | : :G|\n",
            "| : | : : |\n",
            "|\u001b[43m \u001b[0m: : : : |\n",
            "| | : | : |\n",
            "|\u001b[34;1mY\u001b[0m| : |\u001b[35mB\u001b[0m: |\n",
            "+---------+\n",
            "  (West)\n",
            "+---------+\n",
            "|R: | : :G|\n",
            "| : | : : |\n",
            "| : : : : |\n",
            "|\u001b[43m \u001b[0m| : | : |\n",
            "|\u001b[34;1mY\u001b[0m| : |\u001b[35mB\u001b[0m: |\n",
            "+---------+\n",
            "  (South)\n",
            "+---------+\n",
            "|R: | : :G|\n",
            "| : | : : |\n",
            "| : : : : |\n",
            "| | : | : |\n",
            "|\u001b[34;1m\u001b[43mY\u001b[0m\u001b[0m| : |\u001b[35mB\u001b[0m: |\n",
            "+---------+\n",
            "  (South)\n",
            "+---------+\n",
            "|R: | : :G|\n",
            "| : | : : |\n",
            "| : : : : |\n",
            "| | : | : |\n",
            "|\u001b[42mY\u001b[0m| : |\u001b[35mB\u001b[0m: |\n",
            "+---------+\n",
            "  (Pickup)\n",
            "+---------+\n",
            "|R: | : :G|\n",
            "| : | : : |\n",
            "| : : : : |\n",
            "|\u001b[42m_\u001b[0m| : | : |\n",
            "|Y| : |\u001b[35mB\u001b[0m: |\n",
            "+---------+\n",
            "  (North)\n",
            "+---------+\n",
            "|R: | : :G|\n",
            "| : | : : |\n",
            "|\u001b[42m_\u001b[0m: : : : |\n",
            "| | : | : |\n",
            "|Y| : |\u001b[35mB\u001b[0m: |\n",
            "+---------+\n",
            "  (North)\n",
            "+---------+\n",
            "|R: | : :G|\n",
            "| : | : : |\n",
            "| :\u001b[42m_\u001b[0m: : : |\n",
            "| | : | : |\n",
            "|Y| : |\u001b[35mB\u001b[0m: |\n",
            "+---------+\n",
            "  (East)\n",
            "+---------+\n",
            "|R: | : :G|\n",
            "| : | : : |\n",
            "| : :\u001b[42m_\u001b[0m: : |\n",
            "| | : | : |\n",
            "|Y| : |\u001b[35mB\u001b[0m: |\n",
            "+---------+\n",
            "  (East)\n",
            "+---------+\n",
            "|R: | : :G|\n",
            "| : | : : |\n",
            "| : : :\u001b[42m_\u001b[0m: |\n",
            "| | : | : |\n",
            "|Y| : |\u001b[35mB\u001b[0m: |\n",
            "+---------+\n",
            "  (East)\n",
            "+---------+\n",
            "|R: | : :G|\n",
            "| : | : : |\n",
            "| : : : : |\n",
            "| | : |\u001b[42m_\u001b[0m: |\n",
            "|Y| : |\u001b[35mB\u001b[0m: |\n",
            "+---------+\n",
            "  (South)\n",
            "+---------+\n",
            "|R: | : :G|\n",
            "| : | : : |\n",
            "| : : : : |\n",
            "| | : | : |\n",
            "|Y| : |\u001b[35m\u001b[42mB\u001b[0m\u001b[0m: |\n",
            "+---------+\n",
            "  (South)\n",
            "+---------+\n",
            "|R: | : :G|\n",
            "| : | : : |\n",
            "| : : : : |\n",
            "| | : | : |\n",
            "|Y| : |\u001b[35m\u001b[34;1m\u001b[43mB\u001b[0m\u001b[0m\u001b[0m: |\n",
            "+---------+\n",
            "  (Dropoff)\n",
            "Episode 5: reward: 5.000, steps: 16\n"
          ]
        },
        {
          "output_type": "execute_result",
          "data": {
            "text/plain": [
              "<keras.callbacks.History at 0x7d1ffdb67040>"
            ]
          },
          "metadata": {},
          "execution_count": 33
        }
      ]
    },
    {
      "cell_type": "markdown",
      "source": [
        "# Referencias\n",
        "\n",
        "- https://towardsdatascience.com/reinforcement-learning-explained-visually-part-5-deep-q-networks-step-by-step-5a5317197f4b\n",
        "- https://tiewkh.github.io/blog/deepqlearning-openaitaxi/\n"
      ],
      "metadata": {
        "id": "wFLgEMfVfFEW"
      }
    }
  ]
}