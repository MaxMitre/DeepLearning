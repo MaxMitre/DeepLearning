{
  "cells": [
    {
      "cell_type": "markdown",
      "source": [
        "[![Open In Colab](https://colab.research.google.com/assets/colab-badge.svg)](https://colab.research.google.com/github/MaxMitre/DeepLearning/blob/main/Semana04_Q_Learning.ipynb)"
      ],
      "metadata": {
        "id": "4zx6IZpkO1yB"
      }
    },
    {
      "cell_type": "markdown",
      "source": [
        "# Problema\n",
        "\n",
        "Se resolverá un problema de optimización, más específicamente, un problema sobre políticas de mantenimiento en una línea de producción y esto se llevará a cabo utilizando Q-learning (aprendizaje por refuerzo)\n",
        "\n"
      ],
      "metadata": {
        "id": "886FKhOf7qXR"
      }
    },
    {
      "cell_type": "markdown",
      "source": [
        "# Dependencias"
      ],
      "metadata": {
        "id": "Xiq7Supk7ooW"
      }
    },
    {
      "cell_type": "code",
      "execution_count": null,
      "metadata": {
        "id": "3T6mWkmIhPq7"
      },
      "outputs": [],
      "source": [
        "import pandas as pd\n",
        "import numpy as np\n",
        "import random\n",
        "import math\n",
        "\n",
        "import matplotlib.pyplot as plt\n",
        "import matplotlib.patches as mpatches\n",
        "\n",
        "plt.rcParams['axes.unicode_minus'] = False"
      ]
    },
    {
      "cell_type": "code",
      "execution_count": null,
      "metadata": {
        "id": "N8tPCRgGhPrA"
      },
      "outputs": [],
      "source": [
        "# Etapa de entrada, Recompensa devuelta y estado de la siguiente etapa\n",
        "def get_enviroment(state, action):\n",
        "\n",
        "    # El estado se compone de 3 entradas: Etapa, Cantidad en inventario, Duración (si es positiva, es un tiempo de mantenimiento)\n",
        "    stage = state[0]\n",
        "    inventory_level = state[1]\n",
        "    duration = state[2]\n",
        "\n",
        "    print(\"current_stage: \", stage)\n",
        "    print(\"current_inventory_level: \", inventory_level)\n",
        "    print(\"current_duration: \", duration)\n",
        "\n",
        "    # Dos factores aleatorios, el que tanto se daña una máquina con el uso y que tanto producto es encargado\n",
        "    random_rate = random.random()\n",
        "    # DEMANDA de clientes\n",
        "    order_num = np.max(int(random.gauss(mu=MU,sigma=SIG)), 0)\n",
        "    print(\"order_num\",order_num)\n",
        "\n",
        "    # Tenemos 5 posibles acciones\n",
        "    # 0: Se sigue produciendo\n",
        "    # 1: Mantenimiento preventivo (PM)\n",
        "    # 2: Mantenimiento Correctivo (CM)\n",
        "    # 3: En mantenimiento (Hay que esperar mas etapas)\n",
        "    # 4: Apagar la máquina (Rest)\n",
        "    if action == 0:\n",
        "        print(\"keep producing\")\n",
        "        new_stage = stage + 1 if MACHINE_DETERIORATION_RATE[stage]>random_rate else stage\n",
        "        new_inventory_level = inventory_level + int(MACHINE_YIELD_RATE[new_stage] * MACHINE_PRODUCTION_NUM) - order_num\n",
        "        new_duration = 0\n",
        "    elif action == 1:\n",
        "        print(\"preventive maintenance\")\n",
        "        new_stage = stage - 2 if stage > 2 else 0\n",
        "        new_inventory_level = inventory_level - order_num\n",
        "        new_duration = PM_DURATION\n",
        "    elif action == 2:\n",
        "        print(\"corrective maintenance\")\n",
        "        new_stage = 0\n",
        "        new_inventory_level = inventory_level - order_num\n",
        "        new_duration = CM_DURATION\n",
        "    elif action==3:\n",
        "        print(\"under maintenance\")\n",
        "        new_stage = stage\n",
        "        new_inventory_level = inventory_level - order_num\n",
        "        new_duration = duration - 1\n",
        "    else:\n",
        "        print(\"rest\")\n",
        "        new_stage = stage\n",
        "        new_inventory_level = inventory_level - order_num\n",
        "        new_duration = 0\n",
        "\n",
        "\n",
        "    # \"recompensa\" y verifica si \"new_inventory_level\" está fuera de los límites\n",
        "    old_reward = inventory_level * BUFFER_COST if inventory_level >=0 else abs(inventory_level) * BACKORDER_COST\n",
        "\n",
        "    if new_inventory_level >= INVENTORY_LEVEL/2:\n",
        "        new_inventory_level = INVENTORY_LEVEL/2\n",
        "    elif new_inventory_level <= -(INVENTORY_LEVEL/2):\n",
        "        new_inventory_level = -(INVENTORY_LEVEL/2)\n",
        "\n",
        "    reward = new_inventory_level * BUFFER_COST if new_inventory_level >=0 else abs(new_inventory_level) * BACKORDER_COST\n",
        "\n",
        "    print(\"--after action--\")\n",
        "    print(\"next_stage: \", new_stage)\n",
        "    print(\"next_inventory_level: \", new_inventory_level)\n",
        "    print(\"next_duration: \", new_duration)\n",
        "    return  (new_stage, new_inventory_level, new_duration), reward\n",
        "\n"
      ]
    },
    {
      "cell_type": "code",
      "execution_count": null,
      "metadata": {
        "id": "w5k2kEmYhPrB"
      },
      "outputs": [],
      "source": [
        "def choose_action(state, q_table, epsilon):\n",
        "    stage = state[0]\n",
        "    inventory_level = state[1]\n",
        "    duration = state[2]\n",
        "\n",
        "    random_prob = np.random.random_sample()\n",
        "    if duration > 0: # Suponiendo que todavía está en mantenimiento, devuelva el mantenimiento directamente\n",
        "        # La máquina está en mantenimiento, acción: ESPERAR\n",
        "        return 3\n",
        "    elif stage == 5: # Suponiendo que la etapa haya llegado a 5, seleccione directamente la acción de CM\n",
        "        # acción: MANTENIMIENTO CORRECTIVO\n",
        "        return 2\n",
        "\n",
        "    elif stage < 1: # Si el escenario es completamente nuevo, no habrá PM, solo fabricación o apagado.\n",
        "        if random_prob < epsilon:\n",
        "            print('exploración')\n",
        "            rt = np.random.random_sample()\n",
        "            if rt < 1/2:\n",
        "                return 0 # Produciendo\n",
        "            else:\n",
        "                return 4 # Apagada\n",
        "        else:\n",
        "            print('explotación')\n",
        "            produce_value = q_table.loc[state, 0]\n",
        "            rest_value = q_table.loc[state, 4]\n",
        "            if produce_value >= rest_value:\n",
        "                return 0 # Produciendo\n",
        "            else:\n",
        "                return 4 # Apagada\n",
        "    else: # Cuando la etapa >= 1 hay 3 posibilidades: PM, fabricación, se puede apagar\n",
        "        if random_prob < epsilon:\n",
        "            print('exploración')\n",
        "            rt = np.random.random_sample()\n",
        "            if rt < 1/3:\n",
        "                return 0\n",
        "            elif 2/3 >= rt >= 1/3:\n",
        "                return 1\n",
        "            else:\n",
        "                print(\"Apagar\")\n",
        "                return 4\n",
        "        else:\n",
        "            # explotación\n",
        "            produce_value = q_table.loc[state, 0]\n",
        "            pm_value = q_table.loc[state, 1]\n",
        "            rest_value = q_table.loc[state, 4]\n",
        "\n",
        "            if produce_value >= pm_value and produce_value >= rest_value:\n",
        "                return 0 # Producir\n",
        "            elif pm_value > produce_value and pm_value > rest_value:\n",
        "                return 1 # PM\n",
        "            else:\n",
        "                return 4 # Apagar\n"
      ]
    },
    {
      "cell_type": "markdown",
      "source": [
        "El Tensor \"q_table\" tiene 3 índices:\n",
        "- El primero representa el estado de la máquina\n",
        "- El segundo el estado del inventario\n",
        "- El tercero duración de la máquina (si es positiva, tiempo de mantenimiento)\n",
        "\n",
        "Al seleccionar un sub-DataFrame de \"q_table\" es la matriz de transición dado el estado con el que indexemos."
      ],
      "metadata": {
        "id": "zcVLBPYcUQYq"
      }
    },
    {
      "cell_type": "code",
      "source": [
        "# estado de la máquina\n",
        "STAGE = 6 # Etapas de vida de la máquina\n",
        "MACHINE_DETERIORATION_RATE = []\n",
        "MACHINE_YIELD_RATE = [1.0, 0.8, 0.6, 0.4, 0.2, 0]\n",
        "MACHINE_PRODUCTION_NUM = 10\n",
        "\n",
        "# relacionado con el costo\n",
        "INVENTORY_LEVEL = 80\n",
        "BUFFER_COST = -3\n",
        "BACKORDER_COST = -5\n",
        "\n",
        "# relacionado con el MANTENIMIENTO\n",
        "PM_DURATION = 1\n",
        "CM_DURATION = 3\n",
        "DURATION = 3\n",
        "\n",
        "# Parámetros para la demanda, pueden complicarlo un poco si consideran esta variable como POISSON\n",
        "MU = 5\n",
        "SIG = 1\n",
        "\n",
        "lambd = 0.2\n",
        "for i in range(1, 6):\n",
        "    j = 1 - np.exp(-lambd*i)\n",
        "    MACHINE_DETERIORATION_RATE.append(j)\n",
        "MACHINE_DETERIORATION_RATE.append(0)"
      ],
      "metadata": {
        "id": "GpPrYbilw6k8"
      },
      "execution_count": null,
      "outputs": []
    },
    {
      "cell_type": "code",
      "source": [
        "MACHINE_DETERIORATION_RATE"
      ],
      "metadata": {
        "id": "0_Zf4zBrSfB8"
      },
      "execution_count": null,
      "outputs": []
    },
    {
      "cell_type": "code",
      "source": [
        "state, action_1, action_2, action_3, action_4, action_5 = [], [], [], [], [], []\n",
        "\n",
        "for i in range(STAGE):\n",
        "    for j in range((INVENTORY_LEVEL//2) * -1, (INVENTORY_LEVEL//2)+1):\n",
        "            for k in range(DURATION+1):\n",
        "                state.append((i,j,k))\n",
        "                action_1.append(float(\"-1000\"))\n",
        "                action_2.append(float(\"-1000\"))\n",
        "                action_3.append(float(\"-1000\"))\n",
        "                action_4.append(float(\"-1000\"))\n",
        "                action_5.append(float(\"-1000\"))\n",
        "# 0: produce, 1:pm, 2:cm, 3:maintenance\n",
        "q_table = pd.DataFrame({0:action_1, 1:action_2, 2:action_3,3:action_4, 4:action_5}, index=pd.MultiIndex.from_tuples(state))\n",
        "initial_state = (0, 1, -4)\n",
        "#q_table.loc[initial_state]\n",
        "q_table"
      ],
      "metadata": {
        "id": "v2zZ_8arw1wL"
      },
      "execution_count": null,
      "outputs": []
    },
    {
      "cell_type": "code",
      "source": [
        "# El primero representa el estado de la máquina\n",
        "# El segundo el estado del inventario\n",
        "# El tercero duración de la máquina (si es positiva, tiempo de mantenimiento)\n",
        "q_table.loc[(4,3,0),:]"
      ],
      "metadata": {
        "id": "TRwQKrUje5_b"
      },
      "execution_count": null,
      "outputs": []
    },
    {
      "cell_type": "markdown",
      "source": [
        "Los cambios en las matrices Q ocurren del siguiente modo:\n",
        "\n",
        "<center><img src='https://camo.githubusercontent.com/f785f991b1eae6c736d51327ecd2b8f354d2a985d19b1e91b3191c52eec68615/68747470733a2f2f692e696d6775722e636f6d2f4f587638654d682e706e67' width=100000></center>\n",
        "\n"
      ],
      "metadata": {
        "id": "Nail3l1oGzeV"
      }
    },
    {
      "cell_type": "code",
      "source": [
        "from tqdm import tqdm"
      ],
      "metadata": {
        "id": "LzzLrC7TC2bV"
      },
      "execution_count": null,
      "outputs": []
    },
    {
      "cell_type": "code",
      "execution_count": null,
      "metadata": {
        "scrolled": false,
        "id": "P0fyBXWvhPrD"
      },
      "outputs": [],
      "source": [
        "# Diseño paramétrico\n",
        "\n",
        "state = (0,10,0)\n",
        "alpha = 0.5\n",
        "dis_fac = 0.8\n",
        "get_epsilon = lambda i: max(0.1, min(1, 1.0 - math.log10((i+1)/2500)))\n",
        "\n",
        "reward_list = []\n",
        "q_value = []\n",
        "avg_reward_list = []\n",
        "total_reward = 0\n",
        "inventory_level_list = []\n",
        "total_inventory = 0\n",
        "avg_inventory_list = []\n",
        "\n",
        "for i in tqdm(range(50000)):\n",
        "\n",
        "    q_value.append(sum(q_table.sum()))\n",
        "    epsilon = get_epsilon(i)\n",
        "#     epsilon = 0\n",
        "    inventory_level_list.append(state[1])\n",
        "\n",
        "    print(\"###############iter\", i,\"###############\")\n",
        "    action = choose_action(state, q_table, epsilon)\n",
        "    new_state, reward = get_enviroment(state, action)\n",
        "    # Recordemos que el estado se compone de (etapa, cantidad de inventario, duración)\n",
        "\n",
        "    print(\"$$$$$\", reward, \"$$$$$$$$$$\")\n",
        "\n",
        "    # El estado que no ha cambiado en algunos enlaces solo puede tener acciones específicas\n",
        "\n",
        "\n",
        "    future_value = float('-inf')\n",
        "    for j in range(5):\n",
        "        value = q_table.loc[new_state, j]\n",
        "        if value > future_value:\n",
        "            future_value = value\n",
        "\n",
        "    if new_state[2] > 0:\n",
        "        future_value = q_table.loc[new_state, 3]\n",
        "    if new_state[2] == CM_DURATION:\n",
        "        future_value = q_table.loc[new_state, 2]\n",
        "\n",
        "# 0: produce, 1:pm, 2:cm, 3:maintenance 4: apagar\n",
        "\n",
        "    # Actualización de valores de Q\n",
        "    q_table.loc[state, action] = (1-alpha) * q_table.loc[state, action] + alpha * (reward + dis_fac *future_value)\n",
        "\n",
        "    total_reward += reward\n",
        "    total_inventory += state[1]\n",
        "    avg_inventory_list.append(total_inventory/(i+1))\n",
        "    avg = total_reward/(i+1)\n",
        "    if i > 5000:\n",
        "        if sum(avg_reward_list[-50:])/len(avg_reward_list[-50:]) == avg:\n",
        "            print(\"early stop\")\n",
        "            break\n",
        "\n",
        "    avg_reward_list.append(avg)\n",
        "    state = new_state"
      ]
    },
    {
      "cell_type": "code",
      "execution_count": null,
      "metadata": {
        "id": "af8ADtiVhPrE"
      },
      "outputs": [],
      "source": [
        "plt.xlabel(\"iteration\")\n",
        "plt.ylabel(\"sum of q_table\")\n",
        "plt.title(\"sum of q_table\")\n",
        "plt.plot(q_value)"
      ]
    },
    {
      "cell_type": "code",
      "source": [
        "q_table"
      ],
      "metadata": {
        "id": "neHWNdn9G87p"
      },
      "execution_count": null,
      "outputs": []
    },
    {
      "cell_type": "code",
      "execution_count": null,
      "metadata": {
        "id": "ga70nKAyhPrE"
      },
      "outputs": [],
      "source": [
        "plt.xlabel(\"iteration\")\n",
        "plt.ylabel(\"reward\")\n",
        "plt.title(\"avg reward\")\n",
        "plt.plot(avg_reward_list)"
      ]
    },
    {
      "cell_type": "code",
      "execution_count": null,
      "metadata": {
        "id": "5SNOXND7hPrF"
      },
      "outputs": [],
      "source": [
        "plt.xlabel(\"iteration\")\n",
        "plt.ylabel(\"inventory_level\")\n",
        "plt.title(\"inventory_level\")\n",
        "plt.plot(inventory_level_list)"
      ]
    },
    {
      "cell_type": "code",
      "execution_count": null,
      "metadata": {
        "id": "04hGB3PNhPrF"
      },
      "outputs": [],
      "source": [
        "plt.xlabel(\"iteration\")\n",
        "plt.ylabel(\"inventory_level\")\n",
        "plt.title(\"avg_inventory_level\")\n",
        "plt.plot(avg_inventory_list)"
      ]
    },
    {
      "cell_type": "code",
      "source": [
        "q_table.shape"
      ],
      "metadata": {
        "id": "V-FNZ01-qutO"
      },
      "execution_count": null,
      "outputs": []
    },
    {
      "cell_type": "code",
      "source": [
        "q_table.loc[(1,10,0),:]"
      ],
      "metadata": {
        "id": "CM5HVcKipFZo"
      },
      "execution_count": null,
      "outputs": []
    },
    {
      "cell_type": "code",
      "source": [
        "q_table.loc[(0,-12,0),:]"
      ],
      "metadata": {
        "id": "8ErFr3x9pkIT"
      },
      "execution_count": null,
      "outputs": []
    },
    {
      "cell_type": "code",
      "execution_count": null,
      "metadata": {
        "id": "mI5uiUJuhPrG"
      },
      "outputs": [],
      "source": [
        "# Dado el nivel de inventario, veremos que da mas recompensa:\n",
        "# Azul: Es mejor seguir produciendo\n",
        "# Rojo: Es mejor dar mantenimiento preventivo (PM)\n",
        "# Naranja: Apagar la máquina\n",
        "\n",
        "x = np.arange(0,6)\n",
        "y = np.arange(-40,41)\n",
        "fig, ax = plt.subplots()\n",
        "red_patch = mpatches.Patch(color='red', label='pm')\n",
        "blue_patch = mpatches.Patch(color='blue', label='production')\n",
        "orange_patch = mpatches.Patch(color='orange', label='rest')\n",
        "#ax.legend(handles=[orange_patch, red_patch, blue_patch])\n",
        "\n",
        "for i in range(INVENTORY_LEVEL//2 * -1, INVENTORY_LEVEL//2+1):\n",
        "    for j in range(STAGE-1):\n",
        "\n",
        "        if j >= 1:\n",
        "            production_value = q_table.loc[(j, i, 0), 0]\n",
        "            pm_value = q_table.loc[(j, i, 0), 1]\n",
        "            rest_value = q_table.loc[(j,i, 0), 4]\n",
        "\n",
        "            if max(production_value, pm_value, rest_value) == production_value:\n",
        "                ax.scatter(j,i, c='blue', s=5)\n",
        "            elif max(production_value, pm_value, rest_value) == pm_value:\n",
        "                ax.scatter(j,i,c='red',s=5)\n",
        "            elif max(production_value, pm_value, rest_value) == rest_value:\n",
        "                ax.scatter(j,i,c='orange', s=5)\n",
        "            else:\n",
        "                continue\n",
        "        else:\n",
        "            production_value = q_table.loc[(j, i, 0), 0]\n",
        "            rest_value = q_table.loc[(j, i, 0), 4]\n",
        "            if production_value > rest_value:\n",
        "                ax.scatter(j,i, c='blue', s=5)\n",
        "            elif production_value < rest_value:\n",
        "                ax.scatter(j,i,c='orange', s=5)\n",
        "            else:\n",
        "                continue\n",
        "\n",
        "plt.xlabel(\"machine_age_stage\")\n",
        "plt.ylabel(\"inventory_level\")\n",
        "plt.title(\"pm_policy\")\n",
        "plt.show()\n"
      ]
    },
    {
      "cell_type": "code",
      "execution_count": null,
      "metadata": {
        "id": "jmLPmiNyhPrH"
      },
      "outputs": [],
      "source": [
        "# Azul: Es mejor seguir produciendo\n",
        "# Rojo: Es mejor dar mantenimiento preventivo (PM)\n",
        "# Naranja: Apagar la máquina"
      ]
    },
    {
      "cell_type": "markdown",
      "source": [
        "# Referencias\n",
        "\n",
        "[Reinforcement Learning: Preventive Maintenance](https://github.com/jerryshen1216/ORA_Project_RL_PM)"
      ],
      "metadata": {
        "id": "VBlGlDi1sTac"
      }
    }
  ],
  "metadata": {
    "kernelspec": {
      "display_name": "Python 3",
      "language": "python",
      "name": "python3"
    },
    "language_info": {
      "codemirror_mode": {
        "name": "ipython",
        "version": 3
      },
      "file_extension": ".py",
      "mimetype": "text/x-python",
      "name": "python",
      "nbconvert_exporter": "python",
      "pygments_lexer": "ipython3",
      "version": "3.8.3"
    },
    "colab": {
      "provenance": []
    }
  },
  "nbformat": 4,
  "nbformat_minor": 0
}