{
  "nbformat": 4,
  "nbformat_minor": 0,
  "metadata": {
    "colab": {
      "provenance": []
    },
    "kernelspec": {
      "name": "python3",
      "display_name": "Python 3"
    },
    "language_info": {
      "name": "python"
    }
  },
  "cells": [
    {
      "cell_type": "markdown",
      "source": [
        "[![Open In Colab](https://colab.research.google.com/assets/colab-badge.svg)](https://colab.research.google.com/github/MaxMitre/DeepLearning/blob/main/Semana05_2_DQN_Video.ipyn)"
      ],
      "metadata": {
        "id": "jX7pnLAN-Mjo"
      }
    },
    {
      "cell_type": "markdown",
      "source": [
        "# Generación de video para ejemplo del Taxi"
      ],
      "metadata": {
        "id": "GRGeBYLznO84"
      }
    },
    {
      "cell_type": "code",
      "source": [
        "!pip install PyVirtualDisplay"
      ],
      "metadata": {
        "colab": {
          "base_uri": "https://localhost:8080/"
        },
        "id": "FQn8-nsovgiQ",
        "outputId": "3c321e10-7021-44cb-fce1-0923d91e8827"
      },
      "execution_count": null,
      "outputs": [
        {
          "output_type": "stream",
          "name": "stdout",
          "text": [
            "Collecting PyVirtualDisplay\n",
            "  Downloading PyVirtualDisplay-3.0-py3-none-any.whl.metadata (943 bytes)\n",
            "Downloading PyVirtualDisplay-3.0-py3-none-any.whl (15 kB)\n",
            "Installing collected packages: PyVirtualDisplay\n",
            "Successfully installed PyVirtualDisplay-3.0\n"
          ]
        }
      ]
    },
    {
      "cell_type": "code",
      "source": [
        "from google.colab import drive\n",
        "drive.mount('/content/drive')"
      ],
      "metadata": {
        "colab": {
          "base_uri": "https://localhost:8080/"
        },
        "id": "il-IP1dBFS29",
        "outputId": "a1a75377-0907-4b3a-d995-07cc8c57884d"
      },
      "execution_count": null,
      "outputs": [
        {
          "output_type": "stream",
          "name": "stdout",
          "text": [
            "Mounted at /content/drive\n"
          ]
        }
      ]
    },
    {
      "cell_type": "code",
      "source": [
        "import gym\n",
        "import numpy as np\n",
        "import PIL.Image\n",
        "from collections import namedtuple, deque\n",
        "\n",
        "import tensorflow as tf\n",
        "from pyvirtualdisplay import Display\n",
        "from tensorflow.keras import Sequential\n",
        "from tensorflow.keras.layers import Dense, Input\n",
        "from tensorflow.keras.losses import MSE\n",
        "from tensorflow.keras.optimizers import Adam\n",
        "\n",
        "import random"
      ],
      "metadata": {
        "id": "PtYJXVG4vbY_"
      },
      "execution_count": null,
      "outputs": []
    },
    {
      "cell_type": "code",
      "source": [
        "!apt-get install -y xvfb"
      ],
      "metadata": {
        "colab": {
          "base_uri": "https://localhost:8080/"
        },
        "id": "QzBrYsEDwTK1",
        "outputId": "3a8195ed-ec04-47ac-8b17-2861bc0bb896"
      },
      "execution_count": null,
      "outputs": [
        {
          "output_type": "stream",
          "name": "stderr",
          "text": [
            "/usr/local/lib/python3.10/dist-packages/ipykernel/ipkernel.py:283: DeprecationWarning: `should_run_async` will not call `transform_cell` automatically in the future. Please pass the result to `transformed_cell` argument and any exception that happen during thetransform in `preprocessing_exc_tuple` in IPython 7.17 and above.\n",
            "  and should_run_async(code)\n"
          ]
        },
        {
          "output_type": "stream",
          "name": "stdout",
          "text": [
            "Reading package lists... Done\n",
            "Building dependency tree... Done\n",
            "Reading state information... Done\n",
            "The following additional packages will be installed:\n",
            "  libfontenc1 libxfont2 libxkbfile1 x11-xkb-utils xfonts-base xfonts-encodings xfonts-utils\n",
            "  xserver-common\n",
            "The following NEW packages will be installed:\n",
            "  libfontenc1 libxfont2 libxkbfile1 x11-xkb-utils xfonts-base xfonts-encodings xfonts-utils\n",
            "  xserver-common xvfb\n",
            "0 upgraded, 9 newly installed, 0 to remove and 45 not upgraded.\n",
            "Need to get 7,813 kB of archives.\n",
            "After this operation, 11.9 MB of additional disk space will be used.\n",
            "Get:1 http://archive.ubuntu.com/ubuntu jammy/main amd64 libfontenc1 amd64 1:1.1.4-1build3 [14.7 kB]\n",
            "Get:2 http://archive.ubuntu.com/ubuntu jammy/main amd64 libxfont2 amd64 1:2.0.5-1build1 [94.5 kB]\n",
            "Get:3 http://archive.ubuntu.com/ubuntu jammy/main amd64 libxkbfile1 amd64 1:1.1.0-1build3 [71.8 kB]\n",
            "Get:4 http://archive.ubuntu.com/ubuntu jammy/main amd64 x11-xkb-utils amd64 7.7+5build4 [172 kB]\n",
            "Get:5 http://archive.ubuntu.com/ubuntu jammy/main amd64 xfonts-encodings all 1:1.0.5-0ubuntu2 [578 kB]\n",
            "Get:6 http://archive.ubuntu.com/ubuntu jammy/main amd64 xfonts-utils amd64 1:7.7+6build2 [94.6 kB]\n",
            "Get:7 http://archive.ubuntu.com/ubuntu jammy/main amd64 xfonts-base all 1:1.0.5 [5,896 kB]\n",
            "Get:8 http://archive.ubuntu.com/ubuntu jammy-updates/main amd64 xserver-common all 2:21.1.4-2ubuntu1.7~22.04.11 [28.6 kB]\n",
            "Get:9 http://archive.ubuntu.com/ubuntu jammy-updates/universe amd64 xvfb amd64 2:21.1.4-2ubuntu1.7~22.04.11 [863 kB]\n",
            "Fetched 7,813 kB in 3s (2,850 kB/s)\n",
            "Selecting previously unselected package libfontenc1:amd64.\n",
            "(Reading database ... 123594 files and directories currently installed.)\n",
            "Preparing to unpack .../0-libfontenc1_1%3a1.1.4-1build3_amd64.deb ...\n",
            "Unpacking libfontenc1:amd64 (1:1.1.4-1build3) ...\n",
            "Selecting previously unselected package libxfont2:amd64.\n",
            "Preparing to unpack .../1-libxfont2_1%3a2.0.5-1build1_amd64.deb ...\n",
            "Unpacking libxfont2:amd64 (1:2.0.5-1build1) ...\n",
            "Selecting previously unselected package libxkbfile1:amd64.\n",
            "Preparing to unpack .../2-libxkbfile1_1%3a1.1.0-1build3_amd64.deb ...\n",
            "Unpacking libxkbfile1:amd64 (1:1.1.0-1build3) ...\n",
            "Selecting previously unselected package x11-xkb-utils.\n",
            "Preparing to unpack .../3-x11-xkb-utils_7.7+5build4_amd64.deb ...\n",
            "Unpacking x11-xkb-utils (7.7+5build4) ...\n",
            "Selecting previously unselected package xfonts-encodings.\n",
            "Preparing to unpack .../4-xfonts-encodings_1%3a1.0.5-0ubuntu2_all.deb ...\n",
            "Unpacking xfonts-encodings (1:1.0.5-0ubuntu2) ...\n",
            "Selecting previously unselected package xfonts-utils.\n",
            "Preparing to unpack .../5-xfonts-utils_1%3a7.7+6build2_amd64.deb ...\n",
            "Unpacking xfonts-utils (1:7.7+6build2) ...\n",
            "Selecting previously unselected package xfonts-base.\n",
            "Preparing to unpack .../6-xfonts-base_1%3a1.0.5_all.deb ...\n",
            "Unpacking xfonts-base (1:1.0.5) ...\n",
            "Selecting previously unselected package xserver-common.\n",
            "Preparing to unpack .../7-xserver-common_2%3a21.1.4-2ubuntu1.7~22.04.11_all.deb ...\n",
            "Unpacking xserver-common (2:21.1.4-2ubuntu1.7~22.04.11) ...\n",
            "Selecting previously unselected package xvfb.\n",
            "Preparing to unpack .../8-xvfb_2%3a21.1.4-2ubuntu1.7~22.04.11_amd64.deb ...\n",
            "Unpacking xvfb (2:21.1.4-2ubuntu1.7~22.04.11) ...\n",
            "Setting up libfontenc1:amd64 (1:1.1.4-1build3) ...\n",
            "Setting up xfonts-encodings (1:1.0.5-0ubuntu2) ...\n",
            "Setting up libxkbfile1:amd64 (1:1.1.0-1build3) ...\n",
            "Setting up libxfont2:amd64 (1:2.0.5-1build1) ...\n",
            "Setting up x11-xkb-utils (7.7+5build4) ...\n",
            "Setting up xfonts-utils (1:7.7+6build2) ...\n",
            "Setting up xfonts-base (1:1.0.5) ...\n",
            "Setting up xserver-common (2:21.1.4-2ubuntu1.7~22.04.11) ...\n",
            "Setting up xvfb (2:21.1.4-2ubuntu1.7~22.04.11) ...\n",
            "Processing triggers for man-db (2.10.2-1) ...\n",
            "Processing triggers for fontconfig (2.13.1-4.2ubuntu5) ...\n",
            "Processing triggers for libc-bin (2.35-0ubuntu3.4) ...\n",
            "/sbin/ldconfig.real: /usr/local/lib/libtbbbind_2_0.so.3 is not a symbolic link\n",
            "\n",
            "/sbin/ldconfig.real: /usr/local/lib/libtbbbind.so.3 is not a symbolic link\n",
            "\n",
            "/sbin/ldconfig.real: /usr/local/lib/libur_loader.so.0 is not a symbolic link\n",
            "\n",
            "/sbin/ldconfig.real: /usr/local/lib/libtbbmalloc.so.2 is not a symbolic link\n",
            "\n",
            "/sbin/ldconfig.real: /usr/local/lib/libur_adapter_opencl.so.0 is not a symbolic link\n",
            "\n",
            "/sbin/ldconfig.real: /usr/local/lib/libtbbmalloc_proxy.so.2 is not a symbolic link\n",
            "\n",
            "/sbin/ldconfig.real: /usr/local/lib/libtbb.so.12 is not a symbolic link\n",
            "\n",
            "/sbin/ldconfig.real: /usr/local/lib/libur_adapter_level_zero.so.0 is not a symbolic link\n",
            "\n",
            "/sbin/ldconfig.real: /usr/local/lib/libtbbbind_2_5.so.3 is not a symbolic link\n",
            "\n"
          ]
        }
      ]
    },
    {
      "cell_type": "code",
      "source": [
        "!pip install xvfbwrapper"
      ],
      "metadata": {
        "colab": {
          "base_uri": "https://localhost:8080/"
        },
        "id": "rmtn_pznvzzk",
        "outputId": "bd3cc501-6781-4f0f-c4d8-07fe953208e2"
      },
      "execution_count": null,
      "outputs": [
        {
          "output_type": "stream",
          "name": "stdout",
          "text": [
            "Collecting xvfbwrapper\n",
            "  Downloading xvfbwrapper-0.2.9.tar.gz (5.6 kB)\n",
            "  Preparing metadata (setup.py) ... \u001b[?25l\u001b[?25hdone\n",
            "Building wheels for collected packages: xvfbwrapper\n",
            "  Building wheel for xvfbwrapper (setup.py) ... \u001b[?25l\u001b[?25hdone\n",
            "  Created wheel for xvfbwrapper: filename=xvfbwrapper-0.2.9-py3-none-any.whl size=5009 sha256=669d2ef7db23dbff4de157ac26b66f6da4df91cd0e5c6af8511e8850098860de\n",
            "  Stored in directory: /root/.cache/pip/wheels/cb/10/7d/2b7fdffccf837f7d5425931575fbee9caebe2c190931f9058b\n",
            "Successfully built xvfbwrapper\n",
            "Installing collected packages: xvfbwrapper\n",
            "Successfully installed xvfbwrapper-0.2.9\n"
          ]
        }
      ]
    },
    {
      "cell_type": "code",
      "execution_count": null,
      "metadata": {
        "colab": {
          "base_uri": "https://localhost:8080/"
        },
        "id": "SR-nY7QHvQZ6",
        "outputId": "abc6ecee-975b-4b8d-f3f1-6709536c2091"
      },
      "outputs": [
        {
          "output_type": "stream",
          "name": "stderr",
          "text": [
            "/usr/local/lib/python3.10/dist-packages/gym/core.py:317: DeprecationWarning: \u001b[33mWARN: Initializing wrapper in old step API which returns one bool instead of two. It is recommended to set `new_step_api=True` to use new step API. This will be the default behaviour in future.\u001b[0m\n",
            "  deprecation(\n",
            "/usr/local/lib/python3.10/dist-packages/gym/wrappers/step_api_compatibility.py:39: DeprecationWarning: \u001b[33mWARN: Initializing environment in old step API which returns one bool instead of two. It is recommended to set `new_step_api=True` to use new step API. This will be the default behaviour in future.\u001b[0m\n",
            "  deprecation(\n"
          ]
        }
      ],
      "source": [
        "Display(visible=False, size=(840, 480)).start()\n",
        "tf.random.set_seed(0)\n",
        "\n",
        "env = gym.make(\"Taxi-v3\")\n",
        "env.reset()\n",
        "\n",
        "MEMORY_SIZE = 100_000\n",
        "GAMMA = 0.95\n",
        "ALPHA = 0.001\n",
        "NUM_STEPS_FOR_UPDATE = 4\n",
        "\n",
        "experience = namedtuple(\"Experience\", field_names=[\"state\", \"action\", \"reward\", \"next_state\", \"done\"])\n",
        "\n",
        "num_states = env.observation_space.n\n",
        "num_actions = env.action_space.n\n",
        "\n",
        "q_network = Sequential([\n",
        "    Input(shape=(num_states,)),\n",
        "    Dense(64, activation=\"relu\"),\n",
        "    Dense(64, activation=\"relu\"),\n",
        "    Dense(num_actions, activation=\"linear\")\n",
        "])\n",
        "\n",
        "target_q_network = Sequential([\n",
        "    Input(shape=(num_states,)),\n",
        "    Dense(64, activation=\"relu\"),\n",
        "    Dense(64, activation=\"relu\"),\n",
        "    Dense(num_actions, activation=\"linear\")\n",
        "])\n",
        "\n",
        "optimizer = Adam(learning_rate=ALPHA)\n",
        "\n",
        "def compute_loss(experiences, gamma, q_network, target_q_network):\n",
        "  states, actions, rewards, next_states, done_vals = experiences\n",
        "  max_qsa = tf.reduce_max(target_q_network(next_states), axis=-1)\n",
        "  y_targets = rewards + (gamma * max_qsa * (1-done_vals))\n",
        "  q_values = q_network(states)\n",
        "  q_values = tf.gather_nd(q_values, tf.stack([tf.range(q_values.shape[0]),\n",
        "                                                tf.cast(actions, tf.int32)], axis=1))\n",
        "  loss = MSE(y_targets, q_values)\n",
        "\n",
        "  return loss\n",
        "\n",
        "def update_target_network(q_network, target_q_network):\n",
        "  TAU=1e-3\n",
        "  for target_weights, q_network_weights in zip(target_q_network.weights, q_network.weights):\n",
        "    target_weights.assign(TAU * q_network_weights + (1.0-TAU) * target_weights)\n",
        "\n",
        "@tf.function\n",
        "def agent_learn(experiences, gamma, q_network, target_q_network, optimizer):\n",
        "  with tf.GradientTape() as tape:\n",
        "    loss = compute_loss(experiences, gamma, q_network, target_q_network)\n",
        "  gradients = tape.gradient(loss, q_network.trainable_variables)\n",
        "  optimizer.apply_gradients(zip(gradients, q_network.trainable_variables))\n",
        "  update_target_network(q_network, target_q_network)\n",
        "\n",
        "def get_action(q_values, epsilon=0):\n",
        "  if random.random() > epsilon:\n",
        "    return np.argmax(q_values.numpy()[0])\n",
        "  else:\n",
        "    return random.choice(np.arange(6))\n",
        "\n",
        "def check_update_conditions(j, NUM_STEPS_FOR_UPDATE, memory_buffer):\n",
        "  if(j+1) % NUM_STEPS_FOR_UPDATE == 0 and len(memory_buffer) > 64:\n",
        "    return True\n",
        "  else:\n",
        "    return False\n",
        "\n",
        "def get_experiences(memory_buffer):\n",
        "    experiences = random.sample(memory_buffer, k=64)\n",
        "    states = tf.convert_to_tensor(np.array([e.state for e in experiences if e is not None]),dtype=tf.float32)\n",
        "    actions = tf.convert_to_tensor(np.array([e.action for e in experiences if e is not None]), dtype=tf.float32)\n",
        "    rewards = tf.convert_to_tensor(np.array([e.reward for e in experiences if e is not None]), dtype=tf.float32)\n",
        "    next_states = tf.convert_to_tensor(np.array([e.next_state for e in experiences if e is not None]),dtype=tf.float32)\n",
        "    done_vals = tf.convert_to_tensor(np.array([e.done for e in experiences if e is not None]).astype(np.uint8),\n",
        "                                     dtype=tf.float32)\n",
        "    return (states, actions, rewards, next_states, done_vals)\n",
        "\n",
        "def get_new_epsilon(epsilon):\n",
        "  E_MIN = 0.01\n",
        "  E_DECAY = 0.05\n",
        "  return max(E_MIN, E_DECAY * epsilon)\n",
        "\n",
        "def get_one_hot_encoding(state, next_state):\n",
        "\n",
        "  state_arr = np.zeros(500)\n",
        "  next_state_arr = np.zeros(500)\n",
        "\n",
        "  state_arr[state] = 1\n",
        "  next_state_arr[next_state] = 1\n",
        "\n",
        "  return state_arr, next_state_arr\n",
        "\n",
        "\n",
        "from gym.envs.toy_text.frozen_lake import generate_random_map\n",
        "\n",
        "def train():\n",
        "\n",
        "  NUM_EPISODES = 50000\n",
        "  MAX_TIMESTEPS = 1000\n",
        "\n",
        "  memory_buffer = deque(maxlen=MEMORY_SIZE)\n",
        "  target_q_network.set_weights(q_network.get_weights())\n",
        "\n",
        "  epsilon = 1.0\n",
        "\n",
        "  points_history = []\n",
        "\n",
        "  for i in range(NUM_EPISODES):\n",
        "\n",
        "    state = env.reset()\n",
        "    state, _ = get_one_hot_encoding(state, 0)\n",
        "    total_points = 0\n",
        "\n",
        "    for j in range(MAX_TIMESTEPS):\n",
        "\n",
        "      state_qn = np.expand_dims(state, axis=0)\n",
        "      q_values = q_network(state_qn)\n",
        "      action = get_action(q_values, epsilon)\n",
        "      next_state, reward, done, _ = env.step(action)\n",
        "\n",
        "      _, next_state = get_one_hot_encoding(0, next_state)\n",
        "\n",
        "      memory_buffer.append(experience(state, action, reward, next_state, done))\n",
        "\n",
        "      update = check_update_conditions(j, NUM_STEPS_FOR_UPDATE, memory_buffer)\n",
        "\n",
        "      if update:\n",
        "        experiences = get_experiences(memory_buffer)\n",
        "        agent_learn(experiences, GAMMA, q_network, target_q_network, optimizer)\n",
        "\n",
        "      state = next_state.copy()\n",
        "      total_points += reward\n",
        "\n",
        "      if done:\n",
        "        break\n",
        "\n",
        "    points_history.append(total_points)\n",
        "    avg_points = np.mean(points_history[-100:])\n",
        "\n",
        "    epsilon = get_new_epsilon(epsilon)\n",
        "\n",
        "    print(f\"\\rEpisode {i+1} | Total point average of the last {100} episodes: {avg_points:.2f}\", end=\"\")\n",
        "\n",
        "    if (i+1) % 100 == 0:\n",
        "        print(f\"\\rEpisode {i+1} | Total point average of the last {100} episodes: {avg_points:.2f}\")\n",
        "\n",
        "    if(avg_points >= 8):\n",
        "      print(f\"Environment solved in {i+1} episodes!\")\n",
        "      #q_network.save('/content/drive/MyDrive/Curso-DeepLearning/Semana6/taxi_mp4/taxi_model.h5')\n",
        "      break\n",
        "\n",
        "\n",
        "#train()"
      ]
    },
    {
      "cell_type": "code",
      "source": [
        "q_network"
      ],
      "metadata": {
        "colab": {
          "base_uri": "https://localhost:8080/"
        },
        "id": "kYzLAmRtFk5u",
        "outputId": "a4f0b90f-01fe-409a-8e11-d4a7bf1fa991"
      },
      "execution_count": null,
      "outputs": [
        {
          "output_type": "execute_result",
          "data": {
            "text/plain": [
              "<Sequential name=sequential_1, built=True>"
            ]
          },
          "metadata": {},
          "execution_count": 9
        }
      ]
    },
    {
      "cell_type": "code",
      "source": [
        "import gym\n",
        "import numpy as np\n",
        "import tensorflow as tf\n",
        "import logging\n",
        "import imageio"
      ],
      "metadata": {
        "id": "ugsn2wQryOgy"
      },
      "execution_count": null,
      "outputs": []
    },
    {
      "cell_type": "code",
      "source": [
        "#q_network.save('/content/drive/MyDrive/Curso-DeepLearning/taxi_model.h5')"
      ],
      "metadata": {
        "id": "_C3svDy8BVu7"
      },
      "execution_count": null,
      "outputs": []
    },
    {
      "cell_type": "code",
      "source": [
        "logging.getLogger().setLevel(logging.ERROR)\n",
        "\n",
        "env = gym.make(\"Taxi-v3\")\n",
        "\n",
        "q_network = tf.keras.models.load_model('/content/drive/MyDrive/Curso-DeepLearning/taxi_model.h5')\n",
        "\n",
        "def get_one_hot_encoding(state, next_state):\n",
        "\n",
        "  state_arr = np.zeros(500)\n",
        "  next_state_arr = np.zeros(500)\n",
        "\n",
        "  state_arr[state] = 1\n",
        "  next_state_arr[next_state] = 1\n",
        "\n",
        "  return state_arr, next_state_arr\n",
        "\n",
        "def create_video(filename, env, q_network, fps=30):\n",
        "  video = imageio.get_writer(filename, fps=fps)\n",
        "  done = False\n",
        "  state = env.reset()\n",
        "  frame = env.render(mode=\"rgb_array\")\n",
        "  video.append_data(frame)\n",
        "  while not done:\n",
        "    state, _ = get_one_hot_encoding(state, 0)\n",
        "    state = np.expand_dims(state, axis=0)\n",
        "    q_values = q_network(state)\n",
        "    action = np.argmax(q_values.numpy()[0])\n",
        "    state, _, done, _ = env.step(action)\n",
        "    frame = env.render(mode=\"rgb_array\")\n",
        "    video.append_data(frame)\n",
        "    for k in range(20):\n",
        "      video.append_data(frame)\n",
        "\n",
        "filename = \"./taxi.mp4\"\n",
        "\n",
        "create_video(filename, env, q_network)"
      ],
      "metadata": {
        "id": "1qH7wQ5VyND5",
        "colab": {
          "base_uri": "https://localhost:8080/"
        },
        "outputId": "ce2facde-7e51-41a8-e785-265db47bea5d"
      },
      "execution_count": null,
      "outputs": [
        {
          "output_type": "stream",
          "name": "stderr",
          "text": [
            "/usr/local/lib/python3.10/dist-packages/gym/core.py:43: DeprecationWarning: \u001b[33mWARN: The argument mode in render method is deprecated; use render_mode during environment initialization instead.\n",
            "See here for more information: https://www.gymlibrary.ml/content/api/\u001b[0m\n",
            "  deprecation(\n",
            "/usr/lib/python3.10/subprocess.py:1796: RuntimeWarning: os.fork() was called. os.fork() is incompatible with multithreaded code, and JAX is multithreaded, so this will likely lead to a deadlock.\n",
            "  self.pid = _posixsubprocess.fork_exec(\n",
            "/usr/local/lib/python3.10/dist-packages/gym/utils/passive_env_checker.py:241: DeprecationWarning: `np.bool8` is a deprecated alias for `np.bool_`.  (Deprecated NumPy 1.24)\n",
            "  if not isinstance(terminated, (bool, np.bool8)):\n"
          ]
        }
      ]
    },
    {
      "cell_type": "markdown",
      "source": [
        "# Referencias:\n",
        "\n",
        "https://colab.research.google.com/drive/1lNKG5F1kSR-Uf2jA2yjm08qVewful5t8#scrollTo=1qH7wQ5VyND5"
      ],
      "metadata": {
        "id": "dz4rwspBmORM"
      }
    }
  ]
}